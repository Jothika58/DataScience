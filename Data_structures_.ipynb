{
  "nbformat": 4,
  "nbformat_minor": 0,
  "metadata": {
    "kernelspec": {
      "display_name": "Python 3",
      "language": "python",
      "name": "python3"
    },
    "language_info": {
      "codemirror_mode": {
        "name": "ipython",
        "version": 3
      },
      "file_extension": ".py",
      "mimetype": "text/x-python",
      "name": "python",
      "nbconvert_exporter": "python",
      "pygments_lexer": "ipython3",
      "version": "3.7.4"
    },
    "colab": {
      "name": "Data structures .ipynb",
      "provenance": [],
      "collapsed_sections": []
    }
  },
  "cells": [
    {
      "cell_type": "markdown",
      "metadata": {
        "id": "Zk_7xJRJ0gQx"
      },
      "source": [
        "## Lists, Dictionaries and Sets in Python"
      ]
    },
    {
      "cell_type": "markdown",
      "metadata": {
        "id": "ULtN4eI80gQ2"
      },
      "source": [
        "## Part 1\n",
        "\n",
        "### Lists in Python\n",
        "\n",
        "Sequences in Python are data structures that hold objects in an ordered array. Now, we will work on Lists, the most common sequence data types in Python."
      ]
    },
    {
      "cell_type": "code",
      "metadata": {
        "colab": {
          "base_uri": "https://localhost:8080/"
        },
        "id": "HQOvvRsD0gQ3",
        "outputId": "7ad0d5c7-5fda-4cf8-8817-8619f8e7f8bb"
      },
      "source": [
        "#Example \n",
        "l1 = ['learning', \"Python\", 'is fun?', True]\n",
        "print(l1)"
      ],
      "execution_count": 1,
      "outputs": [
        {
          "output_type": "stream",
          "text": [
            "['learning', 'Python', 'is fun?', True]\n"
          ],
          "name": "stdout"
        }
      ]
    },
    {
      "cell_type": "markdown",
      "metadata": {
        "id": "t4_fJ4eT0gQ5"
      },
      "source": [
        "List can also be created by using list() function. "
      ]
    },
    {
      "cell_type": "code",
      "metadata": {
        "colab": {
          "base_uri": "https://localhost:8080/"
        },
        "id": "b4RmeFgW0gQ6",
        "outputId": "13cd9203-5de8-40e7-de3a-fb0148da0ccf"
      },
      "source": [
        "#Example\n",
        "l2 = list((\"learning\", \"for\", \"life\", True))\n",
        "print(l2)"
      ],
      "execution_count": 2,
      "outputs": [
        {
          "output_type": "stream",
          "text": [
            "['learning', 'for', 'life', True]\n"
          ],
          "name": "stdout"
        }
      ]
    },
    {
      "cell_type": "markdown",
      "metadata": {
        "id": "f1k1ohCP0gQ6"
      },
      "source": [
        "Adding to an existing list\n"
      ]
    },
    {
      "cell_type": "code",
      "metadata": {
        "id": "zmXjQI9R0gQ7"
      },
      "source": [
        "#solution\n",
        "l1.append(10)"
      ],
      "execution_count": 3,
      "outputs": []
    },
    {
      "cell_type": "code",
      "metadata": {
        "colab": {
          "base_uri": "https://localhost:8080/"
        },
        "id": "EIO_c-gH0gQ8",
        "outputId": "1737b949-f803-4cd7-ebb6-b715069f0562"
      },
      "source": [
        "l1"
      ],
      "execution_count": 4,
      "outputs": [
        {
          "output_type": "execute_result",
          "data": {
            "text/plain": [
              "['learning', 'Python', 'is fun?', True, 10]"
            ]
          },
          "metadata": {
            "tags": []
          },
          "execution_count": 4
        }
      ]
    },
    {
      "cell_type": "markdown",
      "metadata": {
        "id": "r_jJz5_B0gQ9"
      },
      "source": [
        "Removing from an existing list\n"
      ]
    },
    {
      "cell_type": "code",
      "metadata": {
        "id": "qlpqYdiC0gQ-"
      },
      "source": [
        "l1.remove(10)"
      ],
      "execution_count": 5,
      "outputs": []
    },
    {
      "cell_type": "markdown",
      "metadata": {
        "id": "35Eg4acp0gQ-"
      },
      "source": [
        "Joining 2 lists\n"
      ]
    },
    {
      "cell_type": "code",
      "metadata": {
        "id": "zvHmnLVj0gQ_"
      },
      "source": [
        "l1 = ['learning', \"Python\", 'is fun?', True]\n",
        "l2 = list((\"learning\", \"for\", \"life\", True))"
      ],
      "execution_count": 6,
      "outputs": []
    },
    {
      "cell_type": "code",
      "metadata": {
        "colab": {
          "base_uri": "https://localhost:8080/"
        },
        "id": "D-NOKirY0gQ_",
        "outputId": "2f8c9aa7-859a-42e3-c315-196d25c86a36"
      },
      "source": [
        "l1+l2"
      ],
      "execution_count": 7,
      "outputs": [
        {
          "output_type": "execute_result",
          "data": {
            "text/plain": [
              "['learning', 'Python', 'is fun?', True, 'learning', 'for', 'life', True]"
            ]
          },
          "metadata": {
            "tags": []
          },
          "execution_count": 7
        }
      ]
    },
    {
      "cell_type": "code",
      "metadata": {
        "colab": {
          "base_uri": "https://localhost:8080/"
        },
        "id": "lChAX-qY0gRA",
        "outputId": "e5adc01f-4880-4eb8-969a-628873327b0a"
      },
      "source": [
        "l1.extend(l2)\n",
        "print(l1)"
      ],
      "execution_count": 8,
      "outputs": [
        {
          "output_type": "stream",
          "text": [
            "['learning', 'Python', 'is fun?', True, 'learning', 'for', 'life', True]\n"
          ],
          "name": "stdout"
        }
      ]
    },
    {
      "cell_type": "markdown",
      "metadata": {
        "id": "lmof21MO0gRA"
      },
      "source": [
        "Number List"
      ]
    },
    {
      "cell_type": "code",
      "metadata": {
        "id": "6lEcGqhp0gRB"
      },
      "source": [
        "l3 = [2,4,6,8]"
      ],
      "execution_count": 9,
      "outputs": []
    },
    {
      "cell_type": "code",
      "metadata": {
        "colab": {
          "base_uri": "https://localhost:8080/"
        },
        "id": "cDyXSZCI0gRB",
        "outputId": "52943d68-509e-4426-e41e-2317d9a31cff"
      },
      "source": [
        "sum(l3)"
      ],
      "execution_count": 10,
      "outputs": [
        {
          "output_type": "execute_result",
          "data": {
            "text/plain": [
              "20"
            ]
          },
          "metadata": {
            "tags": []
          },
          "execution_count": 10
        }
      ]
    },
    {
      "cell_type": "code",
      "metadata": {
        "colab": {
          "base_uri": "https://localhost:8080/"
        },
        "id": "EP4zq7eP0gRC",
        "outputId": "8dd1e0ac-0e4d-4d07-c628-b37836c88131"
      },
      "source": [
        "len(l3)"
      ],
      "execution_count": 11,
      "outputs": [
        {
          "output_type": "execute_result",
          "data": {
            "text/plain": [
              "4"
            ]
          },
          "metadata": {
            "tags": []
          },
          "execution_count": 11
        }
      ]
    },
    {
      "cell_type": "code",
      "metadata": {
        "colab": {
          "base_uri": "https://localhost:8080/"
        },
        "id": "iAzGS1Wf0gRC",
        "outputId": "8ff081b3-5e53-4ebf-863e-6a01849fd216"
      },
      "source": [
        "print(\"mean:\",sum(l3)/len(l3))"
      ],
      "execution_count": 12,
      "outputs": [
        {
          "output_type": "stream",
          "text": [
            "mean: 5.0\n"
          ],
          "name": "stdout"
        }
      ]
    },
    {
      "cell_type": "code",
      "metadata": {
        "colab": {
          "base_uri": "https://localhost:8080/"
        },
        "id": "GkfAhGRd0gRC",
        "outputId": "fa6ff385-e8f7-42de-b935-b8316a41ac99"
      },
      "source": [
        "min(l3)"
      ],
      "execution_count": 13,
      "outputs": [
        {
          "output_type": "execute_result",
          "data": {
            "text/plain": [
              "2"
            ]
          },
          "metadata": {
            "tags": []
          },
          "execution_count": 13
        }
      ]
    },
    {
      "cell_type": "code",
      "metadata": {
        "colab": {
          "base_uri": "https://localhost:8080/"
        },
        "id": "Rnum5m_T0gRD",
        "outputId": "cfb25c7e-385a-4ade-90d3-f46d172e6844"
      },
      "source": [
        "max(l3)"
      ],
      "execution_count": 14,
      "outputs": [
        {
          "output_type": "execute_result",
          "data": {
            "text/plain": [
              "8"
            ]
          },
          "metadata": {
            "tags": []
          },
          "execution_count": 14
        }
      ]
    },
    {
      "cell_type": "code",
      "metadata": {
        "colab": {
          "base_uri": "https://localhost:8080/"
        },
        "id": "sKtI-LF20gRD",
        "outputId": "e829c284-f265-4f63-fb6f-bfd11c0f28da"
      },
      "source": [
        "print(\"range:\",max(l3)-min(l3))"
      ],
      "execution_count": 15,
      "outputs": [
        {
          "output_type": "stream",
          "text": [
            "range: 6\n"
          ],
          "name": "stdout"
        }
      ]
    },
    {
      "cell_type": "markdown",
      "metadata": {
        "id": "kX4qNNhg0gRE"
      },
      "source": [
        "Count the occurances of an element in a given list.\n"
      ]
    },
    {
      "cell_type": "code",
      "metadata": {
        "colab": {
          "base_uri": "https://localhost:8080/"
        },
        "id": "zAiak-8g0gRE",
        "outputId": "019ca2f1-1fad-4f3c-cd7a-6ba179b17469"
      },
      "source": [
        "(l3 + [0,1,3,3,5,5,7,9]).count(5)"
      ],
      "execution_count": 16,
      "outputs": [
        {
          "output_type": "execute_result",
          "data": {
            "text/plain": [
              "2"
            ]
          },
          "metadata": {
            "tags": []
          },
          "execution_count": 16
        }
      ]
    },
    {
      "cell_type": "markdown",
      "metadata": {
        "id": "8Cb-hPF00gRF"
      },
      "source": [
        "Sorting and Reversing a list\n"
      ]
    },
    {
      "cell_type": "code",
      "metadata": {
        "colab": {
          "base_uri": "https://localhost:8080/"
        },
        "id": "SEJMte5z0gRF",
        "outputId": "f674e38f-046a-4faf-8ca4-30092868007c"
      },
      "source": [
        "l3.sort(reverse = True)\n",
        "print(l3)"
      ],
      "execution_count": 17,
      "outputs": [
        {
          "output_type": "stream",
          "text": [
            "[8, 6, 4, 2]\n"
          ],
          "name": "stdout"
        }
      ]
    },
    {
      "cell_type": "markdown",
      "metadata": {
        "id": "3GczuLFt0gRG"
      },
      "source": [
        "### Functions"
      ]
    },
    {
      "cell_type": "markdown",
      "metadata": {
        "id": "jDCnMrMM0gRG"
      },
      "source": [
        "**Example:**\n",
        "\n",
        "**def** function_name(args)**:**\n",
        "    \n",
        "    function code goes here"
      ]
    },
    {
      "cell_type": "code",
      "metadata": {
        "id": "q55YUpdi0gRH"
      },
      "source": [
        "def sum_3(a,b,c): \n",
        "    d = a+b+c \n",
        "    return d"
      ],
      "execution_count": 18,
      "outputs": []
    },
    {
      "cell_type": "code",
      "metadata": {
        "colab": {
          "base_uri": "https://localhost:8080/"
        },
        "id": "uq0Dgg080gRH",
        "outputId": "ae4c74e7-bd60-45e9-d17f-03e09be66275"
      },
      "source": [
        "sum_3(2,3,5)"
      ],
      "execution_count": 19,
      "outputs": [
        {
          "output_type": "execute_result",
          "data": {
            "text/plain": [
              "10"
            ]
          },
          "metadata": {
            "tags": []
          },
          "execution_count": 19
        }
      ]
    },
    {
      "cell_type": "markdown",
      "metadata": {
        "id": "yesjwbFm0gRH"
      },
      "source": [
        "### Lambda Functions"
      ]
    },
    {
      "cell_type": "markdown",
      "metadata": {
        "id": "IxOzJPpR0gRI"
      },
      "source": [
        "Anonymous functions or no name functions, which can be considered when you use a function only once.\n",
        "\n",
        "**Example:**\n",
        "\n",
        "f = lambda x, y : x + y\n",
        "\n",
        "f(1,1)\n",
        "\n",
        "2\n"
      ]
    },
    {
      "cell_type": "markdown",
      "metadata": {
        "id": "jjK-iMAn0gRI"
      },
      "source": [
        "### Question 8\n",
        "\n",
        "Write the same above **sum_3** function using lambda."
      ]
    },
    {
      "cell_type": "code",
      "metadata": {
        "id": "WblGudC-0gRI"
      },
      "source": [
        "f = lambda x,y,z: x+y+z "
      ],
      "execution_count": 20,
      "outputs": []
    },
    {
      "cell_type": "code",
      "metadata": {
        "colab": {
          "base_uri": "https://localhost:8080/"
        },
        "id": "opo5NF_W0gRI",
        "outputId": "324bd366-257f-4468-8f9a-825af93e52ec"
      },
      "source": [
        "f(1,2,3)"
      ],
      "execution_count": 21,
      "outputs": [
        {
          "output_type": "execute_result",
          "data": {
            "text/plain": [
              "6"
            ]
          },
          "metadata": {
            "tags": []
          },
          "execution_count": 21
        }
      ]
    }
  ]
}