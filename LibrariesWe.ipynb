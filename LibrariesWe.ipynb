{
  "nbformat": 4,
  "nbformat_minor": 0,
  "metadata": {
    "colab": {
      "name": "LibrariesWe.ipynb",
      "provenance": [],
      "collapsed_sections": []
    },
    "kernelspec": {
      "name": "python3",
      "display_name": "Python 3"
    },
    "language_info": {
      "name": "python"
    }
  },
  "cells": [
    {
      "cell_type": "markdown",
      "metadata": {
        "id": "p2Vt7qvyI5Fe"
      },
      "source": [
        "#Games"
      ]
    },
    {
      "cell_type": "markdown",
      "metadata": {
        "id": "umv1L0hhJSfQ"
      },
      "source": [
        "Run in compiler promt for freegames library alone\n",
        "\n",
        "* python -m pip install freegames\n",
        "* python -m freegames list\n",
        "* python -m freegames.pacman"
      ]
    },
    {
      "cell_type": "code",
      "metadata": {
        "colab": {
          "base_uri": "https://localhost:8080/"
        },
        "id": "iKXxWQhiIlIb",
        "outputId": "b7ced73f-1c0e-4fba-e21c-261204f93167"
      },
      "source": [
        "!pip install freegames"
      ],
      "execution_count": 43,
      "outputs": [
        {
          "output_type": "stream",
          "text": [
            "Requirement already satisfied: freegames in /usr/local/lib/python3.7/dist-packages (2.3.2)\n"
          ],
          "name": "stdout"
        }
      ]
    },
    {
      "cell_type": "code",
      "metadata": {
        "colab": {
          "base_uri": "https://localhost:8080/"
        },
        "id": "kAq7Fg2gJBWg",
        "outputId": "fceda477-890c-414d-b118-cf40740031ee"
      },
      "source": [
        "import freegames\n",
        "help(freegames)"
      ],
      "execution_count": 44,
      "outputs": [
        {
          "output_type": "stream",
          "text": [
            "Help on package freegames:\n",
            "\n",
            "NAME\n",
            "    freegames - Free Python Games\n",
            "\n",
            "DESCRIPTION\n",
            "    Free Python Games is an Apache2 licensed collection of free Python games\n",
            "    intended for education and fun. The games are written in simple Python code and\n",
            "    designed for experimentation and changes. Simplified versions of several\n",
            "    classic arcade games are included.\n",
            "    \n",
            "    Python is one of the top-five most popular programming languages in the world\n",
            "    and available for free from www.python.org. Python includes an extensive\n",
            "    Standard Library distributed with your installation. The Standard Library has a\n",
            "    module called Turtle which is a popular way to introduce programming to\n",
            "    kids. Turtle was part of the original Logo programming language developed by\n",
            "    Wally Feurzig and Seymour Papert in 1966. All of the games in Free Python Games\n",
            "    are implemented using Python and its Turtle module.\n",
            "    \n",
            "    Starting in 2012, Free Python Games began as an after school program to teach\n",
            "    programming to inner-city youth. The goal was to have fun as much as it was to\n",
            "    learn. Since then the games have been improved and used in a variety of\n",
            "    settings ranging from classrooms to summer day-camps.\n",
            "    \n",
            "    The games run anywhere Python can be installed which includes desktop computers\n",
            "    running Windows, Mac OS, or Linux and older or low-power hardware such as the\n",
            "    Raspberry Pi. Kids across the United States in grades 6th-12th have enjoyed\n",
            "    learning about topics such as encryption and projectile motion through games.\n",
            "    \n",
            "    Each game is entirely independent from the others and includes comments along\n",
            "    with a list of exercises to work through with students. Creativity and\n",
            "    flexibility is important. There is no right or wrong way to implement a new\n",
            "    feature or behavior! You never know which games students will engage with best.\n",
            "    \n",
            "    Free Python Games supports a command-line interface (CLI). Help for the CLI is\n",
            "    available using::\n",
            "    \n",
            "      $ python3 -m freegames --help\n",
            "    \n",
            "    The CLI supports three commands: list, copy, and show. For a list of all games\n",
            "    run::\n",
            "    \n",
            "      $ python3 -m freegames list\n",
            "    \n",
            "    Any of the listed games may be played by executing the Python module from the\n",
            "    command-line. To reference the Python module, combine \"freegames\" with the name\n",
            "    of the game. For example, to play the \"snake\" game run::\n",
            "    \n",
            "      $ python3 -m freegames.snake\n",
            "    \n",
            "    Games can be modified by copying their source code. The copy command will\n",
            "    create a Python file in your local directory which you can edit. For example,\n",
            "    to copy and play the \"snake\" game run::\n",
            "    \n",
            "      $ python3 -m freegames copy snake\n",
            "      $ python3 snake.py\n",
            "    \n",
            "    Python includes a built-in text editor named IDLE which can also execute Python\n",
            "    code. To launch the editor and make changes to the \"snake\" game run::\n",
            "    \n",
            "      $ python3 -m idlelib.idle snake.py\n",
            "\n",
            "PACKAGE CONTENTS\n",
            "    __main__\n",
            "    ant\n",
            "    bagels\n",
            "    bounce\n",
            "    cannon\n",
            "    connect\n",
            "    crypto\n",
            "    fidget\n",
            "    flappy\n",
            "    guess\n",
            "    life\n",
            "    maze\n",
            "    memory\n",
            "    minesweeper\n",
            "    pacman\n",
            "    paint\n",
            "    pong\n",
            "    simonsays\n",
            "    snake\n",
            "    tictactoe\n",
            "    tiles\n",
            "    tron\n",
            "    utils\n",
            "\n",
            "CLASSES\n",
            "    collections.abc.Sequence(collections.abc.Reversible, collections.abc.Collection)\n",
            "        freegames.utils.vector\n",
            "    \n",
            "    class vector(collections.abc.Sequence)\n",
            "     |  vector(x, y)\n",
            "     |  \n",
            "     |  Two-dimensional vector.\n",
            "     |  \n",
            "     |  Vectors can be modified in-place.\n",
            "     |  \n",
            "     |  >>> v = vector(0, 1)\n",
            "     |  >>> v.move(1)\n",
            "     |  >>> v\n",
            "     |  vector(1, 2)\n",
            "     |  >>> v.rotate(90)\n",
            "     |  >>> v\n",
            "     |  vector(-2.0, 1.0)\n",
            "     |  \n",
            "     |  Method resolution order:\n",
            "     |      vector\n",
            "     |      collections.abc.Sequence\n",
            "     |      collections.abc.Reversible\n",
            "     |      collections.abc.Collection\n",
            "     |      collections.abc.Sized\n",
            "     |      collections.abc.Iterable\n",
            "     |      collections.abc.Container\n",
            "     |      builtins.object\n",
            "     |  \n",
            "     |  Methods defined here:\n",
            "     |  \n",
            "     |  __abs__(self)\n",
            "     |      v.__abs__() -> abs(v)\n",
            "     |      \n",
            "     |      >>> v = vector(3, 4)\n",
            "     |      >>> abs(v)\n",
            "     |      5.0\n",
            "     |  \n",
            "     |  __add__(self, other)\n",
            "     |      v.__add__(w) -> v + w\n",
            "     |      \n",
            "     |      >>> v = vector(1, 2)\n",
            "     |      >>> w = vector(3, 4)\n",
            "     |      >>> v + w\n",
            "     |      vector(4, 6)\n",
            "     |      >>> v + 1\n",
            "     |      vector(2, 3)\n",
            "     |      >>> 2.0 + v\n",
            "     |      vector(3.0, 4.0)\n",
            "     |  \n",
            "     |  __eq__(self, other)\n",
            "     |      v.__eq__(w) -> v == w\n",
            "     |      \n",
            "     |      >>> v = vector(1, 2)\n",
            "     |      >>> w = vector(1, 2)\n",
            "     |      >>> v == w\n",
            "     |      True\n",
            "     |  \n",
            "     |  __getitem__(self, index)\n",
            "     |      v.__getitem__(v, i) -> v[i]\n",
            "     |      \n",
            "     |      >>> v = vector(3, 4)\n",
            "     |      >>> v[0]\n",
            "     |      3\n",
            "     |      >>> v[1]\n",
            "     |      4\n",
            "     |      >>> v[2]\n",
            "     |      Traceback (most recent call last):\n",
            "     |          ...\n",
            "     |      IndexError\n",
            "     |  \n",
            "     |  __hash__(self)\n",
            "     |      v.__hash__() -> hash(v)\n",
            "     |      \n",
            "     |      >>> v = vector(1, 2)\n",
            "     |      >>> h = hash(v)\n",
            "     |      >>> v.x = 2\n",
            "     |      Traceback (most recent call last):\n",
            "     |          ...\n",
            "     |      ValueError: cannot set x after hashing\n",
            "     |  \n",
            "     |  __iadd__(self, other)\n",
            "     |      v.__iadd__(w) -> v += w\n",
            "     |      \n",
            "     |      >>> v = vector(1, 2)\n",
            "     |      >>> w = vector(3, 4)\n",
            "     |      >>> v += w\n",
            "     |      >>> v\n",
            "     |      vector(4, 6)\n",
            "     |      >>> v += 1\n",
            "     |      >>> v\n",
            "     |      vector(5, 7)\n",
            "     |  \n",
            "     |  __imul__(self, other)\n",
            "     |      v.__imul__(w) -> v *= w\n",
            "     |      \n",
            "     |      >>> v = vector(1, 2)\n",
            "     |      >>> w = vector(3, 4)\n",
            "     |      >>> v *= w\n",
            "     |      >>> v\n",
            "     |      vector(3, 8)\n",
            "     |      >>> v *= 2\n",
            "     |      >>> v\n",
            "     |      vector(6, 16)\n",
            "     |  \n",
            "     |  __init__(self, x, y)\n",
            "     |      Initialize vector with coordinates: x, y.\n",
            "     |      \n",
            "     |      >>> v = vector(1, 2)\n",
            "     |      >>> v.x\n",
            "     |      1\n",
            "     |      >>> v.y\n",
            "     |      2\n",
            "     |  \n",
            "     |  __isub__(self, other)\n",
            "     |      v.__isub__(w) -> v -= w\n",
            "     |      \n",
            "     |      >>> v = vector(1, 2)\n",
            "     |      >>> w = vector(3, 4)\n",
            "     |      >>> v -= w\n",
            "     |      >>> v\n",
            "     |      vector(-2, -2)\n",
            "     |      >>> v -= 1\n",
            "     |      >>> v\n",
            "     |      vector(-3, -3)\n",
            "     |  \n",
            "     |  __itruediv__(self, other)\n",
            "     |      v.__itruediv__(w) -> v /= w\n",
            "     |      \n",
            "     |      >>> v = vector(2, 4)\n",
            "     |      >>> w = vector(4, 8)\n",
            "     |      >>> v /= w\n",
            "     |      >>> v\n",
            "     |      vector(0.5, 0.5)\n",
            "     |      >>> v /= 2\n",
            "     |      >>> v\n",
            "     |      vector(0.25, 0.25)\n",
            "     |  \n",
            "     |  __len__(self)\n",
            "     |      v.__len__() -> len(v)\n",
            "     |      \n",
            "     |      >>> v = vector(1, 2)\n",
            "     |      >>> len(v)\n",
            "     |      2\n",
            "     |  \n",
            "     |  __mul__(self, other)\n",
            "     |      v.__mul__(w) -> v * w\n",
            "     |      \n",
            "     |      >>> v = vector(1, 2)\n",
            "     |      >>> w = vector(3, 4)\n",
            "     |      >>> v * w\n",
            "     |      vector(3, 8)\n",
            "     |      >>> v * 2\n",
            "     |      vector(2, 4)\n",
            "     |      >>> 3.0 * v\n",
            "     |      vector(3.0, 6.0)\n",
            "     |  \n",
            "     |  __ne__(self, other)\n",
            "     |      v.__ne__(w) -> v != w\n",
            "     |      \n",
            "     |      >>> v = vector(1, 2)\n",
            "     |      >>> w = vector(3, 4)\n",
            "     |      >>> v != w\n",
            "     |      True\n",
            "     |  \n",
            "     |  __neg__(self)\n",
            "     |      v.__neg__() -> -v\n",
            "     |      \n",
            "     |      >>> v = vector(1, 2)\n",
            "     |      >>> -v\n",
            "     |      vector(-1, -2)\n",
            "     |  \n",
            "     |  __radd__ = __add__(self, other)\n",
            "     |  \n",
            "     |  __repr__(self)\n",
            "     |      v.__repr__() -> repr(v)\n",
            "     |      \n",
            "     |      >>> v = vector(1, 2)\n",
            "     |      >>> repr(v)\n",
            "     |      'vector(1, 2)'\n",
            "     |  \n",
            "     |  __rmul__ = __mul__(self, other)\n",
            "     |  \n",
            "     |  __sub__(self, other)\n",
            "     |      v.__sub__(w) -> v - w\n",
            "     |      \n",
            "     |      >>> v = vector(1, 2)\n",
            "     |      >>> w = vector(3, 4)\n",
            "     |      >>> v - w\n",
            "     |      vector(-2, -2)\n",
            "     |      >>> v - 1\n",
            "     |      vector(0, 1)\n",
            "     |  \n",
            "     |  __truediv__(self, other)\n",
            "     |      v.__truediv__(w) -> v / w\n",
            "     |      \n",
            "     |      >>> v = vector(1, 2)\n",
            "     |      >>> w = vector(3, 4)\n",
            "     |      >>> w / v\n",
            "     |      vector(3.0, 2.0)\n",
            "     |      >>> v / 2\n",
            "     |      vector(0.5, 1.0)\n",
            "     |  \n",
            "     |  copy(self)\n",
            "     |      Return copy of vector.\n",
            "     |      \n",
            "     |      >>> v = vector(1, 2)\n",
            "     |      >>> w = v.copy()\n",
            "     |      >>> v is w\n",
            "     |      False\n",
            "     |  \n",
            "     |  move(self, other)\n",
            "     |      Move vector by other (in-place).\n",
            "     |      \n",
            "     |      >>> v = vector(1, 2)\n",
            "     |      >>> w = vector(3, 4)\n",
            "     |      >>> v.move(w)\n",
            "     |      >>> v\n",
            "     |      vector(4, 6)\n",
            "     |      >>> v.move(3)\n",
            "     |      >>> v\n",
            "     |      vector(7, 9)\n",
            "     |  \n",
            "     |  rotate(self, angle)\n",
            "     |      Rotate vector counter-clockwise by angle (in-place).\n",
            "     |      \n",
            "     |      >>> v = vector(1, 2)\n",
            "     |      >>> v.rotate(90)\n",
            "     |      >>> v == vector(-2, 1)\n",
            "     |      True\n",
            "     |  \n",
            "     |  scale(self, other)\n",
            "     |      Scale vector by other (in-place).\n",
            "     |      \n",
            "     |      >>> v = vector(1, 2)\n",
            "     |      >>> w = vector(3, 4)\n",
            "     |      >>> v.scale(w)\n",
            "     |      >>> v\n",
            "     |      vector(3, 8)\n",
            "     |      >>> v.scale(0.5)\n",
            "     |      >>> v\n",
            "     |      vector(1.5, 4.0)\n",
            "     |  \n",
            "     |  ----------------------------------------------------------------------\n",
            "     |  Data descriptors defined here:\n",
            "     |  \n",
            "     |  x\n",
            "     |      X-axis component of vector.\n",
            "     |      \n",
            "     |      >>> v = vector(1, 2)\n",
            "     |      >>> v.x\n",
            "     |      1\n",
            "     |      >>> v.x = 3\n",
            "     |      >>> v.x\n",
            "     |      3\n",
            "     |  \n",
            "     |  y\n",
            "     |      Y-axis component of vector.\n",
            "     |      \n",
            "     |      >>> v = vector(1, 2)\n",
            "     |      >>> v.y\n",
            "     |      2\n",
            "     |      >>> v.y = 5\n",
            "     |      >>> v.y\n",
            "     |      5\n",
            "     |  \n",
            "     |  ----------------------------------------------------------------------\n",
            "     |  Data and other attributes defined here:\n",
            "     |  \n",
            "     |  PRECISION = 6\n",
            "     |  \n",
            "     |  __abstractmethods__ = frozenset()\n",
            "     |  \n",
            "     |  ----------------------------------------------------------------------\n",
            "     |  Methods inherited from collections.abc.Sequence:\n",
            "     |  \n",
            "     |  __contains__(self, value)\n",
            "     |  \n",
            "     |  __iter__(self)\n",
            "     |  \n",
            "     |  __reversed__(self)\n",
            "     |  \n",
            "     |  count(self, value)\n",
            "     |      S.count(value) -> integer -- return number of occurrences of value\n",
            "     |  \n",
            "     |  index(self, value, start=0, stop=None)\n",
            "     |      S.index(value, [start, [stop]]) -> integer -- return first index of value.\n",
            "     |      Raises ValueError if the value is not present.\n",
            "     |      \n",
            "     |      Supporting start and stop arguments is optional, but\n",
            "     |      recommended.\n",
            "     |  \n",
            "     |  ----------------------------------------------------------------------\n",
            "     |  Class methods inherited from collections.abc.Reversible:\n",
            "     |  \n",
            "     |  __subclasshook__(C) from abc.ABCMeta\n",
            "     |      Abstract classes can override this to customize issubclass().\n",
            "     |      \n",
            "     |      This is invoked early on by abc.ABCMeta.__subclasscheck__().\n",
            "     |      It should return True, False or NotImplemented.  If it returns\n",
            "     |      NotImplemented, the normal algorithm is used.  Otherwise, it\n",
            "     |      overrides the normal algorithm (and the outcome is cached).\n",
            "\n",
            "FUNCTIONS\n",
            "    floor(value, size, offset=200)\n",
            "        Floor of `value` given `size` and `offset`.\n",
            "        \n",
            "        The floor function is best understood with a diagram of the number line::\n",
            "        \n",
            "             -200  -100    0    100   200\n",
            "            <--|--x--|-----|--y--|--z--|-->\n",
            "        \n",
            "        The number line shown has offset 200 denoted by the left-hand tick mark at\n",
            "        -200 and size 100 denoted by the tick marks at -100, 0, 100, and 200. The\n",
            "        floor of a value is the left-hand tick mark of the range where it lies. So\n",
            "        for the points show above: ``floor(x)`` is -200, ``floor(y)`` is 0, and\n",
            "        ``floor(z)`` is 100.\n",
            "        \n",
            "        >>> floor(10, 100)\n",
            "        0.0\n",
            "        >>> floor(120, 100)\n",
            "        100.0\n",
            "        >>> floor(-10, 100)\n",
            "        -100.0\n",
            "        >>> floor(-150, 100)\n",
            "        -200.0\n",
            "        >>> floor(50, 167)\n",
            "        -33.0\n",
            "    \n",
            "    line(a, b, x, y)\n",
            "        Draw line from `(a, b)` to `(x, y)`.\n",
            "    \n",
            "    path(filename)\n",
            "        Return full path to `filename` in freegames module.\n",
            "    \n",
            "    square(x, y, size, name)\n",
            "        Draw square at `(x, y)` with side length `size` and fill color `name`.\n",
            "        \n",
            "        The square is oriented so the bottom left corner is at (x, y).\n",
            "\n",
            "DATA\n",
            "    __all__ = ['floor', 'line', 'path', 'square', 'vector']\n",
            "    __build__ = 131842\n",
            "    __copyright__ = '2017-2020, Grant Jenks'\n",
            "    __license__ = 'Apache 2.0'\n",
            "    __title__ = 'freegames'\n",
            "\n",
            "VERSION\n",
            "    2.3.2\n",
            "\n",
            "AUTHOR\n",
            "    Grant Jenks\n",
            "\n",
            "FILE\n",
            "    /usr/local/lib/python3.7/dist-packages/freegames/__init__.py\n",
            "\n",
            "\n"
          ],
          "name": "stdout"
        }
      ]
    },
    {
      "cell_type": "markdown",
      "metadata": {
        "id": "WNgJQM4vOTIg"
      },
      "source": [
        "![2021-07-10 (4).png](data:image/png;base64,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)![2021-07-10 (3).png](data:image/png;base64,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)"
      ]
    },
    {
      "cell_type": "markdown",
      "metadata": {
        "id": "PZyu8fzyOnC7"
      },
      "source": [
        "CHESS"
      ]
    },
    {
      "cell_type": "code",
      "metadata": {
        "colab": {
          "base_uri": "https://localhost:8080/"
        },
        "id": "6_h3zIAfOXBx",
        "outputId": "f87d14a2-219b-4c13-f034-cfb20c2703ea"
      },
      "source": [
        "!pip install chess"
      ],
      "execution_count": 45,
      "outputs": [
        {
          "output_type": "stream",
          "text": [
            "Requirement already satisfied: chess in /usr/local/lib/python3.7/dist-packages (1.6.1)\n"
          ],
          "name": "stdout"
        }
      ]
    },
    {
      "cell_type": "code",
      "metadata": {
        "colab": {
          "base_uri": "https://localhost:8080/",
          "height": 410
        },
        "id": "QXAU1dX1O7HL",
        "outputId": "a5d793f8-7660-487c-c527-3f0d6af5742b"
      },
      "source": [
        "import chess\n",
        "\n",
        "board = chess.Board()\n",
        "\n",
        "board"
      ],
      "execution_count": 46,
      "outputs": [
        {
          "output_type": "execute_result",
          "data": {
            "text/plain": [
              "Board('rnbqkbnr/pppppppp/8/8/8/8/PPPPPPPP/RNBQKBNR w KQkq - 0 1')"
            ],
            "image/svg+xml": "<svg baseProfile=\"tiny\" height=\"390\" version=\"1.2\" viewBox=\"0 0 390 390\" width=\"390\" xmlns=\"http://www.w3.org/2000/svg\" xmlns:xlink=\"http://www.w3.org/1999/xlink\"><defs><g class=\"white pawn\" id=\"white-pawn\"><path d=\"M22.5 9c-2.21 0-4 1.79-4 4 0 .89.29 1.71.78 2.38C17.33 16.5 16 18.59 16 21c0 2.03.94 3.84 2.41 5.03-3 1.06-7.41 5.55-7.41 13.47h23c0-7.92-4.41-12.41-7.41-13.47 1.47-1.19 2.41-3 2.41-5.03 0-2.41-1.33-4.5-3.28-5.62.49-.67.78-1.49.78-2.38 0-2.21-1.79-4-4-4z\" fill=\"#fff\" stroke=\"#000\" stroke-linecap=\"round\" stroke-width=\"1.5\" /></g><g class=\"white knight\" fill=\"none\" fill-rule=\"evenodd\" id=\"white-knight\" stroke=\"#000\" stroke-linecap=\"round\" stroke-linejoin=\"round\" stroke-width=\"1.5\"><path d=\"M 22,10 C 32.5,11 38.5,18 38,39 L 15,39 C 15,30 25,32.5 23,18\" style=\"fill:#ffffff; stroke:#000000;\" /><path d=\"M 24,18 C 24.38,20.91 18.45,25.37 16,27 C 13,29 13.18,31.34 11,31 C 9.958,30.06 12.41,27.96 11,28 C 10,28 11.19,29.23 10,30 C 9,30 5.997,31 6,26 C 6,24 12,14 12,14 C 12,14 13.89,12.1 14,10.5 C 13.27,9.506 13.5,8.5 13.5,7.5 C 14.5,6.5 16.5,10 16.5,10 L 18.5,10 C 18.5,10 19.28,8.008 21,7 C 22,7 22,10 22,10\" style=\"fill:#ffffff; stroke:#000000;\" /><path d=\"M 9.5 25.5 A 0.5 0.5 0 1 1 8.5,25.5 A 0.5 0.5 0 1 1 9.5 25.5 z\" style=\"fill:#000000; stroke:#000000;\" /><path d=\"M 15 15.5 A 0.5 1.5 0 1 1 14,15.5 A 0.5 1.5 0 1 1 15 15.5 z\" style=\"fill:#000000; stroke:#000000;\" transform=\"matrix(0.866,0.5,-0.5,0.866,9.693,-5.173)\" /></g><g class=\"white bishop\" fill=\"none\" fill-rule=\"evenodd\" id=\"white-bishop\" stroke=\"#000\" stroke-linecap=\"round\" stroke-linejoin=\"round\" stroke-width=\"1.5\"><g fill=\"#fff\" stroke-linecap=\"butt\"><path d=\"M9 36c3.39-.97 10.11.43 13.5-2 3.39 2.43 10.11 1.03 13.5 2 0 0 1.65.54 3 2-.68.97-1.65.99-3 .5-3.39-.97-10.11.46-13.5-1-3.39 1.46-10.11.03-13.5 1-1.354.49-2.323.47-3-.5 1.354-1.94 3-2 3-2zM15 32c2.5 2.5 12.5 2.5 15 0 .5-1.5 0-2 0-2 0-2.5-2.5-4-2.5-4 5.5-1.5 6-11.5-5-15.5-11 4-10.5 14-5 15.5 0 0-2.5 1.5-2.5 4 0 0-.5.5 0 2zM25 8a2.5 2.5 0 1 1-5 0 2.5 2.5 0 1 1 5 0z\" /></g><path d=\"M17.5 26h10M15 30h15m-7.5-14.5v5M20 18h5\" stroke-linejoin=\"miter\" /></g><g class=\"white rook\" fill=\"#fff\" fill-rule=\"evenodd\" id=\"white-rook\" stroke=\"#000\" stroke-linecap=\"round\" stroke-linejoin=\"round\" stroke-width=\"1.5\"><path d=\"M9 39h27v-3H9v3zM12 36v-4h21v4H12zM11 14V9h4v2h5V9h5v2h5V9h4v5\" stroke-linecap=\"butt\" /><path d=\"M34 14l-3 3H14l-3-3\" /><path d=\"M31 17v12.5H14V17\" stroke-linecap=\"butt\" stroke-linejoin=\"miter\" /><path d=\"M31 29.5l1.5 2.5h-20l1.5-2.5\" /><path d=\"M11 14h23\" fill=\"none\" stroke-linejoin=\"miter\" /></g><g class=\"white queen\" fill=\"#fff\" fill-rule=\"evenodd\" id=\"white-queen\" stroke=\"#000\" stroke-linecap=\"round\" stroke-linejoin=\"round\" stroke-width=\"1.5\"><path d=\"M8 12a2 2 0 1 1-4 0 2 2 0 1 1 4 0zM24.5 7.5a2 2 0 1 1-4 0 2 2 0 1 1 4 0zM41 12a2 2 0 1 1-4 0 2 2 0 1 1 4 0zM16 8.5a2 2 0 1 1-4 0 2 2 0 1 1 4 0zM33 9a2 2 0 1 1-4 0 2 2 0 1 1 4 0z\" /><path d=\"M9 26c8.5-1.5 21-1.5 27 0l2-12-7 11V11l-5.5 13.5-3-15-3 15-5.5-14V25L7 14l2 12zM9 26c0 2 1.5 2 2.5 4 1 1.5 1 1 .5 3.5-1.5 1-1.5 2.5-1.5 2.5-1.5 1.5.5 2.5.5 2.5 6.5 1 16.5 1 23 0 0 0 1.5-1 0-2.5 0 0 .5-1.5-1-2.5-.5-2.5-.5-2 .5-3.5 1-2 2.5-2 2.5-4-8.5-1.5-18.5-1.5-27 0z\" stroke-linecap=\"butt\" /><path d=\"M11.5 30c3.5-1 18.5-1 22 0M12 33.5c6-1 15-1 21 0\" fill=\"none\" /></g><g class=\"white king\" fill=\"none\" fill-rule=\"evenodd\" id=\"white-king\" stroke=\"#000\" stroke-linecap=\"round\" stroke-linejoin=\"round\" stroke-width=\"1.5\"><path d=\"M22.5 11.63V6M20 8h5\" stroke-linejoin=\"miter\" /><path d=\"M22.5 25s4.5-7.5 3-10.5c0 0-1-2.5-3-2.5s-3 2.5-3 2.5c-1.5 3 3 10.5 3 10.5\" fill=\"#fff\" stroke-linecap=\"butt\" stroke-linejoin=\"miter\" /><path d=\"M11.5 37c5.5 3.5 15.5 3.5 21 0v-7s9-4.5 6-10.5c-4-6.5-13.5-3.5-16 4V27v-3.5c-3.5-7.5-13-10.5-16-4-3 6 5 10 5 10V37z\" fill=\"#fff\" /><path d=\"M11.5 30c5.5-3 15.5-3 21 0m-21 3.5c5.5-3 15.5-3 21 0m-21 3.5c5.5-3 15.5-3 21 0\" /></g><g class=\"black pawn\" id=\"black-pawn\"><path d=\"M22.5 9c-2.21 0-4 1.79-4 4 0 .89.29 1.71.78 2.38C17.33 16.5 16 18.59 16 21c0 2.03.94 3.84 2.41 5.03-3 1.06-7.41 5.55-7.41 13.47h23c0-7.92-4.41-12.41-7.41-13.47 1.47-1.19 2.41-3 2.41-5.03 0-2.41-1.33-4.5-3.28-5.62.49-.67.78-1.49.78-2.38 0-2.21-1.79-4-4-4z\" stroke=\"#000\" stroke-linecap=\"round\" stroke-width=\"1.5\" /></g><g class=\"black knight\" fill=\"none\" fill-rule=\"evenodd\" id=\"black-knight\" stroke=\"#000\" stroke-linecap=\"round\" stroke-linejoin=\"round\" stroke-width=\"1.5\"><path d=\"M 22,10 C 32.5,11 38.5,18 38,39 L 15,39 C 15,30 25,32.5 23,18\" style=\"fill:#000000; stroke:#000000;\" /><path d=\"M 24,18 C 24.38,20.91 18.45,25.37 16,27 C 13,29 13.18,31.34 11,31 C 9.958,30.06 12.41,27.96 11,28 C 10,28 11.19,29.23 10,30 C 9,30 5.997,31 6,26 C 6,24 12,14 12,14 C 12,14 13.89,12.1 14,10.5 C 13.27,9.506 13.5,8.5 13.5,7.5 C 14.5,6.5 16.5,10 16.5,10 L 18.5,10 C 18.5,10 19.28,8.008 21,7 C 22,7 22,10 22,10\" style=\"fill:#000000; stroke:#000000;\" /><path d=\"M 9.5 25.5 A 0.5 0.5 0 1 1 8.5,25.5 A 0.5 0.5 0 1 1 9.5 25.5 z\" style=\"fill:#ececec; stroke:#ececec;\" /><path d=\"M 15 15.5 A 0.5 1.5 0 1 1 14,15.5 A 0.5 1.5 0 1 1 15 15.5 z\" style=\"fill:#ececec; stroke:#ececec;\" transform=\"matrix(0.866,0.5,-0.5,0.866,9.693,-5.173)\" /><path d=\"M 24.55,10.4 L 24.1,11.85 L 24.6,12 C 27.75,13 30.25,14.49 32.5,18.75 C 34.75,23.01 35.75,29.06 35.25,39 L 35.2,39.5 L 37.45,39.5 L 37.5,39 C 38,28.94 36.62,22.15 34.25,17.66 C 31.88,13.17 28.46,11.02 25.06,10.5 L 24.55,10.4 z \" style=\"fill:#ececec; stroke:none;\" /></g><g class=\"black bishop\" fill=\"none\" fill-rule=\"evenodd\" id=\"black-bishop\" stroke=\"#000\" stroke-linecap=\"round\" stroke-linejoin=\"round\" stroke-width=\"1.5\"><path d=\"M9 36c3.39-.97 10.11.43 13.5-2 3.39 2.43 10.11 1.03 13.5 2 0 0 1.65.54 3 2-.68.97-1.65.99-3 .5-3.39-.97-10.11.46-13.5-1-3.39 1.46-10.11.03-13.5 1-1.354.49-2.323.47-3-.5 1.354-1.94 3-2 3-2zm6-4c2.5 2.5 12.5 2.5 15 0 .5-1.5 0-2 0-2 0-2.5-2.5-4-2.5-4 5.5-1.5 6-11.5-5-15.5-11 4-10.5 14-5 15.5 0 0-2.5 1.5-2.5 4 0 0-.5.5 0 2zM25 8a2.5 2.5 0 1 1-5 0 2.5 2.5 0 1 1 5 0z\" fill=\"#000\" stroke-linecap=\"butt\" /><path d=\"M17.5 26h10M15 30h15m-7.5-14.5v5M20 18h5\" stroke=\"#fff\" stroke-linejoin=\"miter\" /></g><g class=\"black rook\" fill=\"#000\" fill-rule=\"evenodd\" id=\"black-rook\" stroke=\"#000\" stroke-linecap=\"round\" stroke-linejoin=\"round\" stroke-width=\"1.5\"><path d=\"M9 39h27v-3H9v3zM12.5 32l1.5-2.5h17l1.5 2.5h-20zM12 36v-4h21v4H12z\" stroke-linecap=\"butt\" /><path d=\"M14 29.5v-13h17v13H14z\" stroke-linecap=\"butt\" stroke-linejoin=\"miter\" /><path d=\"M14 16.5L11 14h23l-3 2.5H14zM11 14V9h4v2h5V9h5v2h5V9h4v5H11z\" stroke-linecap=\"butt\" /><path d=\"M12 35.5h21M13 31.5h19M14 29.5h17M14 16.5h17M11 14h23\" fill=\"none\" stroke=\"#fff\" stroke-linejoin=\"miter\" stroke-width=\"1\" /></g><g class=\"black queen\" fill=\"#000\" fill-rule=\"evenodd\" id=\"black-queen\" stroke=\"#000\" stroke-linecap=\"round\" stroke-linejoin=\"round\" stroke-width=\"1.5\"><g fill=\"#000\" stroke=\"none\"><circle cx=\"6\" cy=\"12\" r=\"2.75\" /><circle cx=\"14\" cy=\"9\" r=\"2.75\" /><circle cx=\"22.5\" cy=\"8\" r=\"2.75\" /><circle cx=\"31\" cy=\"9\" r=\"2.75\" /><circle cx=\"39\" cy=\"12\" r=\"2.75\" /></g><path d=\"M9 26c8.5-1.5 21-1.5 27 0l2.5-12.5L31 25l-.3-14.1-5.2 13.6-3-14.5-3 14.5-5.2-13.6L14 25 6.5 13.5 9 26zM9 26c0 2 1.5 2 2.5 4 1 1.5 1 1 .5 3.5-1.5 1-1.5 2.5-1.5 2.5-1.5 1.5.5 2.5.5 2.5 6.5 1 16.5 1 23 0 0 0 1.5-1 0-2.5 0 0 .5-1.5-1-2.5-.5-2.5-.5-2 .5-3.5 1-2 2.5-2 2.5-4-8.5-1.5-18.5-1.5-27 0z\" stroke-linecap=\"butt\" /><path d=\"M11 38.5a35 35 1 0 0 23 0\" fill=\"none\" stroke-linecap=\"butt\" /><path d=\"M11 29a35 35 1 0 1 23 0M12.5 31.5h20M11.5 34.5a35 35 1 0 0 22 0M10.5 37.5a35 35 1 0 0 24 0\" fill=\"none\" stroke=\"#fff\" /></g><g class=\"black king\" fill=\"none\" fill-rule=\"evenodd\" id=\"black-king\" stroke=\"#000\" stroke-linecap=\"round\" stroke-linejoin=\"round\" stroke-width=\"1.5\"><path d=\"M22.5 11.63V6\" stroke-linejoin=\"miter\" /><path d=\"M22.5 25s4.5-7.5 3-10.5c0 0-1-2.5-3-2.5s-3 2.5-3 2.5c-1.5 3 3 10.5 3 10.5\" fill=\"#000\" stroke-linecap=\"butt\" stroke-linejoin=\"miter\" /><path d=\"M11.5 37c5.5 3.5 15.5 3.5 21 0v-7s9-4.5 6-10.5c-4-6.5-13.5-3.5-16 4V27v-3.5c-3.5-7.5-13-10.5-16-4-3 6 5 10 5 10V37z\" fill=\"#000\" /><path d=\"M20 8h5\" stroke-linejoin=\"miter\" /><path d=\"M32 29.5s8.5-4 6.03-9.65C34.15 14 25 18 22.5 24.5l.01 2.1-.01-2.1C20 18 9.906 14 6.997 19.85c-2.497 5.65 4.853 9 4.853 9M11.5 30c5.5-3 15.5-3 21 0m-21 3.5c5.5-3 15.5-3 21 0m-21 3.5c5.5-3 15.5-3 21 0\" stroke=\"#fff\" /></g></defs><rect fill=\"#212121\" height=\"390\" width=\"390\" x=\"0\" y=\"0\" /><g fill=\"#e5e5e5\" stroke=\"#e5e5e5\" transform=\"translate(20, 0) scale(0.75, 0.75)\"><path d=\"M23.328 10.016q-1.742 0-2.414.398-.672.398-.672 1.36 0 .765.5 1.218.508.445 1.375.445 1.196 0 1.914-.843.727-.852.727-2.258v-.32zm2.867-.594v4.992h-1.437v-1.328q-.492.797-1.227 1.18-.734.375-1.797.375-1.343 0-2.14-.75-.79-.758-.79-2.024 0-1.476.985-2.226.992-.75 2.953-.75h2.016V8.75q0-.992-.656-1.531-.649-.547-1.829-.547-.75 0-1.46.18-.711.18-1.368.539V6.062q.79-.304 1.532-.453.742-.156 1.445-.156 1.898 0 2.836.984.937.985.937 2.985z\" /></g><g fill=\"#e5e5e5\" stroke=\"#e5e5e5\" transform=\"translate(20, 375) scale(0.75, 0.75)\"><path d=\"M23.328 10.016q-1.742 0-2.414.398-.672.398-.672 1.36 0 .765.5 1.218.508.445 1.375.445 1.196 0 1.914-.843.727-.852.727-2.258v-.32zm2.867-.594v4.992h-1.437v-1.328q-.492.797-1.227 1.18-.734.375-1.797.375-1.343 0-2.14-.75-.79-.758-.79-2.024 0-1.476.985-2.226.992-.75 2.953-.75h2.016V8.75q0-.992-.656-1.531-.649-.547-1.829-.547-.75 0-1.46.18-.711.18-1.368.539V6.062q.79-.304 1.532-.453.742-.156 1.445-.156 1.898 0 2.836.984.937.985.937 2.985z\" /></g><g fill=\"#e5e5e5\" stroke=\"#e5e5e5\" transform=\"translate(65, 0) scale(0.75, 0.75)\"><path d=\"M24.922 10.047q0-1.586-.656-2.485-.649-.906-1.79-.906-1.14 0-1.796.906-.649.899-.649 2.485 0 1.586.649 2.492.656.898 1.797.898 1.14 0 1.789-.898.656-.906.656-2.492zm-4.89-3.055q.452-.781 1.14-1.156.695-.383 1.656-.383 1.594 0 2.586 1.266 1 1.265 1 3.328 0 2.062-1 3.328-.992 1.266-2.586 1.266-.96 0-1.656-.375-.688-.383-1.14-1.164v1.312h-1.446V2.258h1.445z\" /></g><g fill=\"#e5e5e5\" stroke=\"#e5e5e5\" transform=\"translate(65, 375) scale(0.75, 0.75)\"><path d=\"M24.922 10.047q0-1.586-.656-2.485-.649-.906-1.79-.906-1.14 0-1.796.906-.649.899-.649 2.485 0 1.586.649 2.492.656.898 1.797.898 1.14 0 1.789-.898.656-.906.656-2.492zm-4.89-3.055q.452-.781 1.14-1.156.695-.383 1.656-.383 1.594 0 2.586 1.266 1 1.265 1 3.328 0 2.062-1 3.328-.992 1.266-2.586 1.266-.96 0-1.656-.375-.688-.383-1.14-1.164v1.312h-1.446V2.258h1.445z\" /></g><g fill=\"#e5e5e5\" stroke=\"#e5e5e5\" transform=\"translate(110, 0) scale(0.75, 0.75)\"><path d=\"M25.96 6v1.344q-.608-.336-1.226-.5-.609-.172-1.234-.172-1.398 0-2.172.89-.773.883-.773 2.485 0 1.601.773 2.492.774.883 2.172.883.625 0 1.234-.164.618-.172 1.227-.508v1.328q-.602.281-1.25.422-.64.14-1.367.14-1.977 0-3.14-1.242-1.165-1.242-1.165-3.351 0-2.14 1.172-3.367 1.18-1.227 3.227-1.227.664 0 1.296.14.633.134 1.227.407z\" /></g><g fill=\"#e5e5e5\" stroke=\"#e5e5e5\" transform=\"translate(110, 375) scale(0.75, 0.75)\"><path d=\"M25.96 6v1.344q-.608-.336-1.226-.5-.609-.172-1.234-.172-1.398 0-2.172.89-.773.883-.773 2.485 0 1.601.773 2.492.774.883 2.172.883.625 0 1.234-.164.618-.172 1.227-.508v1.328q-.602.281-1.25.422-.64.14-1.367.14-1.977 0-3.14-1.242-1.165-1.242-1.165-3.351 0-2.14 1.172-3.367 1.18-1.227 3.227-1.227.664 0 1.296.14.633.134 1.227.407z\" /></g><g fill=\"#e5e5e5\" stroke=\"#e5e5e5\" transform=\"translate(155, 0) scale(0.75, 0.75)\"><path d=\"M24.973 6.992V2.258h1.437v12.156h-1.437v-1.312q-.453.78-1.149 1.164-.687.375-1.656.375-1.586 0-2.586-1.266-.992-1.266-.992-3.328 0-2.063.992-3.328 1-1.266 2.586-1.266.969 0 1.656.383.696.375 1.149 1.156zm-4.899 3.055q0 1.586.649 2.492.656.898 1.797.898 1.14 0 1.796-.898.657-.906.657-2.492 0-1.586-.657-2.485-.656-.906-1.796-.906-1.141 0-1.797.906-.649.899-.649 2.485z\" /></g><g fill=\"#e5e5e5\" stroke=\"#e5e5e5\" transform=\"translate(155, 375) scale(0.75, 0.75)\"><path d=\"M24.973 6.992V2.258h1.437v12.156h-1.437v-1.312q-.453.78-1.149 1.164-.687.375-1.656.375-1.586 0-2.586-1.266-.992-1.266-.992-3.328 0-2.063.992-3.328 1-1.266 2.586-1.266.969 0 1.656.383.696.375 1.149 1.156zm-4.899 3.055q0 1.586.649 2.492.656.898 1.797.898 1.14 0 1.796-.898.657-.906.657-2.492 0-1.586-.657-2.485-.656-.906-1.796-.906-1.141 0-1.797.906-.649.899-.649 2.485z\" /></g><g fill=\"#e5e5e5\" stroke=\"#e5e5e5\" transform=\"translate(200, 0) scale(0.75, 0.75)\"><path d=\"M26.555 9.68v.703h-6.61q.094 1.484.89 2.265.806.774 2.235.774.828 0 1.602-.203.781-.203 1.547-.61v1.36q-.774.328-1.586.5-.813.172-1.649.172-2.093 0-3.32-1.22-1.219-1.218-1.219-3.296 0-2.148 1.157-3.406 1.164-1.266 3.132-1.266 1.766 0 2.79 1.14 1.03 1.134 1.03 3.087zm-1.438-.422q-.015-1.18-.664-1.883-.64-.703-1.703-.703-1.203 0-1.93.68-.718.68-.828 1.914z\" /></g><g fill=\"#e5e5e5\" stroke=\"#e5e5e5\" transform=\"translate(200, 375) scale(0.75, 0.75)\"><path d=\"M26.555 9.68v.703h-6.61q.094 1.484.89 2.265.806.774 2.235.774.828 0 1.602-.203.781-.203 1.547-.61v1.36q-.774.328-1.586.5-.813.172-1.649.172-2.093 0-3.32-1.22-1.219-1.218-1.219-3.296 0-2.148 1.157-3.406 1.164-1.266 3.132-1.266 1.766 0 2.79 1.14 1.03 1.134 1.03 3.087zm-1.438-.422q-.015-1.18-.664-1.883-.64-.703-1.703-.703-1.203 0-1.93.68-.718.68-.828 1.914z\" /></g><g fill=\"#e5e5e5\" stroke=\"#e5e5e5\" transform=\"translate(245, 0) scale(0.75, 0.75)\"><path d=\"M25.285 2.258v1.195H23.91q-.773 0-1.078.313-.297.312-.297 1.125v.773h2.367v1.117h-2.367v7.633H21.09V6.781h-1.375V5.664h1.375v-.61q0-1.46.68-2.124.68-.672 2.156-.672z\" /></g><g fill=\"#e5e5e5\" stroke=\"#e5e5e5\" transform=\"translate(245, 375) scale(0.75, 0.75)\"><path d=\"M25.285 2.258v1.195H23.91q-.773 0-1.078.313-.297.312-.297 1.125v.773h2.367v1.117h-2.367v7.633H21.09V6.781h-1.375V5.664h1.375v-.61q0-1.46.68-2.124.68-.672 2.156-.672z\" /></g><g fill=\"#e5e5e5\" stroke=\"#e5e5e5\" transform=\"translate(290, 0) scale(0.75, 0.75)\"><path d=\"M24.973 9.937q0-1.562-.649-2.421-.64-.86-1.804-.86-1.157 0-1.805.86-.64.859-.64 2.421 0 1.555.64 2.415.648.859 1.805.859 1.164 0 1.804-.86.649-.859.649-2.414zm1.437 3.391q0 2.234-.992 3.32-.992 1.094-3.04 1.094-.757 0-1.429-.117-.672-.11-1.304-.344v-1.398q.632.344 1.25.508.617.164 1.257.164 1.414 0 2.118-.743.703-.734.703-2.226v-.711q-.446.773-1.141 1.156-.695.383-1.664.383-1.61 0-2.594-1.227-.984-1.226-.984-3.25 0-2.03.984-3.257.985-1.227 2.594-1.227.969 0 1.664.383t1.14 1.156V5.664h1.438z\" /></g><g fill=\"#e5e5e5\" stroke=\"#e5e5e5\" transform=\"translate(290, 375) scale(0.75, 0.75)\"><path d=\"M24.973 9.937q0-1.562-.649-2.421-.64-.86-1.804-.86-1.157 0-1.805.86-.64.859-.64 2.421 0 1.555.64 2.415.648.859 1.805.859 1.164 0 1.804-.86.649-.859.649-2.414zm1.437 3.391q0 2.234-.992 3.32-.992 1.094-3.04 1.094-.757 0-1.429-.117-.672-.11-1.304-.344v-1.398q.632.344 1.25.508.617.164 1.257.164 1.414 0 2.118-.743.703-.734.703-2.226v-.711q-.446.773-1.141 1.156-.695.383-1.664.383-1.61 0-2.594-1.227-.984-1.226-.984-3.25 0-2.03.984-3.257.985-1.227 2.594-1.227.969 0 1.664.383t1.14 1.156V5.664h1.438z\" /></g><g fill=\"#e5e5e5\" stroke=\"#e5e5e5\" transform=\"translate(335, 0) scale(0.75, 0.75)\"><path d=\"M26.164 9.133v5.281h-1.437V9.18q0-1.243-.485-1.86-.484-.617-1.453-.617-1.164 0-1.836.742-.672.742-.672 2.024v4.945h-1.445V2.258h1.445v4.765q.516-.789 1.211-1.18.703-.39 1.617-.39 1.508 0 2.282.938.773.93.773 2.742z\" /></g><g fill=\"#e5e5e5\" stroke=\"#e5e5e5\" transform=\"translate(335, 375) scale(0.75, 0.75)\"><path d=\"M26.164 9.133v5.281h-1.437V9.18q0-1.243-.485-1.86-.484-.617-1.453-.617-1.164 0-1.836.742-.672.742-.672 2.024v4.945h-1.445V2.258h1.445v4.765q.516-.789 1.211-1.18.703-.39 1.617-.39 1.508 0 2.282.938.773.93.773 2.742z\" /></g><g fill=\"#e5e5e5\" stroke=\"#e5e5e5\" transform=\"translate(0, 335) scale(0.75, 0.75)\"><path d=\"M6.754 26.996h2.578v-8.898l-2.805.562v-1.437l2.79-.563h1.578v10.336h2.578v1.328h-6.72z\" /></g><g fill=\"#e5e5e5\" stroke=\"#e5e5e5\" transform=\"translate(375, 335) scale(0.75, 0.75)\"><path d=\"M6.754 26.996h2.578v-8.898l-2.805.562v-1.437l2.79-.563h1.578v10.336h2.578v1.328h-6.72z\" /></g><g fill=\"#e5e5e5\" stroke=\"#e5e5e5\" transform=\"translate(0, 290) scale(0.75, 0.75)\"><path d=\"M8.195 26.996h5.508v1.328H6.297v-1.328q.898-.93 2.445-2.492 1.555-1.57 1.953-2.024.758-.851 1.055-1.437.305-.594.305-1.164 0-.93-.657-1.516-.648-.586-1.695-.586-.742 0-1.57.258-.82.258-1.758.781v-1.593q.953-.383 1.781-.578.828-.196 1.516-.196 1.812 0 2.89.906 1.079.907 1.079 2.422 0 .72-.274 1.368-.265.64-.976 1.515-.196.227-1.243 1.313-1.046 1.078-2.953 3.023z\" /></g><g fill=\"#e5e5e5\" stroke=\"#e5e5e5\" transform=\"translate(375, 290) scale(0.75, 0.75)\"><path d=\"M8.195 26.996h5.508v1.328H6.297v-1.328q.898-.93 2.445-2.492 1.555-1.57 1.953-2.024.758-.851 1.055-1.437.305-.594.305-1.164 0-.93-.657-1.516-.648-.586-1.695-.586-.742 0-1.57.258-.82.258-1.758.781v-1.593q.953-.383 1.781-.578.828-.196 1.516-.196 1.812 0 2.89.906 1.079.907 1.079 2.422 0 .72-.274 1.368-.265.64-.976 1.515-.196.227-1.243 1.313-1.046 1.078-2.953 3.023z\" /></g><g fill=\"#e5e5e5\" stroke=\"#e5e5e5\" transform=\"translate(0, 245) scale(0.75, 0.75)\"><path d=\"M11.434 22.035q1.132.242 1.765 1.008.64.766.64 1.89 0 1.727-1.187 2.672-1.187.946-3.375.946-.734 0-1.515-.149-.774-.14-1.602-.43V26.45q.656.383 1.438.578.78.196 1.632.196 1.485 0 2.258-.586.782-.586.782-1.703 0-1.032-.727-1.61-.719-.586-2.008-.586h-1.36v-1.297h1.423q1.164 0 1.78-.46.618-.47.618-1.344 0-.899-.64-1.375-.633-.485-1.82-.485-.65 0-1.391.141-.743.14-1.633.437V16.95q.898-.25 1.68-.375.788-.125 1.484-.125 1.797 0 2.844.82 1.046.813 1.046 2.204 0 .968-.554 1.64-.555.664-1.578.922z\" /></g><g fill=\"#e5e5e5\" stroke=\"#e5e5e5\" transform=\"translate(375, 245) scale(0.75, 0.75)\"><path d=\"M11.434 22.035q1.132.242 1.765 1.008.64.766.64 1.89 0 1.727-1.187 2.672-1.187.946-3.375.946-.734 0-1.515-.149-.774-.14-1.602-.43V26.45q.656.383 1.438.578.78.196 1.632.196 1.485 0 2.258-.586.782-.586.782-1.703 0-1.032-.727-1.61-.719-.586-2.008-.586h-1.36v-1.297h1.423q1.164 0 1.78-.46.618-.47.618-1.344 0-.899-.64-1.375-.633-.485-1.82-.485-.65 0-1.391.141-.743.14-1.633.437V16.95q.898-.25 1.68-.375.788-.125 1.484-.125 1.797 0 2.844.82 1.046.813 1.046 2.204 0 .968-.554 1.64-.555.664-1.578.922z\" /></g><g fill=\"#e5e5e5\" stroke=\"#e5e5e5\" transform=\"translate(0, 200) scale(0.75, 0.75)\"><path d=\"M11.016 18.035L7.03 24.262h3.985zm-.414-1.375h1.984v7.602h1.664v1.312h-1.664v2.75h-1.57v-2.75H5.75v-1.523z\" /></g><g fill=\"#e5e5e5\" stroke=\"#e5e5e5\" transform=\"translate(375, 200) scale(0.75, 0.75)\"><path d=\"M11.016 18.035L7.03 24.262h3.985zm-.414-1.375h1.984v7.602h1.664v1.312h-1.664v2.75h-1.57v-2.75H5.75v-1.523z\" /></g><g fill=\"#e5e5e5\" stroke=\"#e5e5e5\" transform=\"translate(0, 155) scale(0.75, 0.75)\"><path d=\"M6.719 16.66h6.195v1.328h-4.75v2.86q.344-.118.688-.172.343-.063.687-.063 1.953 0 3.094 1.07 1.14 1.07 1.14 2.899 0 1.883-1.171 2.93-1.172 1.039-3.305 1.039-.735 0-1.5-.125-.758-.125-1.57-.375v-1.586q.703.383 1.453.57.75.188 1.586.188 1.351 0 2.14-.711.79-.711.79-1.93 0-1.219-.79-1.93-.789-.71-2.14-.71-.633 0-1.266.14-.625.14-1.281.438z\" /></g><g fill=\"#e5e5e5\" stroke=\"#e5e5e5\" transform=\"translate(375, 155) scale(0.75, 0.75)\"><path d=\"M6.719 16.66h6.195v1.328h-4.75v2.86q.344-.118.688-.172.343-.063.687-.063 1.953 0 3.094 1.07 1.14 1.07 1.14 2.899 0 1.883-1.171 2.93-1.172 1.039-3.305 1.039-.735 0-1.5-.125-.758-.125-1.57-.375v-1.586q.703.383 1.453.57.75.188 1.586.188 1.351 0 2.14-.711.79-.711.79-1.93 0-1.219-.79-1.93-.789-.71-2.14-.71-.633 0-1.266.14-.625.14-1.281.438z\" /></g><g fill=\"#e5e5e5\" stroke=\"#e5e5e5\" transform=\"translate(0, 110) scale(0.75, 0.75)\"><path d=\"M10.137 21.863q-1.063 0-1.688.727-.617.726-.617 1.992 0 1.258.617 1.992.625.727 1.688.727 1.062 0 1.68-.727.624-.734.624-1.992 0-1.266-.625-1.992-.617-.727-1.68-.727zm3.133-4.945v1.437q-.594-.28-1.204-.43-.601-.148-1.195-.148-1.562 0-2.39 1.055-.82 1.055-.938 3.188.46-.68 1.156-1.04.696-.367 1.531-.367 1.758 0 2.774 1.07 1.023 1.063 1.023 2.899 0 1.797-1.062 2.883-1.063 1.086-2.828 1.086-2.024 0-3.094-1.547-1.07-1.555-1.07-4.5 0-2.766 1.312-4.406 1.313-1.649 3.524-1.649.593 0 1.195.117.61.118 1.266.352z\" /></g><g fill=\"#e5e5e5\" stroke=\"#e5e5e5\" transform=\"translate(375, 110) scale(0.75, 0.75)\"><path d=\"M10.137 21.863q-1.063 0-1.688.727-.617.726-.617 1.992 0 1.258.617 1.992.625.727 1.688.727 1.062 0 1.68-.727.624-.734.624-1.992 0-1.266-.625-1.992-.617-.727-1.68-.727zm3.133-4.945v1.437q-.594-.28-1.204-.43-.601-.148-1.195-.148-1.562 0-2.39 1.055-.82 1.055-.938 3.188.46-.68 1.156-1.04.696-.367 1.531-.367 1.758 0 2.774 1.07 1.023 1.063 1.023 2.899 0 1.797-1.062 2.883-1.063 1.086-2.828 1.086-2.024 0-3.094-1.547-1.07-1.555-1.07-4.5 0-2.766 1.312-4.406 1.313-1.649 3.524-1.649.593 0 1.195.117.61.118 1.266.352z\" /></g><g fill=\"#e5e5e5\" stroke=\"#e5e5e5\" transform=\"translate(0, 65) scale(0.75, 0.75)\"><path d=\"M6.25 16.66h7.5v.672L9.516 28.324H7.867l3.985-10.336H6.25z\" /></g><g fill=\"#e5e5e5\" stroke=\"#e5e5e5\" transform=\"translate(375, 65) scale(0.75, 0.75)\"><path d=\"M6.25 16.66h7.5v.672L9.516 28.324H7.867l3.985-10.336H6.25z\" /></g><g fill=\"#e5e5e5\" stroke=\"#e5e5e5\" transform=\"translate(0, 20) scale(0.75, 0.75)\"><path d=\"M10 22.785q-1.125 0-1.773.602-.641.601-.641 1.656t.64 1.656q.649.602 1.774.602t1.773-.602q.649-.61.649-1.656 0-1.055-.649-1.656-.64-.602-1.773-.602zm-1.578-.672q-1.016-.25-1.586-.945-.563-.695-.563-1.695 0-1.399.993-2.211 1-.813 2.734-.813 1.742 0 2.734.813.993.812.993 2.21 0 1-.57 1.696-.563.695-1.571.945 1.14.266 1.773 1.04.641.773.641 1.89 0 1.695-1.04 2.602-1.03.906-2.96.906t-2.969-.906Q6 26.738 6 25.043q0-1.117.64-1.89.641-.774 1.782-1.04zm-.578-2.492q0 .906.562 1.414.57.508 1.594.508 1.016 0 1.586-.508.578-.508.578-1.414 0-.906-.578-1.414-.57-.508-1.586-.508-1.023 0-1.594.508-.562.508-.562 1.414z\" /></g><g fill=\"#e5e5e5\" stroke=\"#e5e5e5\" transform=\"translate(375, 20) scale(0.75, 0.75)\"><path d=\"M10 22.785q-1.125 0-1.773.602-.641.601-.641 1.656t.64 1.656q.649.602 1.774.602t1.773-.602q.649-.61.649-1.656 0-1.055-.649-1.656-.64-.602-1.773-.602zm-1.578-.672q-1.016-.25-1.586-.945-.563-.695-.563-1.695 0-1.399.993-2.211 1-.813 2.734-.813 1.742 0 2.734.813.993.812.993 2.21 0 1-.57 1.696-.563.695-1.571.945 1.14.266 1.773 1.04.641.773.641 1.89 0 1.695-1.04 2.602-1.03.906-2.96.906t-2.969-.906Q6 26.738 6 25.043q0-1.117.64-1.89.641-.774 1.782-1.04zm-.578-2.492q0 .906.562 1.414.57.508 1.594.508 1.016 0 1.586-.508.578-.508.578-1.414 0-.906-.578-1.414-.57-.508-1.586-.508-1.023 0-1.594.508-.562.508-.562 1.414z\" /></g><rect class=\"square dark a1\" fill=\"#d18b47\" height=\"45\" stroke=\"none\" width=\"45\" x=\"15\" y=\"330\" /><rect class=\"square light b1\" fill=\"#ffce9e\" height=\"45\" stroke=\"none\" width=\"45\" x=\"60\" y=\"330\" /><rect class=\"square dark c1\" fill=\"#d18b47\" height=\"45\" stroke=\"none\" width=\"45\" x=\"105\" y=\"330\" /><rect class=\"square light d1\" fill=\"#ffce9e\" height=\"45\" stroke=\"none\" width=\"45\" x=\"150\" y=\"330\" /><rect class=\"square dark e1\" fill=\"#d18b47\" height=\"45\" stroke=\"none\" width=\"45\" x=\"195\" y=\"330\" /><rect class=\"square light f1\" fill=\"#ffce9e\" height=\"45\" stroke=\"none\" width=\"45\" x=\"240\" y=\"330\" /><rect class=\"square dark g1\" fill=\"#d18b47\" height=\"45\" stroke=\"none\" width=\"45\" x=\"285\" y=\"330\" /><rect class=\"square light h1\" fill=\"#ffce9e\" height=\"45\" stroke=\"none\" width=\"45\" x=\"330\" y=\"330\" /><rect class=\"square light a2\" fill=\"#ffce9e\" height=\"45\" stroke=\"none\" width=\"45\" x=\"15\" y=\"285\" /><rect class=\"square dark b2\" fill=\"#d18b47\" height=\"45\" stroke=\"none\" width=\"45\" x=\"60\" y=\"285\" /><rect class=\"square light c2\" fill=\"#ffce9e\" height=\"45\" stroke=\"none\" width=\"45\" x=\"105\" y=\"285\" /><rect class=\"square dark d2\" fill=\"#d18b47\" height=\"45\" stroke=\"none\" width=\"45\" x=\"150\" y=\"285\" /><rect class=\"square light e2\" fill=\"#ffce9e\" height=\"45\" stroke=\"none\" width=\"45\" x=\"195\" y=\"285\" /><rect class=\"square dark f2\" fill=\"#d18b47\" height=\"45\" stroke=\"none\" width=\"45\" x=\"240\" y=\"285\" /><rect class=\"square light g2\" fill=\"#ffce9e\" height=\"45\" stroke=\"none\" width=\"45\" x=\"285\" y=\"285\" /><rect class=\"square dark h2\" fill=\"#d18b47\" height=\"45\" stroke=\"none\" width=\"45\" x=\"330\" y=\"285\" /><rect class=\"square dark a3\" fill=\"#d18b47\" height=\"45\" stroke=\"none\" width=\"45\" x=\"15\" y=\"240\" /><rect class=\"square light b3\" fill=\"#ffce9e\" height=\"45\" stroke=\"none\" width=\"45\" x=\"60\" y=\"240\" /><rect class=\"square dark c3\" fill=\"#d18b47\" height=\"45\" stroke=\"none\" width=\"45\" x=\"105\" y=\"240\" /><rect class=\"square light d3\" fill=\"#ffce9e\" height=\"45\" stroke=\"none\" width=\"45\" x=\"150\" y=\"240\" /><rect class=\"square dark e3\" fill=\"#d18b47\" height=\"45\" stroke=\"none\" width=\"45\" x=\"195\" y=\"240\" /><rect class=\"square light f3\" fill=\"#ffce9e\" height=\"45\" stroke=\"none\" width=\"45\" x=\"240\" y=\"240\" /><rect class=\"square dark g3\" fill=\"#d18b47\" height=\"45\" stroke=\"none\" width=\"45\" x=\"285\" y=\"240\" /><rect class=\"square light h3\" fill=\"#ffce9e\" height=\"45\" stroke=\"none\" width=\"45\" x=\"330\" y=\"240\" /><rect class=\"square light a4\" fill=\"#ffce9e\" height=\"45\" stroke=\"none\" width=\"45\" x=\"15\" y=\"195\" /><rect class=\"square dark b4\" fill=\"#d18b47\" height=\"45\" stroke=\"none\" width=\"45\" x=\"60\" y=\"195\" /><rect class=\"square light c4\" fill=\"#ffce9e\" height=\"45\" stroke=\"none\" width=\"45\" x=\"105\" y=\"195\" /><rect class=\"square dark d4\" fill=\"#d18b47\" height=\"45\" stroke=\"none\" width=\"45\" x=\"150\" y=\"195\" /><rect class=\"square light e4\" fill=\"#ffce9e\" height=\"45\" stroke=\"none\" width=\"45\" x=\"195\" y=\"195\" /><rect class=\"square dark f4\" fill=\"#d18b47\" height=\"45\" stroke=\"none\" width=\"45\" x=\"240\" y=\"195\" /><rect class=\"square light g4\" fill=\"#ffce9e\" height=\"45\" stroke=\"none\" width=\"45\" x=\"285\" y=\"195\" /><rect class=\"square dark h4\" fill=\"#d18b47\" height=\"45\" stroke=\"none\" width=\"45\" x=\"330\" y=\"195\" /><rect class=\"square dark a5\" fill=\"#d18b47\" height=\"45\" stroke=\"none\" width=\"45\" x=\"15\" y=\"150\" /><rect class=\"square light b5\" fill=\"#ffce9e\" height=\"45\" stroke=\"none\" width=\"45\" x=\"60\" y=\"150\" /><rect class=\"square dark c5\" fill=\"#d18b47\" height=\"45\" stroke=\"none\" width=\"45\" x=\"105\" y=\"150\" /><rect class=\"square light d5\" fill=\"#ffce9e\" height=\"45\" stroke=\"none\" width=\"45\" x=\"150\" y=\"150\" /><rect class=\"square dark e5\" fill=\"#d18b47\" height=\"45\" stroke=\"none\" width=\"45\" x=\"195\" y=\"150\" /><rect class=\"square light f5\" fill=\"#ffce9e\" height=\"45\" stroke=\"none\" width=\"45\" x=\"240\" y=\"150\" /><rect class=\"square dark g5\" fill=\"#d18b47\" height=\"45\" stroke=\"none\" width=\"45\" x=\"285\" y=\"150\" /><rect class=\"square light h5\" fill=\"#ffce9e\" height=\"45\" stroke=\"none\" width=\"45\" x=\"330\" y=\"150\" /><rect class=\"square light a6\" fill=\"#ffce9e\" height=\"45\" stroke=\"none\" width=\"45\" x=\"15\" y=\"105\" /><rect class=\"square dark b6\" fill=\"#d18b47\" height=\"45\" stroke=\"none\" width=\"45\" x=\"60\" y=\"105\" /><rect class=\"square light c6\" fill=\"#ffce9e\" height=\"45\" stroke=\"none\" width=\"45\" x=\"105\" y=\"105\" /><rect class=\"square dark d6\" fill=\"#d18b47\" height=\"45\" stroke=\"none\" width=\"45\" x=\"150\" y=\"105\" /><rect class=\"square light e6\" fill=\"#ffce9e\" height=\"45\" stroke=\"none\" width=\"45\" x=\"195\" y=\"105\" /><rect class=\"square dark f6\" fill=\"#d18b47\" height=\"45\" stroke=\"none\" width=\"45\" x=\"240\" y=\"105\" /><rect class=\"square light g6\" fill=\"#ffce9e\" height=\"45\" stroke=\"none\" width=\"45\" x=\"285\" y=\"105\" /><rect class=\"square dark h6\" fill=\"#d18b47\" height=\"45\" stroke=\"none\" width=\"45\" x=\"330\" y=\"105\" /><rect class=\"square dark a7\" fill=\"#d18b47\" height=\"45\" stroke=\"none\" width=\"45\" x=\"15\" y=\"60\" /><rect class=\"square light b7\" fill=\"#ffce9e\" height=\"45\" stroke=\"none\" width=\"45\" x=\"60\" y=\"60\" /><rect class=\"square dark c7\" fill=\"#d18b47\" height=\"45\" stroke=\"none\" width=\"45\" x=\"105\" y=\"60\" /><rect class=\"square light d7\" fill=\"#ffce9e\" height=\"45\" stroke=\"none\" width=\"45\" x=\"150\" y=\"60\" /><rect class=\"square dark e7\" fill=\"#d18b47\" height=\"45\" stroke=\"none\" width=\"45\" x=\"195\" y=\"60\" /><rect class=\"square light f7\" fill=\"#ffce9e\" height=\"45\" stroke=\"none\" width=\"45\" x=\"240\" y=\"60\" /><rect class=\"square dark g7\" fill=\"#d18b47\" height=\"45\" stroke=\"none\" width=\"45\" x=\"285\" y=\"60\" /><rect class=\"square light h7\" fill=\"#ffce9e\" height=\"45\" stroke=\"none\" width=\"45\" x=\"330\" y=\"60\" /><rect class=\"square light a8\" fill=\"#ffce9e\" height=\"45\" stroke=\"none\" width=\"45\" x=\"15\" y=\"15\" /><rect class=\"square dark b8\" fill=\"#d18b47\" height=\"45\" stroke=\"none\" width=\"45\" x=\"60\" y=\"15\" /><rect class=\"square light c8\" fill=\"#ffce9e\" height=\"45\" stroke=\"none\" width=\"45\" x=\"105\" y=\"15\" /><rect class=\"square dark d8\" fill=\"#d18b47\" height=\"45\" stroke=\"none\" width=\"45\" x=\"150\" y=\"15\" /><rect class=\"square light e8\" fill=\"#ffce9e\" height=\"45\" stroke=\"none\" width=\"45\" x=\"195\" y=\"15\" /><rect class=\"square dark f8\" fill=\"#d18b47\" height=\"45\" stroke=\"none\" width=\"45\" x=\"240\" y=\"15\" /><rect class=\"square light g8\" fill=\"#ffce9e\" height=\"45\" stroke=\"none\" width=\"45\" x=\"285\" y=\"15\" /><rect class=\"square dark h8\" fill=\"#d18b47\" height=\"45\" stroke=\"none\" width=\"45\" x=\"330\" y=\"15\" /><use href=\"#white-rook\" transform=\"translate(15, 330)\" xlink:href=\"#white-rook\" /><use href=\"#white-knight\" transform=\"translate(60, 330)\" xlink:href=\"#white-knight\" /><use href=\"#white-bishop\" transform=\"translate(105, 330)\" xlink:href=\"#white-bishop\" /><use href=\"#white-queen\" transform=\"translate(150, 330)\" xlink:href=\"#white-queen\" /><use href=\"#white-king\" transform=\"translate(195, 330)\" xlink:href=\"#white-king\" /><use href=\"#white-bishop\" transform=\"translate(240, 330)\" xlink:href=\"#white-bishop\" /><use href=\"#white-knight\" transform=\"translate(285, 330)\" xlink:href=\"#white-knight\" /><use href=\"#white-rook\" transform=\"translate(330, 330)\" xlink:href=\"#white-rook\" /><use href=\"#white-pawn\" transform=\"translate(15, 285)\" xlink:href=\"#white-pawn\" /><use href=\"#white-pawn\" transform=\"translate(60, 285)\" xlink:href=\"#white-pawn\" /><use href=\"#white-pawn\" transform=\"translate(105, 285)\" xlink:href=\"#white-pawn\" /><use href=\"#white-pawn\" transform=\"translate(150, 285)\" xlink:href=\"#white-pawn\" /><use href=\"#white-pawn\" transform=\"translate(195, 285)\" xlink:href=\"#white-pawn\" /><use href=\"#white-pawn\" transform=\"translate(240, 285)\" xlink:href=\"#white-pawn\" /><use href=\"#white-pawn\" transform=\"translate(285, 285)\" xlink:href=\"#white-pawn\" /><use href=\"#white-pawn\" transform=\"translate(330, 285)\" xlink:href=\"#white-pawn\" /><use href=\"#black-pawn\" transform=\"translate(15, 60)\" xlink:href=\"#black-pawn\" /><use href=\"#black-pawn\" transform=\"translate(60, 60)\" xlink:href=\"#black-pawn\" /><use href=\"#black-pawn\" transform=\"translate(105, 60)\" xlink:href=\"#black-pawn\" /><use href=\"#black-pawn\" transform=\"translate(150, 60)\" xlink:href=\"#black-pawn\" /><use href=\"#black-pawn\" transform=\"translate(195, 60)\" xlink:href=\"#black-pawn\" /><use href=\"#black-pawn\" transform=\"translate(240, 60)\" xlink:href=\"#black-pawn\" /><use href=\"#black-pawn\" transform=\"translate(285, 60)\" xlink:href=\"#black-pawn\" /><use href=\"#black-pawn\" transform=\"translate(330, 60)\" xlink:href=\"#black-pawn\" /><use href=\"#black-rook\" transform=\"translate(15, 15)\" xlink:href=\"#black-rook\" /><use href=\"#black-knight\" transform=\"translate(60, 15)\" xlink:href=\"#black-knight\" /><use href=\"#black-bishop\" transform=\"translate(105, 15)\" xlink:href=\"#black-bishop\" /><use href=\"#black-queen\" transform=\"translate(150, 15)\" xlink:href=\"#black-queen\" /><use href=\"#black-king\" transform=\"translate(195, 15)\" xlink:href=\"#black-king\" /><use href=\"#black-bishop\" transform=\"translate(240, 15)\" xlink:href=\"#black-bishop\" /><use href=\"#black-knight\" transform=\"translate(285, 15)\" xlink:href=\"#black-knight\" /><use href=\"#black-rook\" transform=\"translate(330, 15)\" xlink:href=\"#black-rook\" /></svg>"
          },
          "metadata": {
            "tags": []
          },
          "execution_count": 46
        }
      ]
    },
    {
      "cell_type": "code",
      "metadata": {
        "colab": {
          "base_uri": "https://localhost:8080/"
        },
        "id": "XfgP1uJ_PgZL",
        "outputId": "b5a2f500-b03e-4c2a-f215-f3b82fb62908"
      },
      "source": [
        "board.legal_moves"
      ],
      "execution_count": 5,
      "outputs": [
        {
          "output_type": "execute_result",
          "data": {
            "text/plain": [
              "<LegalMoveGenerator at 0x7f16c041f210 (Nh3, Nf3, Nc3, Na3, h3, g3, f3, e3, d3, c3, b3, a3, h4, g4, f4, e4, d4, c4, b4, a4)>"
            ]
          },
          "metadata": {
            "tags": []
          },
          "execution_count": 5
        }
      ]
    },
    {
      "cell_type": "code",
      "metadata": {
        "colab": {
          "base_uri": "https://localhost:8080/",
          "height": 410
        },
        "id": "XiVq4S1CP2N-",
        "outputId": "8a67d15d-01f9-43f7-dda3-e9453805fd19"
      },
      "source": [
        "\n",
        "board"
      ],
      "execution_count": 6,
      "outputs": [
        {
          "output_type": "execute_result",
          "data": {
            "text/plain": [
              "Board('rnbqkbnr/pppppppp/8/8/8/8/PPPPPPPP/RNBQKBNR w KQkq - 0 1')"
            ],
            "image/svg+xml": "<svg baseProfile=\"tiny\" height=\"390\" version=\"1.2\" viewBox=\"0 0 390 390\" width=\"390\" xmlns=\"http://www.w3.org/2000/svg\" xmlns:xlink=\"http://www.w3.org/1999/xlink\"><defs><g class=\"white pawn\" id=\"white-pawn\"><path d=\"M22.5 9c-2.21 0-4 1.79-4 4 0 .89.29 1.71.78 2.38C17.33 16.5 16 18.59 16 21c0 2.03.94 3.84 2.41 5.03-3 1.06-7.41 5.55-7.41 13.47h23c0-7.92-4.41-12.41-7.41-13.47 1.47-1.19 2.41-3 2.41-5.03 0-2.41-1.33-4.5-3.28-5.62.49-.67.78-1.49.78-2.38 0-2.21-1.79-4-4-4z\" fill=\"#fff\" stroke=\"#000\" stroke-linecap=\"round\" stroke-width=\"1.5\" /></g><g class=\"white knight\" fill=\"none\" fill-rule=\"evenodd\" id=\"white-knight\" stroke=\"#000\" stroke-linecap=\"round\" stroke-linejoin=\"round\" stroke-width=\"1.5\"><path d=\"M 22,10 C 32.5,11 38.5,18 38,39 L 15,39 C 15,30 25,32.5 23,18\" style=\"fill:#ffffff; stroke:#000000;\" /><path d=\"M 24,18 C 24.38,20.91 18.45,25.37 16,27 C 13,29 13.18,31.34 11,31 C 9.958,30.06 12.41,27.96 11,28 C 10,28 11.19,29.23 10,30 C 9,30 5.997,31 6,26 C 6,24 12,14 12,14 C 12,14 13.89,12.1 14,10.5 C 13.27,9.506 13.5,8.5 13.5,7.5 C 14.5,6.5 16.5,10 16.5,10 L 18.5,10 C 18.5,10 19.28,8.008 21,7 C 22,7 22,10 22,10\" style=\"fill:#ffffff; stroke:#000000;\" /><path d=\"M 9.5 25.5 A 0.5 0.5 0 1 1 8.5,25.5 A 0.5 0.5 0 1 1 9.5 25.5 z\" style=\"fill:#000000; stroke:#000000;\" /><path d=\"M 15 15.5 A 0.5 1.5 0 1 1 14,15.5 A 0.5 1.5 0 1 1 15 15.5 z\" style=\"fill:#000000; stroke:#000000;\" transform=\"matrix(0.866,0.5,-0.5,0.866,9.693,-5.173)\" /></g><g class=\"white bishop\" fill=\"none\" fill-rule=\"evenodd\" id=\"white-bishop\" stroke=\"#000\" stroke-linecap=\"round\" stroke-linejoin=\"round\" stroke-width=\"1.5\"><g fill=\"#fff\" stroke-linecap=\"butt\"><path d=\"M9 36c3.39-.97 10.11.43 13.5-2 3.39 2.43 10.11 1.03 13.5 2 0 0 1.65.54 3 2-.68.97-1.65.99-3 .5-3.39-.97-10.11.46-13.5-1-3.39 1.46-10.11.03-13.5 1-1.354.49-2.323.47-3-.5 1.354-1.94 3-2 3-2zM15 32c2.5 2.5 12.5 2.5 15 0 .5-1.5 0-2 0-2 0-2.5-2.5-4-2.5-4 5.5-1.5 6-11.5-5-15.5-11 4-10.5 14-5 15.5 0 0-2.5 1.5-2.5 4 0 0-.5.5 0 2zM25 8a2.5 2.5 0 1 1-5 0 2.5 2.5 0 1 1 5 0z\" /></g><path d=\"M17.5 26h10M15 30h15m-7.5-14.5v5M20 18h5\" stroke-linejoin=\"miter\" /></g><g class=\"white rook\" fill=\"#fff\" fill-rule=\"evenodd\" id=\"white-rook\" stroke=\"#000\" stroke-linecap=\"round\" stroke-linejoin=\"round\" stroke-width=\"1.5\"><path d=\"M9 39h27v-3H9v3zM12 36v-4h21v4H12zM11 14V9h4v2h5V9h5v2h5V9h4v5\" stroke-linecap=\"butt\" /><path d=\"M34 14l-3 3H14l-3-3\" /><path d=\"M31 17v12.5H14V17\" stroke-linecap=\"butt\" stroke-linejoin=\"miter\" /><path d=\"M31 29.5l1.5 2.5h-20l1.5-2.5\" /><path d=\"M11 14h23\" fill=\"none\" stroke-linejoin=\"miter\" /></g><g class=\"white queen\" fill=\"#fff\" fill-rule=\"evenodd\" id=\"white-queen\" stroke=\"#000\" stroke-linecap=\"round\" stroke-linejoin=\"round\" stroke-width=\"1.5\"><path d=\"M8 12a2 2 0 1 1-4 0 2 2 0 1 1 4 0zM24.5 7.5a2 2 0 1 1-4 0 2 2 0 1 1 4 0zM41 12a2 2 0 1 1-4 0 2 2 0 1 1 4 0zM16 8.5a2 2 0 1 1-4 0 2 2 0 1 1 4 0zM33 9a2 2 0 1 1-4 0 2 2 0 1 1 4 0z\" /><path d=\"M9 26c8.5-1.5 21-1.5 27 0l2-12-7 11V11l-5.5 13.5-3-15-3 15-5.5-14V25L7 14l2 12zM9 26c0 2 1.5 2 2.5 4 1 1.5 1 1 .5 3.5-1.5 1-1.5 2.5-1.5 2.5-1.5 1.5.5 2.5.5 2.5 6.5 1 16.5 1 23 0 0 0 1.5-1 0-2.5 0 0 .5-1.5-1-2.5-.5-2.5-.5-2 .5-3.5 1-2 2.5-2 2.5-4-8.5-1.5-18.5-1.5-27 0z\" stroke-linecap=\"butt\" /><path d=\"M11.5 30c3.5-1 18.5-1 22 0M12 33.5c6-1 15-1 21 0\" fill=\"none\" /></g><g class=\"white king\" fill=\"none\" fill-rule=\"evenodd\" id=\"white-king\" stroke=\"#000\" stroke-linecap=\"round\" stroke-linejoin=\"round\" stroke-width=\"1.5\"><path d=\"M22.5 11.63V6M20 8h5\" stroke-linejoin=\"miter\" /><path d=\"M22.5 25s4.5-7.5 3-10.5c0 0-1-2.5-3-2.5s-3 2.5-3 2.5c-1.5 3 3 10.5 3 10.5\" fill=\"#fff\" stroke-linecap=\"butt\" stroke-linejoin=\"miter\" /><path d=\"M11.5 37c5.5 3.5 15.5 3.5 21 0v-7s9-4.5 6-10.5c-4-6.5-13.5-3.5-16 4V27v-3.5c-3.5-7.5-13-10.5-16-4-3 6 5 10 5 10V37z\" fill=\"#fff\" /><path d=\"M11.5 30c5.5-3 15.5-3 21 0m-21 3.5c5.5-3 15.5-3 21 0m-21 3.5c5.5-3 15.5-3 21 0\" /></g><g class=\"black pawn\" id=\"black-pawn\"><path d=\"M22.5 9c-2.21 0-4 1.79-4 4 0 .89.29 1.71.78 2.38C17.33 16.5 16 18.59 16 21c0 2.03.94 3.84 2.41 5.03-3 1.06-7.41 5.55-7.41 13.47h23c0-7.92-4.41-12.41-7.41-13.47 1.47-1.19 2.41-3 2.41-5.03 0-2.41-1.33-4.5-3.28-5.62.49-.67.78-1.49.78-2.38 0-2.21-1.79-4-4-4z\" stroke=\"#000\" stroke-linecap=\"round\" stroke-width=\"1.5\" /></g><g class=\"black knight\" fill=\"none\" fill-rule=\"evenodd\" id=\"black-knight\" stroke=\"#000\" stroke-linecap=\"round\" stroke-linejoin=\"round\" stroke-width=\"1.5\"><path d=\"M 22,10 C 32.5,11 38.5,18 38,39 L 15,39 C 15,30 25,32.5 23,18\" style=\"fill:#000000; stroke:#000000;\" /><path d=\"M 24,18 C 24.38,20.91 18.45,25.37 16,27 C 13,29 13.18,31.34 11,31 C 9.958,30.06 12.41,27.96 11,28 C 10,28 11.19,29.23 10,30 C 9,30 5.997,31 6,26 C 6,24 12,14 12,14 C 12,14 13.89,12.1 14,10.5 C 13.27,9.506 13.5,8.5 13.5,7.5 C 14.5,6.5 16.5,10 16.5,10 L 18.5,10 C 18.5,10 19.28,8.008 21,7 C 22,7 22,10 22,10\" style=\"fill:#000000; stroke:#000000;\" /><path d=\"M 9.5 25.5 A 0.5 0.5 0 1 1 8.5,25.5 A 0.5 0.5 0 1 1 9.5 25.5 z\" style=\"fill:#ececec; stroke:#ececec;\" /><path d=\"M 15 15.5 A 0.5 1.5 0 1 1 14,15.5 A 0.5 1.5 0 1 1 15 15.5 z\" style=\"fill:#ececec; stroke:#ececec;\" transform=\"matrix(0.866,0.5,-0.5,0.866,9.693,-5.173)\" /><path d=\"M 24.55,10.4 L 24.1,11.85 L 24.6,12 C 27.75,13 30.25,14.49 32.5,18.75 C 34.75,23.01 35.75,29.06 35.25,39 L 35.2,39.5 L 37.45,39.5 L 37.5,39 C 38,28.94 36.62,22.15 34.25,17.66 C 31.88,13.17 28.46,11.02 25.06,10.5 L 24.55,10.4 z \" style=\"fill:#ececec; stroke:none;\" /></g><g class=\"black bishop\" fill=\"none\" fill-rule=\"evenodd\" id=\"black-bishop\" stroke=\"#000\" stroke-linecap=\"round\" stroke-linejoin=\"round\" stroke-width=\"1.5\"><path d=\"M9 36c3.39-.97 10.11.43 13.5-2 3.39 2.43 10.11 1.03 13.5 2 0 0 1.65.54 3 2-.68.97-1.65.99-3 .5-3.39-.97-10.11.46-13.5-1-3.39 1.46-10.11.03-13.5 1-1.354.49-2.323.47-3-.5 1.354-1.94 3-2 3-2zm6-4c2.5 2.5 12.5 2.5 15 0 .5-1.5 0-2 0-2 0-2.5-2.5-4-2.5-4 5.5-1.5 6-11.5-5-15.5-11 4-10.5 14-5 15.5 0 0-2.5 1.5-2.5 4 0 0-.5.5 0 2zM25 8a2.5 2.5 0 1 1-5 0 2.5 2.5 0 1 1 5 0z\" fill=\"#000\" stroke-linecap=\"butt\" /><path d=\"M17.5 26h10M15 30h15m-7.5-14.5v5M20 18h5\" stroke=\"#fff\" stroke-linejoin=\"miter\" /></g><g class=\"black rook\" fill=\"#000\" fill-rule=\"evenodd\" id=\"black-rook\" stroke=\"#000\" stroke-linecap=\"round\" stroke-linejoin=\"round\" stroke-width=\"1.5\"><path d=\"M9 39h27v-3H9v3zM12.5 32l1.5-2.5h17l1.5 2.5h-20zM12 36v-4h21v4H12z\" stroke-linecap=\"butt\" /><path d=\"M14 29.5v-13h17v13H14z\" stroke-linecap=\"butt\" stroke-linejoin=\"miter\" /><path d=\"M14 16.5L11 14h23l-3 2.5H14zM11 14V9h4v2h5V9h5v2h5V9h4v5H11z\" stroke-linecap=\"butt\" /><path d=\"M12 35.5h21M13 31.5h19M14 29.5h17M14 16.5h17M11 14h23\" fill=\"none\" stroke=\"#fff\" stroke-linejoin=\"miter\" stroke-width=\"1\" /></g><g class=\"black queen\" fill=\"#000\" fill-rule=\"evenodd\" id=\"black-queen\" stroke=\"#000\" stroke-linecap=\"round\" stroke-linejoin=\"round\" stroke-width=\"1.5\"><g fill=\"#000\" stroke=\"none\"><circle cx=\"6\" cy=\"12\" r=\"2.75\" /><circle cx=\"14\" cy=\"9\" r=\"2.75\" /><circle cx=\"22.5\" cy=\"8\" r=\"2.75\" /><circle cx=\"31\" cy=\"9\" r=\"2.75\" /><circle cx=\"39\" cy=\"12\" r=\"2.75\" /></g><path d=\"M9 26c8.5-1.5 21-1.5 27 0l2.5-12.5L31 25l-.3-14.1-5.2 13.6-3-14.5-3 14.5-5.2-13.6L14 25 6.5 13.5 9 26zM9 26c0 2 1.5 2 2.5 4 1 1.5 1 1 .5 3.5-1.5 1-1.5 2.5-1.5 2.5-1.5 1.5.5 2.5.5 2.5 6.5 1 16.5 1 23 0 0 0 1.5-1 0-2.5 0 0 .5-1.5-1-2.5-.5-2.5-.5-2 .5-3.5 1-2 2.5-2 2.5-4-8.5-1.5-18.5-1.5-27 0z\" stroke-linecap=\"butt\" /><path d=\"M11 38.5a35 35 1 0 0 23 0\" fill=\"none\" stroke-linecap=\"butt\" /><path d=\"M11 29a35 35 1 0 1 23 0M12.5 31.5h20M11.5 34.5a35 35 1 0 0 22 0M10.5 37.5a35 35 1 0 0 24 0\" fill=\"none\" stroke=\"#fff\" /></g><g class=\"black king\" fill=\"none\" fill-rule=\"evenodd\" id=\"black-king\" stroke=\"#000\" stroke-linecap=\"round\" stroke-linejoin=\"round\" stroke-width=\"1.5\"><path d=\"M22.5 11.63V6\" stroke-linejoin=\"miter\" /><path d=\"M22.5 25s4.5-7.5 3-10.5c0 0-1-2.5-3-2.5s-3 2.5-3 2.5c-1.5 3 3 10.5 3 10.5\" fill=\"#000\" stroke-linecap=\"butt\" stroke-linejoin=\"miter\" /><path d=\"M11.5 37c5.5 3.5 15.5 3.5 21 0v-7s9-4.5 6-10.5c-4-6.5-13.5-3.5-16 4V27v-3.5c-3.5-7.5-13-10.5-16-4-3 6 5 10 5 10V37z\" fill=\"#000\" /><path d=\"M20 8h5\" stroke-linejoin=\"miter\" /><path d=\"M32 29.5s8.5-4 6.03-9.65C34.15 14 25 18 22.5 24.5l.01 2.1-.01-2.1C20 18 9.906 14 6.997 19.85c-2.497 5.65 4.853 9 4.853 9M11.5 30c5.5-3 15.5-3 21 0m-21 3.5c5.5-3 15.5-3 21 0m-21 3.5c5.5-3 15.5-3 21 0\" stroke=\"#fff\" /></g></defs><rect fill=\"#212121\" height=\"390\" width=\"390\" x=\"0\" y=\"0\" /><g fill=\"#e5e5e5\" stroke=\"#e5e5e5\" transform=\"translate(20, 0) scale(0.75, 0.75)\"><path d=\"M23.328 10.016q-1.742 0-2.414.398-.672.398-.672 1.36 0 .765.5 1.218.508.445 1.375.445 1.196 0 1.914-.843.727-.852.727-2.258v-.32zm2.867-.594v4.992h-1.437v-1.328q-.492.797-1.227 1.18-.734.375-1.797.375-1.343 0-2.14-.75-.79-.758-.79-2.024 0-1.476.985-2.226.992-.75 2.953-.75h2.016V8.75q0-.992-.656-1.531-.649-.547-1.829-.547-.75 0-1.46.18-.711.18-1.368.539V6.062q.79-.304 1.532-.453.742-.156 1.445-.156 1.898 0 2.836.984.937.985.937 2.985z\" /></g><g fill=\"#e5e5e5\" stroke=\"#e5e5e5\" transform=\"translate(20, 375) scale(0.75, 0.75)\"><path d=\"M23.328 10.016q-1.742 0-2.414.398-.672.398-.672 1.36 0 .765.5 1.218.508.445 1.375.445 1.196 0 1.914-.843.727-.852.727-2.258v-.32zm2.867-.594v4.992h-1.437v-1.328q-.492.797-1.227 1.18-.734.375-1.797.375-1.343 0-2.14-.75-.79-.758-.79-2.024 0-1.476.985-2.226.992-.75 2.953-.75h2.016V8.75q0-.992-.656-1.531-.649-.547-1.829-.547-.75 0-1.46.18-.711.18-1.368.539V6.062q.79-.304 1.532-.453.742-.156 1.445-.156 1.898 0 2.836.984.937.985.937 2.985z\" /></g><g fill=\"#e5e5e5\" stroke=\"#e5e5e5\" transform=\"translate(65, 0) scale(0.75, 0.75)\"><path d=\"M24.922 10.047q0-1.586-.656-2.485-.649-.906-1.79-.906-1.14 0-1.796.906-.649.899-.649 2.485 0 1.586.649 2.492.656.898 1.797.898 1.14 0 1.789-.898.656-.906.656-2.492zm-4.89-3.055q.452-.781 1.14-1.156.695-.383 1.656-.383 1.594 0 2.586 1.266 1 1.265 1 3.328 0 2.062-1 3.328-.992 1.266-2.586 1.266-.96 0-1.656-.375-.688-.383-1.14-1.164v1.312h-1.446V2.258h1.445z\" /></g><g fill=\"#e5e5e5\" stroke=\"#e5e5e5\" transform=\"translate(65, 375) scale(0.75, 0.75)\"><path d=\"M24.922 10.047q0-1.586-.656-2.485-.649-.906-1.79-.906-1.14 0-1.796.906-.649.899-.649 2.485 0 1.586.649 2.492.656.898 1.797.898 1.14 0 1.789-.898.656-.906.656-2.492zm-4.89-3.055q.452-.781 1.14-1.156.695-.383 1.656-.383 1.594 0 2.586 1.266 1 1.265 1 3.328 0 2.062-1 3.328-.992 1.266-2.586 1.266-.96 0-1.656-.375-.688-.383-1.14-1.164v1.312h-1.446V2.258h1.445z\" /></g><g fill=\"#e5e5e5\" stroke=\"#e5e5e5\" transform=\"translate(110, 0) scale(0.75, 0.75)\"><path d=\"M25.96 6v1.344q-.608-.336-1.226-.5-.609-.172-1.234-.172-1.398 0-2.172.89-.773.883-.773 2.485 0 1.601.773 2.492.774.883 2.172.883.625 0 1.234-.164.618-.172 1.227-.508v1.328q-.602.281-1.25.422-.64.14-1.367.14-1.977 0-3.14-1.242-1.165-1.242-1.165-3.351 0-2.14 1.172-3.367 1.18-1.227 3.227-1.227.664 0 1.296.14.633.134 1.227.407z\" /></g><g fill=\"#e5e5e5\" stroke=\"#e5e5e5\" transform=\"translate(110, 375) scale(0.75, 0.75)\"><path d=\"M25.96 6v1.344q-.608-.336-1.226-.5-.609-.172-1.234-.172-1.398 0-2.172.89-.773.883-.773 2.485 0 1.601.773 2.492.774.883 2.172.883.625 0 1.234-.164.618-.172 1.227-.508v1.328q-.602.281-1.25.422-.64.14-1.367.14-1.977 0-3.14-1.242-1.165-1.242-1.165-3.351 0-2.14 1.172-3.367 1.18-1.227 3.227-1.227.664 0 1.296.14.633.134 1.227.407z\" /></g><g fill=\"#e5e5e5\" stroke=\"#e5e5e5\" transform=\"translate(155, 0) scale(0.75, 0.75)\"><path d=\"M24.973 6.992V2.258h1.437v12.156h-1.437v-1.312q-.453.78-1.149 1.164-.687.375-1.656.375-1.586 0-2.586-1.266-.992-1.266-.992-3.328 0-2.063.992-3.328 1-1.266 2.586-1.266.969 0 1.656.383.696.375 1.149 1.156zm-4.899 3.055q0 1.586.649 2.492.656.898 1.797.898 1.14 0 1.796-.898.657-.906.657-2.492 0-1.586-.657-2.485-.656-.906-1.796-.906-1.141 0-1.797.906-.649.899-.649 2.485z\" /></g><g fill=\"#e5e5e5\" stroke=\"#e5e5e5\" transform=\"translate(155, 375) scale(0.75, 0.75)\"><path d=\"M24.973 6.992V2.258h1.437v12.156h-1.437v-1.312q-.453.78-1.149 1.164-.687.375-1.656.375-1.586 0-2.586-1.266-.992-1.266-.992-3.328 0-2.063.992-3.328 1-1.266 2.586-1.266.969 0 1.656.383.696.375 1.149 1.156zm-4.899 3.055q0 1.586.649 2.492.656.898 1.797.898 1.14 0 1.796-.898.657-.906.657-2.492 0-1.586-.657-2.485-.656-.906-1.796-.906-1.141 0-1.797.906-.649.899-.649 2.485z\" /></g><g fill=\"#e5e5e5\" stroke=\"#e5e5e5\" transform=\"translate(200, 0) scale(0.75, 0.75)\"><path d=\"M26.555 9.68v.703h-6.61q.094 1.484.89 2.265.806.774 2.235.774.828 0 1.602-.203.781-.203 1.547-.61v1.36q-.774.328-1.586.5-.813.172-1.649.172-2.093 0-3.32-1.22-1.219-1.218-1.219-3.296 0-2.148 1.157-3.406 1.164-1.266 3.132-1.266 1.766 0 2.79 1.14 1.03 1.134 1.03 3.087zm-1.438-.422q-.015-1.18-.664-1.883-.64-.703-1.703-.703-1.203 0-1.93.68-.718.68-.828 1.914z\" /></g><g fill=\"#e5e5e5\" stroke=\"#e5e5e5\" transform=\"translate(200, 375) scale(0.75, 0.75)\"><path d=\"M26.555 9.68v.703h-6.61q.094 1.484.89 2.265.806.774 2.235.774.828 0 1.602-.203.781-.203 1.547-.61v1.36q-.774.328-1.586.5-.813.172-1.649.172-2.093 0-3.32-1.22-1.219-1.218-1.219-3.296 0-2.148 1.157-3.406 1.164-1.266 3.132-1.266 1.766 0 2.79 1.14 1.03 1.134 1.03 3.087zm-1.438-.422q-.015-1.18-.664-1.883-.64-.703-1.703-.703-1.203 0-1.93.68-.718.68-.828 1.914z\" /></g><g fill=\"#e5e5e5\" stroke=\"#e5e5e5\" transform=\"translate(245, 0) scale(0.75, 0.75)\"><path d=\"M25.285 2.258v1.195H23.91q-.773 0-1.078.313-.297.312-.297 1.125v.773h2.367v1.117h-2.367v7.633H21.09V6.781h-1.375V5.664h1.375v-.61q0-1.46.68-2.124.68-.672 2.156-.672z\" /></g><g fill=\"#e5e5e5\" stroke=\"#e5e5e5\" transform=\"translate(245, 375) scale(0.75, 0.75)\"><path d=\"M25.285 2.258v1.195H23.91q-.773 0-1.078.313-.297.312-.297 1.125v.773h2.367v1.117h-2.367v7.633H21.09V6.781h-1.375V5.664h1.375v-.61q0-1.46.68-2.124.68-.672 2.156-.672z\" /></g><g fill=\"#e5e5e5\" stroke=\"#e5e5e5\" transform=\"translate(290, 0) scale(0.75, 0.75)\"><path d=\"M24.973 9.937q0-1.562-.649-2.421-.64-.86-1.804-.86-1.157 0-1.805.86-.64.859-.64 2.421 0 1.555.64 2.415.648.859 1.805.859 1.164 0 1.804-.86.649-.859.649-2.414zm1.437 3.391q0 2.234-.992 3.32-.992 1.094-3.04 1.094-.757 0-1.429-.117-.672-.11-1.304-.344v-1.398q.632.344 1.25.508.617.164 1.257.164 1.414 0 2.118-.743.703-.734.703-2.226v-.711q-.446.773-1.141 1.156-.695.383-1.664.383-1.61 0-2.594-1.227-.984-1.226-.984-3.25 0-2.03.984-3.257.985-1.227 2.594-1.227.969 0 1.664.383t1.14 1.156V5.664h1.438z\" /></g><g fill=\"#e5e5e5\" stroke=\"#e5e5e5\" transform=\"translate(290, 375) scale(0.75, 0.75)\"><path d=\"M24.973 9.937q0-1.562-.649-2.421-.64-.86-1.804-.86-1.157 0-1.805.86-.64.859-.64 2.421 0 1.555.64 2.415.648.859 1.805.859 1.164 0 1.804-.86.649-.859.649-2.414zm1.437 3.391q0 2.234-.992 3.32-.992 1.094-3.04 1.094-.757 0-1.429-.117-.672-.11-1.304-.344v-1.398q.632.344 1.25.508.617.164 1.257.164 1.414 0 2.118-.743.703-.734.703-2.226v-.711q-.446.773-1.141 1.156-.695.383-1.664.383-1.61 0-2.594-1.227-.984-1.226-.984-3.25 0-2.03.984-3.257.985-1.227 2.594-1.227.969 0 1.664.383t1.14 1.156V5.664h1.438z\" /></g><g fill=\"#e5e5e5\" stroke=\"#e5e5e5\" transform=\"translate(335, 0) scale(0.75, 0.75)\"><path d=\"M26.164 9.133v5.281h-1.437V9.18q0-1.243-.485-1.86-.484-.617-1.453-.617-1.164 0-1.836.742-.672.742-.672 2.024v4.945h-1.445V2.258h1.445v4.765q.516-.789 1.211-1.18.703-.39 1.617-.39 1.508 0 2.282.938.773.93.773 2.742z\" /></g><g fill=\"#e5e5e5\" stroke=\"#e5e5e5\" transform=\"translate(335, 375) scale(0.75, 0.75)\"><path d=\"M26.164 9.133v5.281h-1.437V9.18q0-1.243-.485-1.86-.484-.617-1.453-.617-1.164 0-1.836.742-.672.742-.672 2.024v4.945h-1.445V2.258h1.445v4.765q.516-.789 1.211-1.18.703-.39 1.617-.39 1.508 0 2.282.938.773.93.773 2.742z\" /></g><g fill=\"#e5e5e5\" stroke=\"#e5e5e5\" transform=\"translate(0, 335) scale(0.75, 0.75)\"><path d=\"M6.754 26.996h2.578v-8.898l-2.805.562v-1.437l2.79-.563h1.578v10.336h2.578v1.328h-6.72z\" /></g><g fill=\"#e5e5e5\" stroke=\"#e5e5e5\" transform=\"translate(375, 335) scale(0.75, 0.75)\"><path d=\"M6.754 26.996h2.578v-8.898l-2.805.562v-1.437l2.79-.563h1.578v10.336h2.578v1.328h-6.72z\" /></g><g fill=\"#e5e5e5\" stroke=\"#e5e5e5\" transform=\"translate(0, 290) scale(0.75, 0.75)\"><path d=\"M8.195 26.996h5.508v1.328H6.297v-1.328q.898-.93 2.445-2.492 1.555-1.57 1.953-2.024.758-.851 1.055-1.437.305-.594.305-1.164 0-.93-.657-1.516-.648-.586-1.695-.586-.742 0-1.57.258-.82.258-1.758.781v-1.593q.953-.383 1.781-.578.828-.196 1.516-.196 1.812 0 2.89.906 1.079.907 1.079 2.422 0 .72-.274 1.368-.265.64-.976 1.515-.196.227-1.243 1.313-1.046 1.078-2.953 3.023z\" /></g><g fill=\"#e5e5e5\" stroke=\"#e5e5e5\" transform=\"translate(375, 290) scale(0.75, 0.75)\"><path d=\"M8.195 26.996h5.508v1.328H6.297v-1.328q.898-.93 2.445-2.492 1.555-1.57 1.953-2.024.758-.851 1.055-1.437.305-.594.305-1.164 0-.93-.657-1.516-.648-.586-1.695-.586-.742 0-1.57.258-.82.258-1.758.781v-1.593q.953-.383 1.781-.578.828-.196 1.516-.196 1.812 0 2.89.906 1.079.907 1.079 2.422 0 .72-.274 1.368-.265.64-.976 1.515-.196.227-1.243 1.313-1.046 1.078-2.953 3.023z\" /></g><g fill=\"#e5e5e5\" stroke=\"#e5e5e5\" transform=\"translate(0, 245) scale(0.75, 0.75)\"><path d=\"M11.434 22.035q1.132.242 1.765 1.008.64.766.64 1.89 0 1.727-1.187 2.672-1.187.946-3.375.946-.734 0-1.515-.149-.774-.14-1.602-.43V26.45q.656.383 1.438.578.78.196 1.632.196 1.485 0 2.258-.586.782-.586.782-1.703 0-1.032-.727-1.61-.719-.586-2.008-.586h-1.36v-1.297h1.423q1.164 0 1.78-.46.618-.47.618-1.344 0-.899-.64-1.375-.633-.485-1.82-.485-.65 0-1.391.141-.743.14-1.633.437V16.95q.898-.25 1.68-.375.788-.125 1.484-.125 1.797 0 2.844.82 1.046.813 1.046 2.204 0 .968-.554 1.64-.555.664-1.578.922z\" /></g><g fill=\"#e5e5e5\" stroke=\"#e5e5e5\" transform=\"translate(375, 245) scale(0.75, 0.75)\"><path d=\"M11.434 22.035q1.132.242 1.765 1.008.64.766.64 1.89 0 1.727-1.187 2.672-1.187.946-3.375.946-.734 0-1.515-.149-.774-.14-1.602-.43V26.45q.656.383 1.438.578.78.196 1.632.196 1.485 0 2.258-.586.782-.586.782-1.703 0-1.032-.727-1.61-.719-.586-2.008-.586h-1.36v-1.297h1.423q1.164 0 1.78-.46.618-.47.618-1.344 0-.899-.64-1.375-.633-.485-1.82-.485-.65 0-1.391.141-.743.14-1.633.437V16.95q.898-.25 1.68-.375.788-.125 1.484-.125 1.797 0 2.844.82 1.046.813 1.046 2.204 0 .968-.554 1.64-.555.664-1.578.922z\" /></g><g fill=\"#e5e5e5\" stroke=\"#e5e5e5\" transform=\"translate(0, 200) scale(0.75, 0.75)\"><path d=\"M11.016 18.035L7.03 24.262h3.985zm-.414-1.375h1.984v7.602h1.664v1.312h-1.664v2.75h-1.57v-2.75H5.75v-1.523z\" /></g><g fill=\"#e5e5e5\" stroke=\"#e5e5e5\" transform=\"translate(375, 200) scale(0.75, 0.75)\"><path d=\"M11.016 18.035L7.03 24.262h3.985zm-.414-1.375h1.984v7.602h1.664v1.312h-1.664v2.75h-1.57v-2.75H5.75v-1.523z\" /></g><g fill=\"#e5e5e5\" stroke=\"#e5e5e5\" transform=\"translate(0, 155) scale(0.75, 0.75)\"><path d=\"M6.719 16.66h6.195v1.328h-4.75v2.86q.344-.118.688-.172.343-.063.687-.063 1.953 0 3.094 1.07 1.14 1.07 1.14 2.899 0 1.883-1.171 2.93-1.172 1.039-3.305 1.039-.735 0-1.5-.125-.758-.125-1.57-.375v-1.586q.703.383 1.453.57.75.188 1.586.188 1.351 0 2.14-.711.79-.711.79-1.93 0-1.219-.79-1.93-.789-.71-2.14-.71-.633 0-1.266.14-.625.14-1.281.438z\" /></g><g fill=\"#e5e5e5\" stroke=\"#e5e5e5\" transform=\"translate(375, 155) scale(0.75, 0.75)\"><path d=\"M6.719 16.66h6.195v1.328h-4.75v2.86q.344-.118.688-.172.343-.063.687-.063 1.953 0 3.094 1.07 1.14 1.07 1.14 2.899 0 1.883-1.171 2.93-1.172 1.039-3.305 1.039-.735 0-1.5-.125-.758-.125-1.57-.375v-1.586q.703.383 1.453.57.75.188 1.586.188 1.351 0 2.14-.711.79-.711.79-1.93 0-1.219-.79-1.93-.789-.71-2.14-.71-.633 0-1.266.14-.625.14-1.281.438z\" /></g><g fill=\"#e5e5e5\" stroke=\"#e5e5e5\" transform=\"translate(0, 110) scale(0.75, 0.75)\"><path d=\"M10.137 21.863q-1.063 0-1.688.727-.617.726-.617 1.992 0 1.258.617 1.992.625.727 1.688.727 1.062 0 1.68-.727.624-.734.624-1.992 0-1.266-.625-1.992-.617-.727-1.68-.727zm3.133-4.945v1.437q-.594-.28-1.204-.43-.601-.148-1.195-.148-1.562 0-2.39 1.055-.82 1.055-.938 3.188.46-.68 1.156-1.04.696-.367 1.531-.367 1.758 0 2.774 1.07 1.023 1.063 1.023 2.899 0 1.797-1.062 2.883-1.063 1.086-2.828 1.086-2.024 0-3.094-1.547-1.07-1.555-1.07-4.5 0-2.766 1.312-4.406 1.313-1.649 3.524-1.649.593 0 1.195.117.61.118 1.266.352z\" /></g><g fill=\"#e5e5e5\" stroke=\"#e5e5e5\" transform=\"translate(375, 110) scale(0.75, 0.75)\"><path d=\"M10.137 21.863q-1.063 0-1.688.727-.617.726-.617 1.992 0 1.258.617 1.992.625.727 1.688.727 1.062 0 1.68-.727.624-.734.624-1.992 0-1.266-.625-1.992-.617-.727-1.68-.727zm3.133-4.945v1.437q-.594-.28-1.204-.43-.601-.148-1.195-.148-1.562 0-2.39 1.055-.82 1.055-.938 3.188.46-.68 1.156-1.04.696-.367 1.531-.367 1.758 0 2.774 1.07 1.023 1.063 1.023 2.899 0 1.797-1.062 2.883-1.063 1.086-2.828 1.086-2.024 0-3.094-1.547-1.07-1.555-1.07-4.5 0-2.766 1.312-4.406 1.313-1.649 3.524-1.649.593 0 1.195.117.61.118 1.266.352z\" /></g><g fill=\"#e5e5e5\" stroke=\"#e5e5e5\" transform=\"translate(0, 65) scale(0.75, 0.75)\"><path d=\"M6.25 16.66h7.5v.672L9.516 28.324H7.867l3.985-10.336H6.25z\" /></g><g fill=\"#e5e5e5\" stroke=\"#e5e5e5\" transform=\"translate(375, 65) scale(0.75, 0.75)\"><path d=\"M6.25 16.66h7.5v.672L9.516 28.324H7.867l3.985-10.336H6.25z\" /></g><g fill=\"#e5e5e5\" stroke=\"#e5e5e5\" transform=\"translate(0, 20) scale(0.75, 0.75)\"><path d=\"M10 22.785q-1.125 0-1.773.602-.641.601-.641 1.656t.64 1.656q.649.602 1.774.602t1.773-.602q.649-.61.649-1.656 0-1.055-.649-1.656-.64-.602-1.773-.602zm-1.578-.672q-1.016-.25-1.586-.945-.563-.695-.563-1.695 0-1.399.993-2.211 1-.813 2.734-.813 1.742 0 2.734.813.993.812.993 2.21 0 1-.57 1.696-.563.695-1.571.945 1.14.266 1.773 1.04.641.773.641 1.89 0 1.695-1.04 2.602-1.03.906-2.96.906t-2.969-.906Q6 26.738 6 25.043q0-1.117.64-1.89.641-.774 1.782-1.04zm-.578-2.492q0 .906.562 1.414.57.508 1.594.508 1.016 0 1.586-.508.578-.508.578-1.414 0-.906-.578-1.414-.57-.508-1.586-.508-1.023 0-1.594.508-.562.508-.562 1.414z\" /></g><g fill=\"#e5e5e5\" stroke=\"#e5e5e5\" transform=\"translate(375, 20) scale(0.75, 0.75)\"><path d=\"M10 22.785q-1.125 0-1.773.602-.641.601-.641 1.656t.64 1.656q.649.602 1.774.602t1.773-.602q.649-.61.649-1.656 0-1.055-.649-1.656-.64-.602-1.773-.602zm-1.578-.672q-1.016-.25-1.586-.945-.563-.695-.563-1.695 0-1.399.993-2.211 1-.813 2.734-.813 1.742 0 2.734.813.993.812.993 2.21 0 1-.57 1.696-.563.695-1.571.945 1.14.266 1.773 1.04.641.773.641 1.89 0 1.695-1.04 2.602-1.03.906-2.96.906t-2.969-.906Q6 26.738 6 25.043q0-1.117.64-1.89.641-.774 1.782-1.04zm-.578-2.492q0 .906.562 1.414.57.508 1.594.508 1.016 0 1.586-.508.578-.508.578-1.414 0-.906-.578-1.414-.57-.508-1.586-.508-1.023 0-1.594.508-.562.508-.562 1.414z\" /></g><rect class=\"square dark a1\" fill=\"#d18b47\" height=\"45\" stroke=\"none\" width=\"45\" x=\"15\" y=\"330\" /><rect class=\"square light b1\" fill=\"#ffce9e\" height=\"45\" stroke=\"none\" width=\"45\" x=\"60\" y=\"330\" /><rect class=\"square dark c1\" fill=\"#d18b47\" height=\"45\" stroke=\"none\" width=\"45\" x=\"105\" y=\"330\" /><rect class=\"square light d1\" fill=\"#ffce9e\" height=\"45\" stroke=\"none\" width=\"45\" x=\"150\" y=\"330\" /><rect class=\"square dark e1\" fill=\"#d18b47\" height=\"45\" stroke=\"none\" width=\"45\" x=\"195\" y=\"330\" /><rect class=\"square light f1\" fill=\"#ffce9e\" height=\"45\" stroke=\"none\" width=\"45\" x=\"240\" y=\"330\" /><rect class=\"square dark g1\" fill=\"#d18b47\" height=\"45\" stroke=\"none\" width=\"45\" x=\"285\" y=\"330\" /><rect class=\"square light h1\" fill=\"#ffce9e\" height=\"45\" stroke=\"none\" width=\"45\" x=\"330\" y=\"330\" /><rect class=\"square light a2\" fill=\"#ffce9e\" height=\"45\" stroke=\"none\" width=\"45\" x=\"15\" y=\"285\" /><rect class=\"square dark b2\" fill=\"#d18b47\" height=\"45\" stroke=\"none\" width=\"45\" x=\"60\" y=\"285\" /><rect class=\"square light c2\" fill=\"#ffce9e\" height=\"45\" stroke=\"none\" width=\"45\" x=\"105\" y=\"285\" /><rect class=\"square dark d2\" fill=\"#d18b47\" height=\"45\" stroke=\"none\" width=\"45\" x=\"150\" y=\"285\" /><rect class=\"square light e2\" fill=\"#ffce9e\" height=\"45\" stroke=\"none\" width=\"45\" x=\"195\" y=\"285\" /><rect class=\"square dark f2\" fill=\"#d18b47\" height=\"45\" stroke=\"none\" width=\"45\" x=\"240\" y=\"285\" /><rect class=\"square light g2\" fill=\"#ffce9e\" height=\"45\" stroke=\"none\" width=\"45\" x=\"285\" y=\"285\" /><rect class=\"square dark h2\" fill=\"#d18b47\" height=\"45\" stroke=\"none\" width=\"45\" x=\"330\" y=\"285\" /><rect class=\"square dark a3\" fill=\"#d18b47\" height=\"45\" stroke=\"none\" width=\"45\" x=\"15\" y=\"240\" /><rect class=\"square light b3\" fill=\"#ffce9e\" height=\"45\" stroke=\"none\" width=\"45\" x=\"60\" y=\"240\" /><rect class=\"square dark c3\" fill=\"#d18b47\" height=\"45\" stroke=\"none\" width=\"45\" x=\"105\" y=\"240\" /><rect class=\"square light d3\" fill=\"#ffce9e\" height=\"45\" stroke=\"none\" width=\"45\" x=\"150\" y=\"240\" /><rect class=\"square dark e3\" fill=\"#d18b47\" height=\"45\" stroke=\"none\" width=\"45\" x=\"195\" y=\"240\" /><rect class=\"square light f3\" fill=\"#ffce9e\" height=\"45\" stroke=\"none\" width=\"45\" x=\"240\" y=\"240\" /><rect class=\"square dark g3\" fill=\"#d18b47\" height=\"45\" stroke=\"none\" width=\"45\" x=\"285\" y=\"240\" /><rect class=\"square light h3\" fill=\"#ffce9e\" height=\"45\" stroke=\"none\" width=\"45\" x=\"330\" y=\"240\" /><rect class=\"square light a4\" fill=\"#ffce9e\" height=\"45\" stroke=\"none\" width=\"45\" x=\"15\" y=\"195\" /><rect class=\"square dark b4\" fill=\"#d18b47\" height=\"45\" stroke=\"none\" width=\"45\" x=\"60\" y=\"195\" /><rect class=\"square light c4\" fill=\"#ffce9e\" height=\"45\" stroke=\"none\" width=\"45\" x=\"105\" y=\"195\" /><rect class=\"square dark d4\" fill=\"#d18b47\" height=\"45\" stroke=\"none\" width=\"45\" x=\"150\" y=\"195\" /><rect class=\"square light e4\" fill=\"#ffce9e\" height=\"45\" stroke=\"none\" width=\"45\" x=\"195\" y=\"195\" /><rect class=\"square dark f4\" fill=\"#d18b47\" height=\"45\" stroke=\"none\" width=\"45\" x=\"240\" y=\"195\" /><rect class=\"square light g4\" fill=\"#ffce9e\" height=\"45\" stroke=\"none\" width=\"45\" x=\"285\" y=\"195\" /><rect class=\"square dark h4\" fill=\"#d18b47\" height=\"45\" stroke=\"none\" width=\"45\" x=\"330\" y=\"195\" /><rect class=\"square dark a5\" fill=\"#d18b47\" height=\"45\" stroke=\"none\" width=\"45\" x=\"15\" y=\"150\" /><rect class=\"square light b5\" fill=\"#ffce9e\" height=\"45\" stroke=\"none\" width=\"45\" x=\"60\" y=\"150\" /><rect class=\"square dark c5\" fill=\"#d18b47\" height=\"45\" stroke=\"none\" width=\"45\" x=\"105\" y=\"150\" /><rect class=\"square light d5\" fill=\"#ffce9e\" height=\"45\" stroke=\"none\" width=\"45\" x=\"150\" y=\"150\" /><rect class=\"square dark e5\" fill=\"#d18b47\" height=\"45\" stroke=\"none\" width=\"45\" x=\"195\" y=\"150\" /><rect class=\"square light f5\" fill=\"#ffce9e\" height=\"45\" stroke=\"none\" width=\"45\" x=\"240\" y=\"150\" /><rect class=\"square dark g5\" fill=\"#d18b47\" height=\"45\" stroke=\"none\" width=\"45\" x=\"285\" y=\"150\" /><rect class=\"square light h5\" fill=\"#ffce9e\" height=\"45\" stroke=\"none\" width=\"45\" x=\"330\" y=\"150\" /><rect class=\"square light a6\" fill=\"#ffce9e\" height=\"45\" stroke=\"none\" width=\"45\" x=\"15\" y=\"105\" /><rect class=\"square dark b6\" fill=\"#d18b47\" height=\"45\" stroke=\"none\" width=\"45\" x=\"60\" y=\"105\" /><rect class=\"square light c6\" fill=\"#ffce9e\" height=\"45\" stroke=\"none\" width=\"45\" x=\"105\" y=\"105\" /><rect class=\"square dark d6\" fill=\"#d18b47\" height=\"45\" stroke=\"none\" width=\"45\" x=\"150\" y=\"105\" /><rect class=\"square light e6\" fill=\"#ffce9e\" height=\"45\" stroke=\"none\" width=\"45\" x=\"195\" y=\"105\" /><rect class=\"square dark f6\" fill=\"#d18b47\" height=\"45\" stroke=\"none\" width=\"45\" x=\"240\" y=\"105\" /><rect class=\"square light g6\" fill=\"#ffce9e\" height=\"45\" stroke=\"none\" width=\"45\" x=\"285\" y=\"105\" /><rect class=\"square dark h6\" fill=\"#d18b47\" height=\"45\" stroke=\"none\" width=\"45\" x=\"330\" y=\"105\" /><rect class=\"square dark a7\" fill=\"#d18b47\" height=\"45\" stroke=\"none\" width=\"45\" x=\"15\" y=\"60\" /><rect class=\"square light b7\" fill=\"#ffce9e\" height=\"45\" stroke=\"none\" width=\"45\" x=\"60\" y=\"60\" /><rect class=\"square dark c7\" fill=\"#d18b47\" height=\"45\" stroke=\"none\" width=\"45\" x=\"105\" y=\"60\" /><rect class=\"square light d7\" fill=\"#ffce9e\" height=\"45\" stroke=\"none\" width=\"45\" x=\"150\" y=\"60\" /><rect class=\"square dark e7\" fill=\"#d18b47\" height=\"45\" stroke=\"none\" width=\"45\" x=\"195\" y=\"60\" /><rect class=\"square light f7\" fill=\"#ffce9e\" height=\"45\" stroke=\"none\" width=\"45\" x=\"240\" y=\"60\" /><rect class=\"square dark g7\" fill=\"#d18b47\" height=\"45\" stroke=\"none\" width=\"45\" x=\"285\" y=\"60\" /><rect class=\"square light h7\" fill=\"#ffce9e\" height=\"45\" stroke=\"none\" width=\"45\" x=\"330\" y=\"60\" /><rect class=\"square light a8\" fill=\"#ffce9e\" height=\"45\" stroke=\"none\" width=\"45\" x=\"15\" y=\"15\" /><rect class=\"square dark b8\" fill=\"#d18b47\" height=\"45\" stroke=\"none\" width=\"45\" x=\"60\" y=\"15\" /><rect class=\"square light c8\" fill=\"#ffce9e\" height=\"45\" stroke=\"none\" width=\"45\" x=\"105\" y=\"15\" /><rect class=\"square dark d8\" fill=\"#d18b47\" height=\"45\" stroke=\"none\" width=\"45\" x=\"150\" y=\"15\" /><rect class=\"square light e8\" fill=\"#ffce9e\" height=\"45\" stroke=\"none\" width=\"45\" x=\"195\" y=\"15\" /><rect class=\"square dark f8\" fill=\"#d18b47\" height=\"45\" stroke=\"none\" width=\"45\" x=\"240\" y=\"15\" /><rect class=\"square light g8\" fill=\"#ffce9e\" height=\"45\" stroke=\"none\" width=\"45\" x=\"285\" y=\"15\" /><rect class=\"square dark h8\" fill=\"#d18b47\" height=\"45\" stroke=\"none\" width=\"45\" x=\"330\" y=\"15\" /><use href=\"#white-rook\" transform=\"translate(15, 330)\" xlink:href=\"#white-rook\" /><use href=\"#white-knight\" transform=\"translate(60, 330)\" xlink:href=\"#white-knight\" /><use href=\"#white-bishop\" transform=\"translate(105, 330)\" xlink:href=\"#white-bishop\" /><use href=\"#white-queen\" transform=\"translate(150, 330)\" xlink:href=\"#white-queen\" /><use href=\"#white-king\" transform=\"translate(195, 330)\" xlink:href=\"#white-king\" /><use href=\"#white-bishop\" transform=\"translate(240, 330)\" xlink:href=\"#white-bishop\" /><use href=\"#white-knight\" transform=\"translate(285, 330)\" xlink:href=\"#white-knight\" /><use href=\"#white-rook\" transform=\"translate(330, 330)\" xlink:href=\"#white-rook\" /><use href=\"#white-pawn\" transform=\"translate(15, 285)\" xlink:href=\"#white-pawn\" /><use href=\"#white-pawn\" transform=\"translate(60, 285)\" xlink:href=\"#white-pawn\" /><use href=\"#white-pawn\" transform=\"translate(105, 285)\" xlink:href=\"#white-pawn\" /><use href=\"#white-pawn\" transform=\"translate(150, 285)\" xlink:href=\"#white-pawn\" /><use href=\"#white-pawn\" transform=\"translate(195, 285)\" xlink:href=\"#white-pawn\" /><use href=\"#white-pawn\" transform=\"translate(240, 285)\" xlink:href=\"#white-pawn\" /><use href=\"#white-pawn\" transform=\"translate(285, 285)\" xlink:href=\"#white-pawn\" /><use href=\"#white-pawn\" transform=\"translate(330, 285)\" xlink:href=\"#white-pawn\" /><use href=\"#black-pawn\" transform=\"translate(15, 60)\" xlink:href=\"#black-pawn\" /><use href=\"#black-pawn\" transform=\"translate(60, 60)\" xlink:href=\"#black-pawn\" /><use href=\"#black-pawn\" transform=\"translate(105, 60)\" xlink:href=\"#black-pawn\" /><use href=\"#black-pawn\" transform=\"translate(150, 60)\" xlink:href=\"#black-pawn\" /><use href=\"#black-pawn\" transform=\"translate(195, 60)\" xlink:href=\"#black-pawn\" /><use href=\"#black-pawn\" transform=\"translate(240, 60)\" xlink:href=\"#black-pawn\" /><use href=\"#black-pawn\" transform=\"translate(285, 60)\" xlink:href=\"#black-pawn\" /><use href=\"#black-pawn\" transform=\"translate(330, 60)\" xlink:href=\"#black-pawn\" /><use href=\"#black-rook\" transform=\"translate(15, 15)\" xlink:href=\"#black-rook\" /><use href=\"#black-knight\" transform=\"translate(60, 15)\" xlink:href=\"#black-knight\" /><use href=\"#black-bishop\" transform=\"translate(105, 15)\" xlink:href=\"#black-bishop\" /><use href=\"#black-queen\" transform=\"translate(150, 15)\" xlink:href=\"#black-queen\" /><use href=\"#black-king\" transform=\"translate(195, 15)\" xlink:href=\"#black-king\" /><use href=\"#black-bishop\" transform=\"translate(240, 15)\" xlink:href=\"#black-bishop\" /><use href=\"#black-knight\" transform=\"translate(285, 15)\" xlink:href=\"#black-knight\" /><use href=\"#black-rook\" transform=\"translate(330, 15)\" xlink:href=\"#black-rook\" /></svg>"
          },
          "metadata": {
            "tags": []
          },
          "execution_count": 6
        }
      ]
    },
    {
      "cell_type": "code",
      "metadata": {
        "id": "5nHhYsauH2ry",
        "colab": {
          "base_uri": "https://localhost:8080/",
          "height": 410
        },
        "outputId": "eb122532-100c-4d30-9249-2fa8b20c38b2"
      },
      "source": [
        "board.push_san(\"e4\")\n",
        "board"
      ],
      "execution_count": 7,
      "outputs": [
        {
          "output_type": "execute_result",
          "data": {
            "text/plain": [
              "Board('rnbqkbnr/pppppppp/8/8/4P3/8/PPPP1PPP/RNBQKBNR b KQkq - 0 1')"
            ],
            "image/svg+xml": "<svg baseProfile=\"tiny\" height=\"390\" version=\"1.2\" viewBox=\"0 0 390 390\" width=\"390\" xmlns=\"http://www.w3.org/2000/svg\" xmlns:xlink=\"http://www.w3.org/1999/xlink\"><defs><g class=\"white pawn\" id=\"white-pawn\"><path d=\"M22.5 9c-2.21 0-4 1.79-4 4 0 .89.29 1.71.78 2.38C17.33 16.5 16 18.59 16 21c0 2.03.94 3.84 2.41 5.03-3 1.06-7.41 5.55-7.41 13.47h23c0-7.92-4.41-12.41-7.41-13.47 1.47-1.19 2.41-3 2.41-5.03 0-2.41-1.33-4.5-3.28-5.62.49-.67.78-1.49.78-2.38 0-2.21-1.79-4-4-4z\" fill=\"#fff\" stroke=\"#000\" stroke-linecap=\"round\" stroke-width=\"1.5\" /></g><g class=\"white knight\" fill=\"none\" fill-rule=\"evenodd\" id=\"white-knight\" stroke=\"#000\" stroke-linecap=\"round\" stroke-linejoin=\"round\" stroke-width=\"1.5\"><path d=\"M 22,10 C 32.5,11 38.5,18 38,39 L 15,39 C 15,30 25,32.5 23,18\" style=\"fill:#ffffff; stroke:#000000;\" /><path d=\"M 24,18 C 24.38,20.91 18.45,25.37 16,27 C 13,29 13.18,31.34 11,31 C 9.958,30.06 12.41,27.96 11,28 C 10,28 11.19,29.23 10,30 C 9,30 5.997,31 6,26 C 6,24 12,14 12,14 C 12,14 13.89,12.1 14,10.5 C 13.27,9.506 13.5,8.5 13.5,7.5 C 14.5,6.5 16.5,10 16.5,10 L 18.5,10 C 18.5,10 19.28,8.008 21,7 C 22,7 22,10 22,10\" style=\"fill:#ffffff; stroke:#000000;\" /><path d=\"M 9.5 25.5 A 0.5 0.5 0 1 1 8.5,25.5 A 0.5 0.5 0 1 1 9.5 25.5 z\" style=\"fill:#000000; stroke:#000000;\" /><path d=\"M 15 15.5 A 0.5 1.5 0 1 1 14,15.5 A 0.5 1.5 0 1 1 15 15.5 z\" style=\"fill:#000000; stroke:#000000;\" transform=\"matrix(0.866,0.5,-0.5,0.866,9.693,-5.173)\" /></g><g class=\"white bishop\" fill=\"none\" fill-rule=\"evenodd\" id=\"white-bishop\" stroke=\"#000\" stroke-linecap=\"round\" stroke-linejoin=\"round\" stroke-width=\"1.5\"><g fill=\"#fff\" stroke-linecap=\"butt\"><path d=\"M9 36c3.39-.97 10.11.43 13.5-2 3.39 2.43 10.11 1.03 13.5 2 0 0 1.65.54 3 2-.68.97-1.65.99-3 .5-3.39-.97-10.11.46-13.5-1-3.39 1.46-10.11.03-13.5 1-1.354.49-2.323.47-3-.5 1.354-1.94 3-2 3-2zM15 32c2.5 2.5 12.5 2.5 15 0 .5-1.5 0-2 0-2 0-2.5-2.5-4-2.5-4 5.5-1.5 6-11.5-5-15.5-11 4-10.5 14-5 15.5 0 0-2.5 1.5-2.5 4 0 0-.5.5 0 2zM25 8a2.5 2.5 0 1 1-5 0 2.5 2.5 0 1 1 5 0z\" /></g><path d=\"M17.5 26h10M15 30h15m-7.5-14.5v5M20 18h5\" stroke-linejoin=\"miter\" /></g><g class=\"white rook\" fill=\"#fff\" fill-rule=\"evenodd\" id=\"white-rook\" stroke=\"#000\" stroke-linecap=\"round\" stroke-linejoin=\"round\" stroke-width=\"1.5\"><path d=\"M9 39h27v-3H9v3zM12 36v-4h21v4H12zM11 14V9h4v2h5V9h5v2h5V9h4v5\" stroke-linecap=\"butt\" /><path d=\"M34 14l-3 3H14l-3-3\" /><path d=\"M31 17v12.5H14V17\" stroke-linecap=\"butt\" stroke-linejoin=\"miter\" /><path d=\"M31 29.5l1.5 2.5h-20l1.5-2.5\" /><path d=\"M11 14h23\" fill=\"none\" stroke-linejoin=\"miter\" /></g><g class=\"white queen\" fill=\"#fff\" fill-rule=\"evenodd\" id=\"white-queen\" stroke=\"#000\" stroke-linecap=\"round\" stroke-linejoin=\"round\" stroke-width=\"1.5\"><path d=\"M8 12a2 2 0 1 1-4 0 2 2 0 1 1 4 0zM24.5 7.5a2 2 0 1 1-4 0 2 2 0 1 1 4 0zM41 12a2 2 0 1 1-4 0 2 2 0 1 1 4 0zM16 8.5a2 2 0 1 1-4 0 2 2 0 1 1 4 0zM33 9a2 2 0 1 1-4 0 2 2 0 1 1 4 0z\" /><path d=\"M9 26c8.5-1.5 21-1.5 27 0l2-12-7 11V11l-5.5 13.5-3-15-3 15-5.5-14V25L7 14l2 12zM9 26c0 2 1.5 2 2.5 4 1 1.5 1 1 .5 3.5-1.5 1-1.5 2.5-1.5 2.5-1.5 1.5.5 2.5.5 2.5 6.5 1 16.5 1 23 0 0 0 1.5-1 0-2.5 0 0 .5-1.5-1-2.5-.5-2.5-.5-2 .5-3.5 1-2 2.5-2 2.5-4-8.5-1.5-18.5-1.5-27 0z\" stroke-linecap=\"butt\" /><path d=\"M11.5 30c3.5-1 18.5-1 22 0M12 33.5c6-1 15-1 21 0\" fill=\"none\" /></g><g class=\"white king\" fill=\"none\" fill-rule=\"evenodd\" id=\"white-king\" stroke=\"#000\" stroke-linecap=\"round\" stroke-linejoin=\"round\" stroke-width=\"1.5\"><path d=\"M22.5 11.63V6M20 8h5\" stroke-linejoin=\"miter\" /><path d=\"M22.5 25s4.5-7.5 3-10.5c0 0-1-2.5-3-2.5s-3 2.5-3 2.5c-1.5 3 3 10.5 3 10.5\" fill=\"#fff\" stroke-linecap=\"butt\" stroke-linejoin=\"miter\" /><path d=\"M11.5 37c5.5 3.5 15.5 3.5 21 0v-7s9-4.5 6-10.5c-4-6.5-13.5-3.5-16 4V27v-3.5c-3.5-7.5-13-10.5-16-4-3 6 5 10 5 10V37z\" fill=\"#fff\" /><path d=\"M11.5 30c5.5-3 15.5-3 21 0m-21 3.5c5.5-3 15.5-3 21 0m-21 3.5c5.5-3 15.5-3 21 0\" /></g><g class=\"black pawn\" id=\"black-pawn\"><path d=\"M22.5 9c-2.21 0-4 1.79-4 4 0 .89.29 1.71.78 2.38C17.33 16.5 16 18.59 16 21c0 2.03.94 3.84 2.41 5.03-3 1.06-7.41 5.55-7.41 13.47h23c0-7.92-4.41-12.41-7.41-13.47 1.47-1.19 2.41-3 2.41-5.03 0-2.41-1.33-4.5-3.28-5.62.49-.67.78-1.49.78-2.38 0-2.21-1.79-4-4-4z\" stroke=\"#000\" stroke-linecap=\"round\" stroke-width=\"1.5\" /></g><g class=\"black knight\" fill=\"none\" fill-rule=\"evenodd\" id=\"black-knight\" stroke=\"#000\" stroke-linecap=\"round\" stroke-linejoin=\"round\" stroke-width=\"1.5\"><path d=\"M 22,10 C 32.5,11 38.5,18 38,39 L 15,39 C 15,30 25,32.5 23,18\" style=\"fill:#000000; stroke:#000000;\" /><path d=\"M 24,18 C 24.38,20.91 18.45,25.37 16,27 C 13,29 13.18,31.34 11,31 C 9.958,30.06 12.41,27.96 11,28 C 10,28 11.19,29.23 10,30 C 9,30 5.997,31 6,26 C 6,24 12,14 12,14 C 12,14 13.89,12.1 14,10.5 C 13.27,9.506 13.5,8.5 13.5,7.5 C 14.5,6.5 16.5,10 16.5,10 L 18.5,10 C 18.5,10 19.28,8.008 21,7 C 22,7 22,10 22,10\" style=\"fill:#000000; stroke:#000000;\" /><path d=\"M 9.5 25.5 A 0.5 0.5 0 1 1 8.5,25.5 A 0.5 0.5 0 1 1 9.5 25.5 z\" style=\"fill:#ececec; stroke:#ececec;\" /><path d=\"M 15 15.5 A 0.5 1.5 0 1 1 14,15.5 A 0.5 1.5 0 1 1 15 15.5 z\" style=\"fill:#ececec; stroke:#ececec;\" transform=\"matrix(0.866,0.5,-0.5,0.866,9.693,-5.173)\" /><path d=\"M 24.55,10.4 L 24.1,11.85 L 24.6,12 C 27.75,13 30.25,14.49 32.5,18.75 C 34.75,23.01 35.75,29.06 35.25,39 L 35.2,39.5 L 37.45,39.5 L 37.5,39 C 38,28.94 36.62,22.15 34.25,17.66 C 31.88,13.17 28.46,11.02 25.06,10.5 L 24.55,10.4 z \" style=\"fill:#ececec; stroke:none;\" /></g><g class=\"black bishop\" fill=\"none\" fill-rule=\"evenodd\" id=\"black-bishop\" stroke=\"#000\" stroke-linecap=\"round\" stroke-linejoin=\"round\" stroke-width=\"1.5\"><path d=\"M9 36c3.39-.97 10.11.43 13.5-2 3.39 2.43 10.11 1.03 13.5 2 0 0 1.65.54 3 2-.68.97-1.65.99-3 .5-3.39-.97-10.11.46-13.5-1-3.39 1.46-10.11.03-13.5 1-1.354.49-2.323.47-3-.5 1.354-1.94 3-2 3-2zm6-4c2.5 2.5 12.5 2.5 15 0 .5-1.5 0-2 0-2 0-2.5-2.5-4-2.5-4 5.5-1.5 6-11.5-5-15.5-11 4-10.5 14-5 15.5 0 0-2.5 1.5-2.5 4 0 0-.5.5 0 2zM25 8a2.5 2.5 0 1 1-5 0 2.5 2.5 0 1 1 5 0z\" fill=\"#000\" stroke-linecap=\"butt\" /><path d=\"M17.5 26h10M15 30h15m-7.5-14.5v5M20 18h5\" stroke=\"#fff\" stroke-linejoin=\"miter\" /></g><g class=\"black rook\" fill=\"#000\" fill-rule=\"evenodd\" id=\"black-rook\" stroke=\"#000\" stroke-linecap=\"round\" stroke-linejoin=\"round\" stroke-width=\"1.5\"><path d=\"M9 39h27v-3H9v3zM12.5 32l1.5-2.5h17l1.5 2.5h-20zM12 36v-4h21v4H12z\" stroke-linecap=\"butt\" /><path d=\"M14 29.5v-13h17v13H14z\" stroke-linecap=\"butt\" stroke-linejoin=\"miter\" /><path d=\"M14 16.5L11 14h23l-3 2.5H14zM11 14V9h4v2h5V9h5v2h5V9h4v5H11z\" stroke-linecap=\"butt\" /><path d=\"M12 35.5h21M13 31.5h19M14 29.5h17M14 16.5h17M11 14h23\" fill=\"none\" stroke=\"#fff\" stroke-linejoin=\"miter\" stroke-width=\"1\" /></g><g class=\"black queen\" fill=\"#000\" fill-rule=\"evenodd\" id=\"black-queen\" stroke=\"#000\" stroke-linecap=\"round\" stroke-linejoin=\"round\" stroke-width=\"1.5\"><g fill=\"#000\" stroke=\"none\"><circle cx=\"6\" cy=\"12\" r=\"2.75\" /><circle cx=\"14\" cy=\"9\" r=\"2.75\" /><circle cx=\"22.5\" cy=\"8\" r=\"2.75\" /><circle cx=\"31\" cy=\"9\" r=\"2.75\" /><circle cx=\"39\" cy=\"12\" r=\"2.75\" /></g><path d=\"M9 26c8.5-1.5 21-1.5 27 0l2.5-12.5L31 25l-.3-14.1-5.2 13.6-3-14.5-3 14.5-5.2-13.6L14 25 6.5 13.5 9 26zM9 26c0 2 1.5 2 2.5 4 1 1.5 1 1 .5 3.5-1.5 1-1.5 2.5-1.5 2.5-1.5 1.5.5 2.5.5 2.5 6.5 1 16.5 1 23 0 0 0 1.5-1 0-2.5 0 0 .5-1.5-1-2.5-.5-2.5-.5-2 .5-3.5 1-2 2.5-2 2.5-4-8.5-1.5-18.5-1.5-27 0z\" stroke-linecap=\"butt\" /><path d=\"M11 38.5a35 35 1 0 0 23 0\" fill=\"none\" stroke-linecap=\"butt\" /><path d=\"M11 29a35 35 1 0 1 23 0M12.5 31.5h20M11.5 34.5a35 35 1 0 0 22 0M10.5 37.5a35 35 1 0 0 24 0\" fill=\"none\" stroke=\"#fff\" /></g><g class=\"black king\" fill=\"none\" fill-rule=\"evenodd\" id=\"black-king\" stroke=\"#000\" stroke-linecap=\"round\" stroke-linejoin=\"round\" stroke-width=\"1.5\"><path d=\"M22.5 11.63V6\" stroke-linejoin=\"miter\" /><path d=\"M22.5 25s4.5-7.5 3-10.5c0 0-1-2.5-3-2.5s-3 2.5-3 2.5c-1.5 3 3 10.5 3 10.5\" fill=\"#000\" stroke-linecap=\"butt\" stroke-linejoin=\"miter\" /><path d=\"M11.5 37c5.5 3.5 15.5 3.5 21 0v-7s9-4.5 6-10.5c-4-6.5-13.5-3.5-16 4V27v-3.5c-3.5-7.5-13-10.5-16-4-3 6 5 10 5 10V37z\" fill=\"#000\" /><path d=\"M20 8h5\" stroke-linejoin=\"miter\" /><path d=\"M32 29.5s8.5-4 6.03-9.65C34.15 14 25 18 22.5 24.5l.01 2.1-.01-2.1C20 18 9.906 14 6.997 19.85c-2.497 5.65 4.853 9 4.853 9M11.5 30c5.5-3 15.5-3 21 0m-21 3.5c5.5-3 15.5-3 21 0m-21 3.5c5.5-3 15.5-3 21 0\" stroke=\"#fff\" /></g></defs><rect fill=\"#212121\" height=\"390\" width=\"390\" x=\"0\" y=\"0\" /><g fill=\"#e5e5e5\" stroke=\"#e5e5e5\" transform=\"translate(20, 0) scale(0.75, 0.75)\"><path d=\"M23.328 10.016q-1.742 0-2.414.398-.672.398-.672 1.36 0 .765.5 1.218.508.445 1.375.445 1.196 0 1.914-.843.727-.852.727-2.258v-.32zm2.867-.594v4.992h-1.437v-1.328q-.492.797-1.227 1.18-.734.375-1.797.375-1.343 0-2.14-.75-.79-.758-.79-2.024 0-1.476.985-2.226.992-.75 2.953-.75h2.016V8.75q0-.992-.656-1.531-.649-.547-1.829-.547-.75 0-1.46.18-.711.18-1.368.539V6.062q.79-.304 1.532-.453.742-.156 1.445-.156 1.898 0 2.836.984.937.985.937 2.985z\" /></g><g fill=\"#e5e5e5\" stroke=\"#e5e5e5\" transform=\"translate(20, 375) scale(0.75, 0.75)\"><path d=\"M23.328 10.016q-1.742 0-2.414.398-.672.398-.672 1.36 0 .765.5 1.218.508.445 1.375.445 1.196 0 1.914-.843.727-.852.727-2.258v-.32zm2.867-.594v4.992h-1.437v-1.328q-.492.797-1.227 1.18-.734.375-1.797.375-1.343 0-2.14-.75-.79-.758-.79-2.024 0-1.476.985-2.226.992-.75 2.953-.75h2.016V8.75q0-.992-.656-1.531-.649-.547-1.829-.547-.75 0-1.46.18-.711.18-1.368.539V6.062q.79-.304 1.532-.453.742-.156 1.445-.156 1.898 0 2.836.984.937.985.937 2.985z\" /></g><g fill=\"#e5e5e5\" stroke=\"#e5e5e5\" transform=\"translate(65, 0) scale(0.75, 0.75)\"><path d=\"M24.922 10.047q0-1.586-.656-2.485-.649-.906-1.79-.906-1.14 0-1.796.906-.649.899-.649 2.485 0 1.586.649 2.492.656.898 1.797.898 1.14 0 1.789-.898.656-.906.656-2.492zm-4.89-3.055q.452-.781 1.14-1.156.695-.383 1.656-.383 1.594 0 2.586 1.266 1 1.265 1 3.328 0 2.062-1 3.328-.992 1.266-2.586 1.266-.96 0-1.656-.375-.688-.383-1.14-1.164v1.312h-1.446V2.258h1.445z\" /></g><g fill=\"#e5e5e5\" stroke=\"#e5e5e5\" transform=\"translate(65, 375) scale(0.75, 0.75)\"><path d=\"M24.922 10.047q0-1.586-.656-2.485-.649-.906-1.79-.906-1.14 0-1.796.906-.649.899-.649 2.485 0 1.586.649 2.492.656.898 1.797.898 1.14 0 1.789-.898.656-.906.656-2.492zm-4.89-3.055q.452-.781 1.14-1.156.695-.383 1.656-.383 1.594 0 2.586 1.266 1 1.265 1 3.328 0 2.062-1 3.328-.992 1.266-2.586 1.266-.96 0-1.656-.375-.688-.383-1.14-1.164v1.312h-1.446V2.258h1.445z\" /></g><g fill=\"#e5e5e5\" stroke=\"#e5e5e5\" transform=\"translate(110, 0) scale(0.75, 0.75)\"><path d=\"M25.96 6v1.344q-.608-.336-1.226-.5-.609-.172-1.234-.172-1.398 0-2.172.89-.773.883-.773 2.485 0 1.601.773 2.492.774.883 2.172.883.625 0 1.234-.164.618-.172 1.227-.508v1.328q-.602.281-1.25.422-.64.14-1.367.14-1.977 0-3.14-1.242-1.165-1.242-1.165-3.351 0-2.14 1.172-3.367 1.18-1.227 3.227-1.227.664 0 1.296.14.633.134 1.227.407z\" /></g><g fill=\"#e5e5e5\" stroke=\"#e5e5e5\" transform=\"translate(110, 375) scale(0.75, 0.75)\"><path d=\"M25.96 6v1.344q-.608-.336-1.226-.5-.609-.172-1.234-.172-1.398 0-2.172.89-.773.883-.773 2.485 0 1.601.773 2.492.774.883 2.172.883.625 0 1.234-.164.618-.172 1.227-.508v1.328q-.602.281-1.25.422-.64.14-1.367.14-1.977 0-3.14-1.242-1.165-1.242-1.165-3.351 0-2.14 1.172-3.367 1.18-1.227 3.227-1.227.664 0 1.296.14.633.134 1.227.407z\" /></g><g fill=\"#e5e5e5\" stroke=\"#e5e5e5\" transform=\"translate(155, 0) scale(0.75, 0.75)\"><path d=\"M24.973 6.992V2.258h1.437v12.156h-1.437v-1.312q-.453.78-1.149 1.164-.687.375-1.656.375-1.586 0-2.586-1.266-.992-1.266-.992-3.328 0-2.063.992-3.328 1-1.266 2.586-1.266.969 0 1.656.383.696.375 1.149 1.156zm-4.899 3.055q0 1.586.649 2.492.656.898 1.797.898 1.14 0 1.796-.898.657-.906.657-2.492 0-1.586-.657-2.485-.656-.906-1.796-.906-1.141 0-1.797.906-.649.899-.649 2.485z\" /></g><g fill=\"#e5e5e5\" stroke=\"#e5e5e5\" transform=\"translate(155, 375) scale(0.75, 0.75)\"><path d=\"M24.973 6.992V2.258h1.437v12.156h-1.437v-1.312q-.453.78-1.149 1.164-.687.375-1.656.375-1.586 0-2.586-1.266-.992-1.266-.992-3.328 0-2.063.992-3.328 1-1.266 2.586-1.266.969 0 1.656.383.696.375 1.149 1.156zm-4.899 3.055q0 1.586.649 2.492.656.898 1.797.898 1.14 0 1.796-.898.657-.906.657-2.492 0-1.586-.657-2.485-.656-.906-1.796-.906-1.141 0-1.797.906-.649.899-.649 2.485z\" /></g><g fill=\"#e5e5e5\" stroke=\"#e5e5e5\" transform=\"translate(200, 0) scale(0.75, 0.75)\"><path d=\"M26.555 9.68v.703h-6.61q.094 1.484.89 2.265.806.774 2.235.774.828 0 1.602-.203.781-.203 1.547-.61v1.36q-.774.328-1.586.5-.813.172-1.649.172-2.093 0-3.32-1.22-1.219-1.218-1.219-3.296 0-2.148 1.157-3.406 1.164-1.266 3.132-1.266 1.766 0 2.79 1.14 1.03 1.134 1.03 3.087zm-1.438-.422q-.015-1.18-.664-1.883-.64-.703-1.703-.703-1.203 0-1.93.68-.718.68-.828 1.914z\" /></g><g fill=\"#e5e5e5\" stroke=\"#e5e5e5\" transform=\"translate(200, 375) scale(0.75, 0.75)\"><path d=\"M26.555 9.68v.703h-6.61q.094 1.484.89 2.265.806.774 2.235.774.828 0 1.602-.203.781-.203 1.547-.61v1.36q-.774.328-1.586.5-.813.172-1.649.172-2.093 0-3.32-1.22-1.219-1.218-1.219-3.296 0-2.148 1.157-3.406 1.164-1.266 3.132-1.266 1.766 0 2.79 1.14 1.03 1.134 1.03 3.087zm-1.438-.422q-.015-1.18-.664-1.883-.64-.703-1.703-.703-1.203 0-1.93.68-.718.68-.828 1.914z\" /></g><g fill=\"#e5e5e5\" stroke=\"#e5e5e5\" transform=\"translate(245, 0) scale(0.75, 0.75)\"><path d=\"M25.285 2.258v1.195H23.91q-.773 0-1.078.313-.297.312-.297 1.125v.773h2.367v1.117h-2.367v7.633H21.09V6.781h-1.375V5.664h1.375v-.61q0-1.46.68-2.124.68-.672 2.156-.672z\" /></g><g fill=\"#e5e5e5\" stroke=\"#e5e5e5\" transform=\"translate(245, 375) scale(0.75, 0.75)\"><path d=\"M25.285 2.258v1.195H23.91q-.773 0-1.078.313-.297.312-.297 1.125v.773h2.367v1.117h-2.367v7.633H21.09V6.781h-1.375V5.664h1.375v-.61q0-1.46.68-2.124.68-.672 2.156-.672z\" /></g><g fill=\"#e5e5e5\" stroke=\"#e5e5e5\" transform=\"translate(290, 0) scale(0.75, 0.75)\"><path d=\"M24.973 9.937q0-1.562-.649-2.421-.64-.86-1.804-.86-1.157 0-1.805.86-.64.859-.64 2.421 0 1.555.64 2.415.648.859 1.805.859 1.164 0 1.804-.86.649-.859.649-2.414zm1.437 3.391q0 2.234-.992 3.32-.992 1.094-3.04 1.094-.757 0-1.429-.117-.672-.11-1.304-.344v-1.398q.632.344 1.25.508.617.164 1.257.164 1.414 0 2.118-.743.703-.734.703-2.226v-.711q-.446.773-1.141 1.156-.695.383-1.664.383-1.61 0-2.594-1.227-.984-1.226-.984-3.25 0-2.03.984-3.257.985-1.227 2.594-1.227.969 0 1.664.383t1.14 1.156V5.664h1.438z\" /></g><g fill=\"#e5e5e5\" stroke=\"#e5e5e5\" transform=\"translate(290, 375) scale(0.75, 0.75)\"><path d=\"M24.973 9.937q0-1.562-.649-2.421-.64-.86-1.804-.86-1.157 0-1.805.86-.64.859-.64 2.421 0 1.555.64 2.415.648.859 1.805.859 1.164 0 1.804-.86.649-.859.649-2.414zm1.437 3.391q0 2.234-.992 3.32-.992 1.094-3.04 1.094-.757 0-1.429-.117-.672-.11-1.304-.344v-1.398q.632.344 1.25.508.617.164 1.257.164 1.414 0 2.118-.743.703-.734.703-2.226v-.711q-.446.773-1.141 1.156-.695.383-1.664.383-1.61 0-2.594-1.227-.984-1.226-.984-3.25 0-2.03.984-3.257.985-1.227 2.594-1.227.969 0 1.664.383t1.14 1.156V5.664h1.438z\" /></g><g fill=\"#e5e5e5\" stroke=\"#e5e5e5\" transform=\"translate(335, 0) scale(0.75, 0.75)\"><path d=\"M26.164 9.133v5.281h-1.437V9.18q0-1.243-.485-1.86-.484-.617-1.453-.617-1.164 0-1.836.742-.672.742-.672 2.024v4.945h-1.445V2.258h1.445v4.765q.516-.789 1.211-1.18.703-.39 1.617-.39 1.508 0 2.282.938.773.93.773 2.742z\" /></g><g fill=\"#e5e5e5\" stroke=\"#e5e5e5\" transform=\"translate(335, 375) scale(0.75, 0.75)\"><path d=\"M26.164 9.133v5.281h-1.437V9.18q0-1.243-.485-1.86-.484-.617-1.453-.617-1.164 0-1.836.742-.672.742-.672 2.024v4.945h-1.445V2.258h1.445v4.765q.516-.789 1.211-1.18.703-.39 1.617-.39 1.508 0 2.282.938.773.93.773 2.742z\" /></g><g fill=\"#e5e5e5\" stroke=\"#e5e5e5\" transform=\"translate(0, 335) scale(0.75, 0.75)\"><path d=\"M6.754 26.996h2.578v-8.898l-2.805.562v-1.437l2.79-.563h1.578v10.336h2.578v1.328h-6.72z\" /></g><g fill=\"#e5e5e5\" stroke=\"#e5e5e5\" transform=\"translate(375, 335) scale(0.75, 0.75)\"><path d=\"M6.754 26.996h2.578v-8.898l-2.805.562v-1.437l2.79-.563h1.578v10.336h2.578v1.328h-6.72z\" /></g><g fill=\"#e5e5e5\" stroke=\"#e5e5e5\" transform=\"translate(0, 290) scale(0.75, 0.75)\"><path d=\"M8.195 26.996h5.508v1.328H6.297v-1.328q.898-.93 2.445-2.492 1.555-1.57 1.953-2.024.758-.851 1.055-1.437.305-.594.305-1.164 0-.93-.657-1.516-.648-.586-1.695-.586-.742 0-1.57.258-.82.258-1.758.781v-1.593q.953-.383 1.781-.578.828-.196 1.516-.196 1.812 0 2.89.906 1.079.907 1.079 2.422 0 .72-.274 1.368-.265.64-.976 1.515-.196.227-1.243 1.313-1.046 1.078-2.953 3.023z\" /></g><g fill=\"#e5e5e5\" stroke=\"#e5e5e5\" transform=\"translate(375, 290) scale(0.75, 0.75)\"><path d=\"M8.195 26.996h5.508v1.328H6.297v-1.328q.898-.93 2.445-2.492 1.555-1.57 1.953-2.024.758-.851 1.055-1.437.305-.594.305-1.164 0-.93-.657-1.516-.648-.586-1.695-.586-.742 0-1.57.258-.82.258-1.758.781v-1.593q.953-.383 1.781-.578.828-.196 1.516-.196 1.812 0 2.89.906 1.079.907 1.079 2.422 0 .72-.274 1.368-.265.64-.976 1.515-.196.227-1.243 1.313-1.046 1.078-2.953 3.023z\" /></g><g fill=\"#e5e5e5\" stroke=\"#e5e5e5\" transform=\"translate(0, 245) scale(0.75, 0.75)\"><path d=\"M11.434 22.035q1.132.242 1.765 1.008.64.766.64 1.89 0 1.727-1.187 2.672-1.187.946-3.375.946-.734 0-1.515-.149-.774-.14-1.602-.43V26.45q.656.383 1.438.578.78.196 1.632.196 1.485 0 2.258-.586.782-.586.782-1.703 0-1.032-.727-1.61-.719-.586-2.008-.586h-1.36v-1.297h1.423q1.164 0 1.78-.46.618-.47.618-1.344 0-.899-.64-1.375-.633-.485-1.82-.485-.65 0-1.391.141-.743.14-1.633.437V16.95q.898-.25 1.68-.375.788-.125 1.484-.125 1.797 0 2.844.82 1.046.813 1.046 2.204 0 .968-.554 1.64-.555.664-1.578.922z\" /></g><g fill=\"#e5e5e5\" stroke=\"#e5e5e5\" transform=\"translate(375, 245) scale(0.75, 0.75)\"><path d=\"M11.434 22.035q1.132.242 1.765 1.008.64.766.64 1.89 0 1.727-1.187 2.672-1.187.946-3.375.946-.734 0-1.515-.149-.774-.14-1.602-.43V26.45q.656.383 1.438.578.78.196 1.632.196 1.485 0 2.258-.586.782-.586.782-1.703 0-1.032-.727-1.61-.719-.586-2.008-.586h-1.36v-1.297h1.423q1.164 0 1.78-.46.618-.47.618-1.344 0-.899-.64-1.375-.633-.485-1.82-.485-.65 0-1.391.141-.743.14-1.633.437V16.95q.898-.25 1.68-.375.788-.125 1.484-.125 1.797 0 2.844.82 1.046.813 1.046 2.204 0 .968-.554 1.64-.555.664-1.578.922z\" /></g><g fill=\"#e5e5e5\" stroke=\"#e5e5e5\" transform=\"translate(0, 200) scale(0.75, 0.75)\"><path d=\"M11.016 18.035L7.03 24.262h3.985zm-.414-1.375h1.984v7.602h1.664v1.312h-1.664v2.75h-1.57v-2.75H5.75v-1.523z\" /></g><g fill=\"#e5e5e5\" stroke=\"#e5e5e5\" transform=\"translate(375, 200) scale(0.75, 0.75)\"><path d=\"M11.016 18.035L7.03 24.262h3.985zm-.414-1.375h1.984v7.602h1.664v1.312h-1.664v2.75h-1.57v-2.75H5.75v-1.523z\" /></g><g fill=\"#e5e5e5\" stroke=\"#e5e5e5\" transform=\"translate(0, 155) scale(0.75, 0.75)\"><path d=\"M6.719 16.66h6.195v1.328h-4.75v2.86q.344-.118.688-.172.343-.063.687-.063 1.953 0 3.094 1.07 1.14 1.07 1.14 2.899 0 1.883-1.171 2.93-1.172 1.039-3.305 1.039-.735 0-1.5-.125-.758-.125-1.57-.375v-1.586q.703.383 1.453.57.75.188 1.586.188 1.351 0 2.14-.711.79-.711.79-1.93 0-1.219-.79-1.93-.789-.71-2.14-.71-.633 0-1.266.14-.625.14-1.281.438z\" /></g><g fill=\"#e5e5e5\" stroke=\"#e5e5e5\" transform=\"translate(375, 155) scale(0.75, 0.75)\"><path d=\"M6.719 16.66h6.195v1.328h-4.75v2.86q.344-.118.688-.172.343-.063.687-.063 1.953 0 3.094 1.07 1.14 1.07 1.14 2.899 0 1.883-1.171 2.93-1.172 1.039-3.305 1.039-.735 0-1.5-.125-.758-.125-1.57-.375v-1.586q.703.383 1.453.57.75.188 1.586.188 1.351 0 2.14-.711.79-.711.79-1.93 0-1.219-.79-1.93-.789-.71-2.14-.71-.633 0-1.266.14-.625.14-1.281.438z\" /></g><g fill=\"#e5e5e5\" stroke=\"#e5e5e5\" transform=\"translate(0, 110) scale(0.75, 0.75)\"><path d=\"M10.137 21.863q-1.063 0-1.688.727-.617.726-.617 1.992 0 1.258.617 1.992.625.727 1.688.727 1.062 0 1.68-.727.624-.734.624-1.992 0-1.266-.625-1.992-.617-.727-1.68-.727zm3.133-4.945v1.437q-.594-.28-1.204-.43-.601-.148-1.195-.148-1.562 0-2.39 1.055-.82 1.055-.938 3.188.46-.68 1.156-1.04.696-.367 1.531-.367 1.758 0 2.774 1.07 1.023 1.063 1.023 2.899 0 1.797-1.062 2.883-1.063 1.086-2.828 1.086-2.024 0-3.094-1.547-1.07-1.555-1.07-4.5 0-2.766 1.312-4.406 1.313-1.649 3.524-1.649.593 0 1.195.117.61.118 1.266.352z\" /></g><g fill=\"#e5e5e5\" stroke=\"#e5e5e5\" transform=\"translate(375, 110) scale(0.75, 0.75)\"><path d=\"M10.137 21.863q-1.063 0-1.688.727-.617.726-.617 1.992 0 1.258.617 1.992.625.727 1.688.727 1.062 0 1.68-.727.624-.734.624-1.992 0-1.266-.625-1.992-.617-.727-1.68-.727zm3.133-4.945v1.437q-.594-.28-1.204-.43-.601-.148-1.195-.148-1.562 0-2.39 1.055-.82 1.055-.938 3.188.46-.68 1.156-1.04.696-.367 1.531-.367 1.758 0 2.774 1.07 1.023 1.063 1.023 2.899 0 1.797-1.062 2.883-1.063 1.086-2.828 1.086-2.024 0-3.094-1.547-1.07-1.555-1.07-4.5 0-2.766 1.312-4.406 1.313-1.649 3.524-1.649.593 0 1.195.117.61.118 1.266.352z\" /></g><g fill=\"#e5e5e5\" stroke=\"#e5e5e5\" transform=\"translate(0, 65) scale(0.75, 0.75)\"><path d=\"M6.25 16.66h7.5v.672L9.516 28.324H7.867l3.985-10.336H6.25z\" /></g><g fill=\"#e5e5e5\" stroke=\"#e5e5e5\" transform=\"translate(375, 65) scale(0.75, 0.75)\"><path d=\"M6.25 16.66h7.5v.672L9.516 28.324H7.867l3.985-10.336H6.25z\" /></g><g fill=\"#e5e5e5\" stroke=\"#e5e5e5\" transform=\"translate(0, 20) scale(0.75, 0.75)\"><path d=\"M10 22.785q-1.125 0-1.773.602-.641.601-.641 1.656t.64 1.656q.649.602 1.774.602t1.773-.602q.649-.61.649-1.656 0-1.055-.649-1.656-.64-.602-1.773-.602zm-1.578-.672q-1.016-.25-1.586-.945-.563-.695-.563-1.695 0-1.399.993-2.211 1-.813 2.734-.813 1.742 0 2.734.813.993.812.993 2.21 0 1-.57 1.696-.563.695-1.571.945 1.14.266 1.773 1.04.641.773.641 1.89 0 1.695-1.04 2.602-1.03.906-2.96.906t-2.969-.906Q6 26.738 6 25.043q0-1.117.64-1.89.641-.774 1.782-1.04zm-.578-2.492q0 .906.562 1.414.57.508 1.594.508 1.016 0 1.586-.508.578-.508.578-1.414 0-.906-.578-1.414-.57-.508-1.586-.508-1.023 0-1.594.508-.562.508-.562 1.414z\" /></g><g fill=\"#e5e5e5\" stroke=\"#e5e5e5\" transform=\"translate(375, 20) scale(0.75, 0.75)\"><path d=\"M10 22.785q-1.125 0-1.773.602-.641.601-.641 1.656t.64 1.656q.649.602 1.774.602t1.773-.602q.649-.61.649-1.656 0-1.055-.649-1.656-.64-.602-1.773-.602zm-1.578-.672q-1.016-.25-1.586-.945-.563-.695-.563-1.695 0-1.399.993-2.211 1-.813 2.734-.813 1.742 0 2.734.813.993.812.993 2.21 0 1-.57 1.696-.563.695-1.571.945 1.14.266 1.773 1.04.641.773.641 1.89 0 1.695-1.04 2.602-1.03.906-2.96.906t-2.969-.906Q6 26.738 6 25.043q0-1.117.64-1.89.641-.774 1.782-1.04zm-.578-2.492q0 .906.562 1.414.57.508 1.594.508 1.016 0 1.586-.508.578-.508.578-1.414 0-.906-.578-1.414-.57-.508-1.586-.508-1.023 0-1.594.508-.562.508-.562 1.414z\" /></g><rect class=\"square dark a1\" fill=\"#d18b47\" height=\"45\" stroke=\"none\" width=\"45\" x=\"15\" y=\"330\" /><rect class=\"square light b1\" fill=\"#ffce9e\" height=\"45\" stroke=\"none\" width=\"45\" x=\"60\" y=\"330\" /><rect class=\"square dark c1\" fill=\"#d18b47\" height=\"45\" stroke=\"none\" width=\"45\" x=\"105\" y=\"330\" /><rect class=\"square light d1\" fill=\"#ffce9e\" height=\"45\" stroke=\"none\" width=\"45\" x=\"150\" y=\"330\" /><rect class=\"square dark e1\" fill=\"#d18b47\" height=\"45\" stroke=\"none\" width=\"45\" x=\"195\" y=\"330\" /><rect class=\"square light f1\" fill=\"#ffce9e\" height=\"45\" stroke=\"none\" width=\"45\" x=\"240\" y=\"330\" /><rect class=\"square dark g1\" fill=\"#d18b47\" height=\"45\" stroke=\"none\" width=\"45\" x=\"285\" y=\"330\" /><rect class=\"square light h1\" fill=\"#ffce9e\" height=\"45\" stroke=\"none\" width=\"45\" x=\"330\" y=\"330\" /><rect class=\"square light a2\" fill=\"#ffce9e\" height=\"45\" stroke=\"none\" width=\"45\" x=\"15\" y=\"285\" /><rect class=\"square dark b2\" fill=\"#d18b47\" height=\"45\" stroke=\"none\" width=\"45\" x=\"60\" y=\"285\" /><rect class=\"square light c2\" fill=\"#ffce9e\" height=\"45\" stroke=\"none\" width=\"45\" x=\"105\" y=\"285\" /><rect class=\"square dark d2\" fill=\"#d18b47\" height=\"45\" stroke=\"none\" width=\"45\" x=\"150\" y=\"285\" /><rect class=\"square light lastmove e2\" fill=\"#cdd16a\" height=\"45\" stroke=\"none\" width=\"45\" x=\"195\" y=\"285\" /><rect class=\"square dark f2\" fill=\"#d18b47\" height=\"45\" stroke=\"none\" width=\"45\" x=\"240\" y=\"285\" /><rect class=\"square light g2\" fill=\"#ffce9e\" height=\"45\" stroke=\"none\" width=\"45\" x=\"285\" y=\"285\" /><rect class=\"square dark h2\" fill=\"#d18b47\" height=\"45\" stroke=\"none\" width=\"45\" x=\"330\" y=\"285\" /><rect class=\"square dark a3\" fill=\"#d18b47\" height=\"45\" stroke=\"none\" width=\"45\" x=\"15\" y=\"240\" /><rect class=\"square light b3\" fill=\"#ffce9e\" height=\"45\" stroke=\"none\" width=\"45\" x=\"60\" y=\"240\" /><rect class=\"square dark c3\" fill=\"#d18b47\" height=\"45\" stroke=\"none\" width=\"45\" x=\"105\" y=\"240\" /><rect class=\"square light d3\" fill=\"#ffce9e\" height=\"45\" stroke=\"none\" width=\"45\" x=\"150\" y=\"240\" /><rect class=\"square dark e3\" fill=\"#d18b47\" height=\"45\" stroke=\"none\" width=\"45\" x=\"195\" y=\"240\" /><rect class=\"square light f3\" fill=\"#ffce9e\" height=\"45\" stroke=\"none\" width=\"45\" x=\"240\" y=\"240\" /><rect class=\"square dark g3\" fill=\"#d18b47\" height=\"45\" stroke=\"none\" width=\"45\" x=\"285\" y=\"240\" /><rect class=\"square light h3\" fill=\"#ffce9e\" height=\"45\" stroke=\"none\" width=\"45\" x=\"330\" y=\"240\" /><rect class=\"square light a4\" fill=\"#ffce9e\" height=\"45\" stroke=\"none\" width=\"45\" x=\"15\" y=\"195\" /><rect class=\"square dark b4\" fill=\"#d18b47\" height=\"45\" stroke=\"none\" width=\"45\" x=\"60\" y=\"195\" /><rect class=\"square light c4\" fill=\"#ffce9e\" height=\"45\" stroke=\"none\" width=\"45\" x=\"105\" y=\"195\" /><rect class=\"square dark d4\" fill=\"#d18b47\" height=\"45\" stroke=\"none\" width=\"45\" x=\"150\" y=\"195\" /><rect class=\"square light lastmove e4\" fill=\"#cdd16a\" height=\"45\" stroke=\"none\" width=\"45\" x=\"195\" y=\"195\" /><rect class=\"square dark f4\" fill=\"#d18b47\" height=\"45\" stroke=\"none\" width=\"45\" x=\"240\" y=\"195\" /><rect class=\"square light g4\" fill=\"#ffce9e\" height=\"45\" stroke=\"none\" width=\"45\" x=\"285\" y=\"195\" /><rect class=\"square dark h4\" fill=\"#d18b47\" height=\"45\" stroke=\"none\" width=\"45\" x=\"330\" y=\"195\" /><rect class=\"square dark a5\" fill=\"#d18b47\" height=\"45\" stroke=\"none\" width=\"45\" x=\"15\" y=\"150\" /><rect class=\"square light b5\" fill=\"#ffce9e\" height=\"45\" stroke=\"none\" width=\"45\" x=\"60\" y=\"150\" /><rect class=\"square dark c5\" fill=\"#d18b47\" height=\"45\" stroke=\"none\" width=\"45\" x=\"105\" y=\"150\" /><rect class=\"square light d5\" fill=\"#ffce9e\" height=\"45\" stroke=\"none\" width=\"45\" x=\"150\" y=\"150\" /><rect class=\"square dark e5\" fill=\"#d18b47\" height=\"45\" stroke=\"none\" width=\"45\" x=\"195\" y=\"150\" /><rect class=\"square light f5\" fill=\"#ffce9e\" height=\"45\" stroke=\"none\" width=\"45\" x=\"240\" y=\"150\" /><rect class=\"square dark g5\" fill=\"#d18b47\" height=\"45\" stroke=\"none\" width=\"45\" x=\"285\" y=\"150\" /><rect class=\"square light h5\" fill=\"#ffce9e\" height=\"45\" stroke=\"none\" width=\"45\" x=\"330\" y=\"150\" /><rect class=\"square light a6\" fill=\"#ffce9e\" height=\"45\" stroke=\"none\" width=\"45\" x=\"15\" y=\"105\" /><rect class=\"square dark b6\" fill=\"#d18b47\" height=\"45\" stroke=\"none\" width=\"45\" x=\"60\" y=\"105\" /><rect class=\"square light c6\" fill=\"#ffce9e\" height=\"45\" stroke=\"none\" width=\"45\" x=\"105\" y=\"105\" /><rect class=\"square dark d6\" fill=\"#d18b47\" height=\"45\" stroke=\"none\" width=\"45\" x=\"150\" y=\"105\" /><rect class=\"square light e6\" fill=\"#ffce9e\" height=\"45\" stroke=\"none\" width=\"45\" x=\"195\" y=\"105\" /><rect class=\"square dark f6\" fill=\"#d18b47\" height=\"45\" stroke=\"none\" width=\"45\" x=\"240\" y=\"105\" /><rect class=\"square light g6\" fill=\"#ffce9e\" height=\"45\" stroke=\"none\" width=\"45\" x=\"285\" y=\"105\" /><rect class=\"square dark h6\" fill=\"#d18b47\" height=\"45\" stroke=\"none\" width=\"45\" x=\"330\" y=\"105\" /><rect class=\"square dark a7\" fill=\"#d18b47\" height=\"45\" stroke=\"none\" width=\"45\" x=\"15\" y=\"60\" /><rect class=\"square light b7\" fill=\"#ffce9e\" height=\"45\" stroke=\"none\" width=\"45\" x=\"60\" y=\"60\" /><rect class=\"square dark c7\" fill=\"#d18b47\" height=\"45\" stroke=\"none\" width=\"45\" x=\"105\" y=\"60\" /><rect class=\"square light d7\" fill=\"#ffce9e\" height=\"45\" stroke=\"none\" width=\"45\" x=\"150\" y=\"60\" /><rect class=\"square dark e7\" fill=\"#d18b47\" height=\"45\" stroke=\"none\" width=\"45\" x=\"195\" y=\"60\" /><rect class=\"square light f7\" fill=\"#ffce9e\" height=\"45\" stroke=\"none\" width=\"45\" x=\"240\" y=\"60\" /><rect class=\"square dark g7\" fill=\"#d18b47\" height=\"45\" stroke=\"none\" width=\"45\" x=\"285\" y=\"60\" /><rect class=\"square light h7\" fill=\"#ffce9e\" height=\"45\" stroke=\"none\" width=\"45\" x=\"330\" y=\"60\" /><rect class=\"square light a8\" fill=\"#ffce9e\" height=\"45\" stroke=\"none\" width=\"45\" x=\"15\" y=\"15\" /><rect class=\"square dark b8\" fill=\"#d18b47\" height=\"45\" stroke=\"none\" width=\"45\" x=\"60\" y=\"15\" /><rect class=\"square light c8\" fill=\"#ffce9e\" height=\"45\" stroke=\"none\" width=\"45\" x=\"105\" y=\"15\" /><rect class=\"square dark d8\" fill=\"#d18b47\" height=\"45\" stroke=\"none\" width=\"45\" x=\"150\" y=\"15\" /><rect class=\"square light e8\" fill=\"#ffce9e\" height=\"45\" stroke=\"none\" width=\"45\" x=\"195\" y=\"15\" /><rect class=\"square dark f8\" fill=\"#d18b47\" height=\"45\" stroke=\"none\" width=\"45\" x=\"240\" y=\"15\" /><rect class=\"square light g8\" fill=\"#ffce9e\" height=\"45\" stroke=\"none\" width=\"45\" x=\"285\" y=\"15\" /><rect class=\"square dark h8\" fill=\"#d18b47\" height=\"45\" stroke=\"none\" width=\"45\" x=\"330\" y=\"15\" /><use href=\"#white-rook\" transform=\"translate(15, 330)\" xlink:href=\"#white-rook\" /><use href=\"#white-knight\" transform=\"translate(60, 330)\" xlink:href=\"#white-knight\" /><use href=\"#white-bishop\" transform=\"translate(105, 330)\" xlink:href=\"#white-bishop\" /><use href=\"#white-queen\" transform=\"translate(150, 330)\" xlink:href=\"#white-queen\" /><use href=\"#white-king\" transform=\"translate(195, 330)\" xlink:href=\"#white-king\" /><use href=\"#white-bishop\" transform=\"translate(240, 330)\" xlink:href=\"#white-bishop\" /><use href=\"#white-knight\" transform=\"translate(285, 330)\" xlink:href=\"#white-knight\" /><use href=\"#white-rook\" transform=\"translate(330, 330)\" xlink:href=\"#white-rook\" /><use href=\"#white-pawn\" transform=\"translate(15, 285)\" xlink:href=\"#white-pawn\" /><use href=\"#white-pawn\" transform=\"translate(60, 285)\" xlink:href=\"#white-pawn\" /><use href=\"#white-pawn\" transform=\"translate(105, 285)\" xlink:href=\"#white-pawn\" /><use href=\"#white-pawn\" transform=\"translate(150, 285)\" xlink:href=\"#white-pawn\" /><use href=\"#white-pawn\" transform=\"translate(240, 285)\" xlink:href=\"#white-pawn\" /><use href=\"#white-pawn\" transform=\"translate(285, 285)\" xlink:href=\"#white-pawn\" /><use href=\"#white-pawn\" transform=\"translate(330, 285)\" xlink:href=\"#white-pawn\" /><use href=\"#white-pawn\" transform=\"translate(195, 195)\" xlink:href=\"#white-pawn\" /><use href=\"#black-pawn\" transform=\"translate(15, 60)\" xlink:href=\"#black-pawn\" /><use href=\"#black-pawn\" transform=\"translate(60, 60)\" xlink:href=\"#black-pawn\" /><use href=\"#black-pawn\" transform=\"translate(105, 60)\" xlink:href=\"#black-pawn\" /><use href=\"#black-pawn\" transform=\"translate(150, 60)\" xlink:href=\"#black-pawn\" /><use href=\"#black-pawn\" transform=\"translate(195, 60)\" xlink:href=\"#black-pawn\" /><use href=\"#black-pawn\" transform=\"translate(240, 60)\" xlink:href=\"#black-pawn\" /><use href=\"#black-pawn\" transform=\"translate(285, 60)\" xlink:href=\"#black-pawn\" /><use href=\"#black-pawn\" transform=\"translate(330, 60)\" xlink:href=\"#black-pawn\" /><use href=\"#black-rook\" transform=\"translate(15, 15)\" xlink:href=\"#black-rook\" /><use href=\"#black-knight\" transform=\"translate(60, 15)\" xlink:href=\"#black-knight\" /><use href=\"#black-bishop\" transform=\"translate(105, 15)\" xlink:href=\"#black-bishop\" /><use href=\"#black-queen\" transform=\"translate(150, 15)\" xlink:href=\"#black-queen\" /><use href=\"#black-king\" transform=\"translate(195, 15)\" xlink:href=\"#black-king\" /><use href=\"#black-bishop\" transform=\"translate(240, 15)\" xlink:href=\"#black-bishop\" /><use href=\"#black-knight\" transform=\"translate(285, 15)\" xlink:href=\"#black-knight\" /><use href=\"#black-rook\" transform=\"translate(330, 15)\" xlink:href=\"#black-rook\" /></svg>"
          },
          "metadata": {
            "tags": []
          },
          "execution_count": 7
        }
      ]
    },
    {
      "cell_type": "markdown",
      "metadata": {
        "id": "M2o8M-cMRR1m"
      },
      "source": [
        "#DESIGN"
      ]
    },
    {
      "cell_type": "code",
      "metadata": {
        "colab": {
          "base_uri": "https://localhost:8080/"
        },
        "id": "L8OBboulTT90",
        "outputId": "5784c1d7-d55b-4e7d-a77e-3374f99cb44b"
      },
      "source": [
        "!pip install ColabTurtle"
      ],
      "execution_count": 47,
      "outputs": [
        {
          "output_type": "stream",
          "text": [
            "Requirement already satisfied: ColabTurtle in /usr/local/lib/python3.7/dist-packages (2.1.0)\n"
          ],
          "name": "stdout"
        }
      ]
    },
    {
      "cell_type": "code",
      "metadata": {
        "colab": {
          "base_uri": "https://localhost:8080/",
          "height": 520
        },
        "id": "c2CHWfowT_DF",
        "outputId": "93730289-b393-4bb3-d3d5-737a91d41eaf"
      },
      "source": [
        "from ColabTurtle.Turtle import *\n",
        "initializeTurtle()\n",
        "forward(50)\n",
        "left(20)\n",
        "\n",
        "forward(50)\n",
        "left(20)"
      ],
      "execution_count": 48,
      "outputs": [
        {
          "output_type": "display_data",
          "data": {
            "text/html": [
              "\n",
              "      <svg width=\"800\" height=\"500\">\n",
              "        <rect width=\"100%\" height=\"100%\" fill=\"black\"/>\n",
              "        <line x1=\"400\" y1=\"250\" x2=\"400.0\" y2=\"200.0\" stroke-linecap=\"round\" style=\"stroke:white;stroke-width:4\"/><line x1=\"400.0\" y1=\"200.0\" x2=\"382.899\" y2=\"153.015\" stroke-linecap=\"round\" style=\"stroke:white;stroke-width:4\"/>\n",
              "        <g visibility=visible transform=\"rotate(320,382.899,153.015) translate(364.899, 135.015)\">\n",
              "<path style=\" stroke:none;fill-rule:evenodd;fill:white;fill-opacity:1;\" d=\"M 18.214844 0.632812 C 16.109375 1.800781 15.011719 4.074219 15.074219 7.132812 L 15.085938 7.652344 L 14.785156 7.496094 C 13.476562 6.824219 11.957031 6.671875 10.40625 7.066406 C 8.46875 7.550781 6.515625 9.15625 4.394531 11.992188 C 3.0625 13.777344 2.679688 14.636719 3.042969 15.027344 L 3.15625 15.152344 L 3.519531 15.152344 C 4.238281 15.152344 4.828125 14.886719 8.1875 13.039062 C 9.386719 12.378906 10.371094 11.839844 10.378906 11.839844 C 10.386719 11.839844 10.355469 11.929688 10.304688 12.035156 C 9.832031 13.09375 9.257812 14.820312 8.96875 16.078125 C 7.914062 20.652344 8.617188 24.53125 11.070312 27.660156 C 11.351562 28.015625 11.363281 27.914062 10.972656 28.382812 C 8.925781 30.84375 7.945312 33.28125 8.238281 35.1875 C 8.289062 35.527344 8.28125 35.523438 8.917969 35.523438 C 10.941406 35.523438 13.074219 34.207031 15.136719 31.6875 C 15.359375 31.417969 15.328125 31.425781 15.5625 31.574219 C 16.292969 32.042969 18.023438 32.964844 18.175781 32.964844 C 18.335938 32.964844 19.941406 32.210938 20.828125 31.71875 C 20.996094 31.625 21.136719 31.554688 21.136719 31.558594 C 21.203125 31.664062 21.898438 32.414062 22.222656 32.730469 C 23.835938 34.300781 25.5625 35.132812 27.582031 35.300781 C 27.90625 35.328125 27.9375 35.308594 28.007812 34.984375 C 28.382812 33.242188 27.625 30.925781 25.863281 28.425781 L 25.542969 27.96875 L 25.699219 27.785156 C 28.945312 23.960938 29.132812 18.699219 26.257812 11.96875 L 26.207031 11.84375 L 27.945312 12.703125 C 31.53125 14.476562 32.316406 14.800781 33.03125 14.800781 C 33.976562 14.800781 33.78125 13.9375 32.472656 12.292969 C 28.519531 7.355469 25.394531 5.925781 21.921875 7.472656 L 21.558594 7.636719 L 21.578125 7.542969 C 21.699219 6.992188 21.761719 5.742188 21.699219 5.164062 C 21.496094 3.296875 20.664062 1.964844 19.003906 0.855469 C 18.480469 0.503906 18.457031 0.5 18.214844 0.632812\"/>\n",
              "</g>\n",
              "      </svg>\n",
              "    "
            ],
            "text/plain": [
              "<IPython.core.display.HTML object>"
            ]
          },
          "metadata": {
            "tags": []
          }
        }
      ]
    },
    {
      "cell_type": "code",
      "metadata": {
        "id": "OWnRU9GrRtY5"
      },
      "source": [
        "import ColabTurtle.Turtle as tim\n",
        "from random import randint\n",
        "\n",
        "def initializeTimTheTurtle():\n",
        "  initializeTurtle()\n",
        "  penup()\n",
        "  goto(300, 20)\n",
        "  pendown()\n",
        "  tim.right(90)\n",
        "\n",
        "def drawShapes(num_sides):\n",
        "    tim.color(randint(0, 255),randint(0, 255),randint(0, 255))\n",
        "    for _ in range(num_sides):\n",
        "      angle = 360/num_sides\n",
        "      tim.forward(100)\n",
        "      tim.right(angle)\n",
        "    "
      ],
      "execution_count": 49,
      "outputs": []
    },
    {
      "cell_type": "code",
      "metadata": {
        "colab": {
          "base_uri": "https://localhost:8080/",
          "height": 520
        },
        "id": "XXD20TV0VVn9",
        "outputId": "71c20a12-5723-4ec4-add9-5c2629ba5129"
      },
      "source": [
        "initializeTimTheTurtle()"
      ],
      "execution_count": 50,
      "outputs": [
        {
          "output_type": "display_data",
          "data": {
            "text/html": [
              "\n",
              "      <svg width=\"800\" height=\"500\">\n",
              "        <rect width=\"100%\" height=\"100%\" fill=\"black\"/>\n",
              "        \n",
              "        <g visibility=visible transform=\"rotate(90,300,20) translate(282, 2)\">\n",
              "<path style=\" stroke:none;fill-rule:evenodd;fill:white;fill-opacity:1;\" d=\"M 18.214844 0.632812 C 16.109375 1.800781 15.011719 4.074219 15.074219 7.132812 L 15.085938 7.652344 L 14.785156 7.496094 C 13.476562 6.824219 11.957031 6.671875 10.40625 7.066406 C 8.46875 7.550781 6.515625 9.15625 4.394531 11.992188 C 3.0625 13.777344 2.679688 14.636719 3.042969 15.027344 L 3.15625 15.152344 L 3.519531 15.152344 C 4.238281 15.152344 4.828125 14.886719 8.1875 13.039062 C 9.386719 12.378906 10.371094 11.839844 10.378906 11.839844 C 10.386719 11.839844 10.355469 11.929688 10.304688 12.035156 C 9.832031 13.09375 9.257812 14.820312 8.96875 16.078125 C 7.914062 20.652344 8.617188 24.53125 11.070312 27.660156 C 11.351562 28.015625 11.363281 27.914062 10.972656 28.382812 C 8.925781 30.84375 7.945312 33.28125 8.238281 35.1875 C 8.289062 35.527344 8.28125 35.523438 8.917969 35.523438 C 10.941406 35.523438 13.074219 34.207031 15.136719 31.6875 C 15.359375 31.417969 15.328125 31.425781 15.5625 31.574219 C 16.292969 32.042969 18.023438 32.964844 18.175781 32.964844 C 18.335938 32.964844 19.941406 32.210938 20.828125 31.71875 C 20.996094 31.625 21.136719 31.554688 21.136719 31.558594 C 21.203125 31.664062 21.898438 32.414062 22.222656 32.730469 C 23.835938 34.300781 25.5625 35.132812 27.582031 35.300781 C 27.90625 35.328125 27.9375 35.308594 28.007812 34.984375 C 28.382812 33.242188 27.625 30.925781 25.863281 28.425781 L 25.542969 27.96875 L 25.699219 27.785156 C 28.945312 23.960938 29.132812 18.699219 26.257812 11.96875 L 26.207031 11.84375 L 27.945312 12.703125 C 31.53125 14.476562 32.316406 14.800781 33.03125 14.800781 C 33.976562 14.800781 33.78125 13.9375 32.472656 12.292969 C 28.519531 7.355469 25.394531 5.925781 21.921875 7.472656 L 21.558594 7.636719 L 21.578125 7.542969 C 21.699219 6.992188 21.761719 5.742188 21.699219 5.164062 C 21.496094 3.296875 20.664062 1.964844 19.003906 0.855469 C 18.480469 0.503906 18.457031 0.5 18.214844 0.632812\"/>\n",
              "</g>\n",
              "      </svg>\n",
              "    "
            ],
            "text/plain": [
              "<IPython.core.display.HTML object>"
            ]
          },
          "metadata": {
            "tags": []
          }
        }
      ]
    },
    {
      "cell_type": "code",
      "metadata": {
        "colab": {
          "base_uri": "https://localhost:8080/",
          "height": 520
        },
        "id": "VSgUBYLIVYS4",
        "outputId": "f5ff0bd4-5225-4175-c056-d5b504e9b0e2"
      },
      "source": [
        "initializeTimTheTurtle()\n",
        "drawShapes(3)"
      ],
      "execution_count": 51,
      "outputs": [
        {
          "output_type": "display_data",
          "data": {
            "text/html": [
              "\n",
              "      <svg width=\"800\" height=\"500\">\n",
              "        <rect width=\"100%\" height=\"100%\" fill=\"black\"/>\n",
              "        <line x1=\"300\" y1=\"20\" x2=\"400.0\" y2=\"20.0\" stroke-linecap=\"round\" style=\"stroke:rgb(157,19,72);stroke-width:4\"/><line x1=\"400.0\" y1=\"20.0\" x2=\"350.0\" y2=\"106.603\" stroke-linecap=\"round\" style=\"stroke:rgb(157,19,72);stroke-width:4\"/><line x1=\"350.0\" y1=\"106.603\" x2=\"300.0\" y2=\"20.0\" stroke-linecap=\"round\" style=\"stroke:rgb(157,19,72);stroke-width:4\"/>\n",
              "        <g visibility=visible transform=\"rotate(90.0,300.0,20.0) translate(282.0, 2.0)\">\n",
              "<path style=\" stroke:none;fill-rule:evenodd;fill:rgb(157,19,72);fill-opacity:1;\" d=\"M 18.214844 0.632812 C 16.109375 1.800781 15.011719 4.074219 15.074219 7.132812 L 15.085938 7.652344 L 14.785156 7.496094 C 13.476562 6.824219 11.957031 6.671875 10.40625 7.066406 C 8.46875 7.550781 6.515625 9.15625 4.394531 11.992188 C 3.0625 13.777344 2.679688 14.636719 3.042969 15.027344 L 3.15625 15.152344 L 3.519531 15.152344 C 4.238281 15.152344 4.828125 14.886719 8.1875 13.039062 C 9.386719 12.378906 10.371094 11.839844 10.378906 11.839844 C 10.386719 11.839844 10.355469 11.929688 10.304688 12.035156 C 9.832031 13.09375 9.257812 14.820312 8.96875 16.078125 C 7.914062 20.652344 8.617188 24.53125 11.070312 27.660156 C 11.351562 28.015625 11.363281 27.914062 10.972656 28.382812 C 8.925781 30.84375 7.945312 33.28125 8.238281 35.1875 C 8.289062 35.527344 8.28125 35.523438 8.917969 35.523438 C 10.941406 35.523438 13.074219 34.207031 15.136719 31.6875 C 15.359375 31.417969 15.328125 31.425781 15.5625 31.574219 C 16.292969 32.042969 18.023438 32.964844 18.175781 32.964844 C 18.335938 32.964844 19.941406 32.210938 20.828125 31.71875 C 20.996094 31.625 21.136719 31.554688 21.136719 31.558594 C 21.203125 31.664062 21.898438 32.414062 22.222656 32.730469 C 23.835938 34.300781 25.5625 35.132812 27.582031 35.300781 C 27.90625 35.328125 27.9375 35.308594 28.007812 34.984375 C 28.382812 33.242188 27.625 30.925781 25.863281 28.425781 L 25.542969 27.96875 L 25.699219 27.785156 C 28.945312 23.960938 29.132812 18.699219 26.257812 11.96875 L 26.207031 11.84375 L 27.945312 12.703125 C 31.53125 14.476562 32.316406 14.800781 33.03125 14.800781 C 33.976562 14.800781 33.78125 13.9375 32.472656 12.292969 C 28.519531 7.355469 25.394531 5.925781 21.921875 7.472656 L 21.558594 7.636719 L 21.578125 7.542969 C 21.699219 6.992188 21.761719 5.742188 21.699219 5.164062 C 21.496094 3.296875 20.664062 1.964844 19.003906 0.855469 C 18.480469 0.503906 18.457031 0.5 18.214844 0.632812\"/>\n",
              "</g>\n",
              "      </svg>\n",
              "    "
            ],
            "text/plain": [
              "<IPython.core.display.HTML object>"
            ]
          },
          "metadata": {
            "tags": []
          }
        }
      ]
    },
    {
      "cell_type": "code",
      "metadata": {
        "colab": {
          "base_uri": "https://localhost:8080/",
          "height": 520
        },
        "id": "p6d4cgfJVcMI",
        "outputId": "af3c6f1b-662b-4817-9683-4b56112f86d0"
      },
      "source": [
        "initializeTimTheTurtle()\n",
        "drawShapes(4)"
      ],
      "execution_count": 52,
      "outputs": [
        {
          "output_type": "display_data",
          "data": {
            "text/html": [
              "\n",
              "      <svg width=\"800\" height=\"500\">\n",
              "        <rect width=\"100%\" height=\"100%\" fill=\"black\"/>\n",
              "        <line x1=\"300\" y1=\"20\" x2=\"400.0\" y2=\"20.0\" stroke-linecap=\"round\" style=\"stroke:rgb(76,125,70);stroke-width:4\"/><line x1=\"400.0\" y1=\"20.0\" x2=\"400.0\" y2=\"120.0\" stroke-linecap=\"round\" style=\"stroke:rgb(76,125,70);stroke-width:4\"/><line x1=\"400.0\" y1=\"120.0\" x2=\"300.0\" y2=\"120.0\" stroke-linecap=\"round\" style=\"stroke:rgb(76,125,70);stroke-width:4\"/><line x1=\"300.0\" y1=\"120.0\" x2=\"300.0\" y2=\"20.0\" stroke-linecap=\"round\" style=\"stroke:rgb(76,125,70);stroke-width:4\"/>\n",
              "        <g visibility=visible transform=\"rotate(90.0,300.0,20.0) translate(282.0, 2.0)\">\n",
              "<path style=\" stroke:none;fill-rule:evenodd;fill:rgb(76,125,70);fill-opacity:1;\" d=\"M 18.214844 0.632812 C 16.109375 1.800781 15.011719 4.074219 15.074219 7.132812 L 15.085938 7.652344 L 14.785156 7.496094 C 13.476562 6.824219 11.957031 6.671875 10.40625 7.066406 C 8.46875 7.550781 6.515625 9.15625 4.394531 11.992188 C 3.0625 13.777344 2.679688 14.636719 3.042969 15.027344 L 3.15625 15.152344 L 3.519531 15.152344 C 4.238281 15.152344 4.828125 14.886719 8.1875 13.039062 C 9.386719 12.378906 10.371094 11.839844 10.378906 11.839844 C 10.386719 11.839844 10.355469 11.929688 10.304688 12.035156 C 9.832031 13.09375 9.257812 14.820312 8.96875 16.078125 C 7.914062 20.652344 8.617188 24.53125 11.070312 27.660156 C 11.351562 28.015625 11.363281 27.914062 10.972656 28.382812 C 8.925781 30.84375 7.945312 33.28125 8.238281 35.1875 C 8.289062 35.527344 8.28125 35.523438 8.917969 35.523438 C 10.941406 35.523438 13.074219 34.207031 15.136719 31.6875 C 15.359375 31.417969 15.328125 31.425781 15.5625 31.574219 C 16.292969 32.042969 18.023438 32.964844 18.175781 32.964844 C 18.335938 32.964844 19.941406 32.210938 20.828125 31.71875 C 20.996094 31.625 21.136719 31.554688 21.136719 31.558594 C 21.203125 31.664062 21.898438 32.414062 22.222656 32.730469 C 23.835938 34.300781 25.5625 35.132812 27.582031 35.300781 C 27.90625 35.328125 27.9375 35.308594 28.007812 34.984375 C 28.382812 33.242188 27.625 30.925781 25.863281 28.425781 L 25.542969 27.96875 L 25.699219 27.785156 C 28.945312 23.960938 29.132812 18.699219 26.257812 11.96875 L 26.207031 11.84375 L 27.945312 12.703125 C 31.53125 14.476562 32.316406 14.800781 33.03125 14.800781 C 33.976562 14.800781 33.78125 13.9375 32.472656 12.292969 C 28.519531 7.355469 25.394531 5.925781 21.921875 7.472656 L 21.558594 7.636719 L 21.578125 7.542969 C 21.699219 6.992188 21.761719 5.742188 21.699219 5.164062 C 21.496094 3.296875 20.664062 1.964844 19.003906 0.855469 C 18.480469 0.503906 18.457031 0.5 18.214844 0.632812\"/>\n",
              "</g>\n",
              "      </svg>\n",
              "    "
            ],
            "text/plain": [
              "<IPython.core.display.HTML object>"
            ]
          },
          "metadata": {
            "tags": []
          }
        }
      ]
    },
    {
      "cell_type": "code",
      "metadata": {
        "colab": {
          "base_uri": "https://localhost:8080/",
          "height": 626
        },
        "id": "3WUXmNJkVgNV",
        "outputId": "dfd0dfcc-7dd9-484a-fc8d-0298b70ecaec"
      },
      "source": [
        "initializeTimTheTurtle()\n",
        "for num_sides in range(3,9,1):\n",
        "  print(num_sides)\n",
        "  drawShapes(num_sides) \n",
        "bgcolor(\"#efefef\")"
      ],
      "execution_count": 53,
      "outputs": [
        {
          "output_type": "display_data",
          "data": {
            "text/html": [
              "\n",
              "      <svg width=\"800\" height=\"500\">\n",
              "        <rect width=\"100%\" height=\"100%\" fill=\"#efefef\"/>\n",
              "        <line x1=\"300\" y1=\"20\" x2=\"400.0\" y2=\"20.0\" stroke-linecap=\"round\" style=\"stroke:rgb(183,28,22);stroke-width:4\"/><line x1=\"400.0\" y1=\"20.0\" x2=\"350.0\" y2=\"106.603\" stroke-linecap=\"round\" style=\"stroke:rgb(183,28,22);stroke-width:4\"/><line x1=\"350.0\" y1=\"106.603\" x2=\"300.0\" y2=\"20.0\" stroke-linecap=\"round\" style=\"stroke:rgb(183,28,22);stroke-width:4\"/><line x1=\"300.0\" y1=\"20.0\" x2=\"400.0\" y2=\"20.0\" stroke-linecap=\"round\" style=\"stroke:rgb(127,64,123);stroke-width:4\"/><line x1=\"400.0\" y1=\"20.0\" x2=\"400.0\" y2=\"120.0\" stroke-linecap=\"round\" style=\"stroke:rgb(127,64,123);stroke-width:4\"/><line x1=\"400.0\" y1=\"120.0\" x2=\"300.0\" y2=\"120.0\" stroke-linecap=\"round\" style=\"stroke:rgb(127,64,123);stroke-width:4\"/><line x1=\"300.0\" y1=\"120.0\" x2=\"300.0\" y2=\"20.0\" stroke-linecap=\"round\" style=\"stroke:rgb(127,64,123);stroke-width:4\"/><line x1=\"300.0\" y1=\"20.0\" x2=\"400.0\" y2=\"20.0\" stroke-linecap=\"round\" style=\"stroke:rgb(235,11,3);stroke-width:4\"/><line x1=\"400.0\" y1=\"20.0\" x2=\"430.902\" y2=\"115.106\" stroke-linecap=\"round\" style=\"stroke:rgb(235,11,3);stroke-width:4\"/><line x1=\"430.902\" y1=\"115.106\" x2=\"350.0\" y2=\"173.885\" stroke-linecap=\"round\" style=\"stroke:rgb(235,11,3);stroke-width:4\"/><line x1=\"350.0\" y1=\"173.885\" x2=\"269.098\" y2=\"115.106\" stroke-linecap=\"round\" style=\"stroke:rgb(235,11,3);stroke-width:4\"/><line x1=\"269.098\" y1=\"115.106\" x2=\"300.0\" y2=\"20.0\" stroke-linecap=\"round\" style=\"stroke:rgb(235,11,3);stroke-width:4\"/><line x1=\"300.0\" y1=\"20.0\" x2=\"400.0\" y2=\"20.0\" stroke-linecap=\"round\" style=\"stroke:rgb(73,223,136);stroke-width:4\"/><line x1=\"400.0\" y1=\"20.0\" x2=\"450.0\" y2=\"106.603\" stroke-linecap=\"round\" style=\"stroke:rgb(73,223,136);stroke-width:4\"/><line x1=\"450.0\" y1=\"106.603\" x2=\"400.0\" y2=\"193.206\" stroke-linecap=\"round\" style=\"stroke:rgb(73,223,136);stroke-width:4\"/><line x1=\"400.0\" y1=\"193.206\" x2=\"300.0\" y2=\"193.206\" stroke-linecap=\"round\" style=\"stroke:rgb(73,223,136);stroke-width:4\"/><line x1=\"300.0\" y1=\"193.206\" x2=\"250.0\" y2=\"106.603\" stroke-linecap=\"round\" style=\"stroke:rgb(73,223,136);stroke-width:4\"/><line x1=\"250.0\" y1=\"106.603\" x2=\"300.0\" y2=\"20.0\" stroke-linecap=\"round\" style=\"stroke:rgb(73,223,136);stroke-width:4\"/><line x1=\"300.0\" y1=\"20.0\" x2=\"400.0\" y2=\"20.0\" stroke-linecap=\"round\" style=\"stroke:rgb(13,60,93);stroke-width:4\"/><line x1=\"400.0\" y1=\"20.0\" x2=\"462.349\" y2=\"98.183\" stroke-linecap=\"round\" style=\"stroke:rgb(13,60,93);stroke-width:4\"/><line x1=\"462.349\" y1=\"98.183\" x2=\"440.097\" y2=\"195.676\" stroke-linecap=\"round\" style=\"stroke:rgb(13,60,93);stroke-width:4\"/><line x1=\"440.097\" y1=\"195.676\" x2=\"350.0\" y2=\"239.064\" stroke-linecap=\"round\" style=\"stroke:rgb(13,60,93);stroke-width:4\"/><line x1=\"350.0\" y1=\"239.064\" x2=\"259.903\" y2=\"195.676\" stroke-linecap=\"round\" style=\"stroke:rgb(13,60,93);stroke-width:4\"/><line x1=\"259.903\" y1=\"195.676\" x2=\"237.651\" y2=\"98.183\" stroke-linecap=\"round\" style=\"stroke:rgb(13,60,93);stroke-width:4\"/><line x1=\"237.651\" y1=\"98.183\" x2=\"300.0\" y2=\"20.0\" stroke-linecap=\"round\" style=\"stroke:rgb(13,60,93);stroke-width:4\"/><line x1=\"300.0\" y1=\"20.0\" x2=\"400.0\" y2=\"20.0\" stroke-linecap=\"round\" style=\"stroke:rgb(168,180,189);stroke-width:4\"/><line x1=\"400.0\" y1=\"20.0\" x2=\"470.711\" y2=\"90.711\" stroke-linecap=\"round\" style=\"stroke:rgb(168,180,189);stroke-width:4\"/><line x1=\"470.711\" y1=\"90.711\" x2=\"470.711\" y2=\"190.711\" stroke-linecap=\"round\" style=\"stroke:rgb(168,180,189);stroke-width:4\"/><line x1=\"470.711\" y1=\"190.711\" x2=\"400.0\" y2=\"261.422\" stroke-linecap=\"round\" style=\"stroke:rgb(168,180,189);stroke-width:4\"/><line x1=\"400.0\" y1=\"261.422\" x2=\"300.0\" y2=\"261.422\" stroke-linecap=\"round\" style=\"stroke:rgb(168,180,189);stroke-width:4\"/><line x1=\"300.0\" y1=\"261.422\" x2=\"229.289\" y2=\"190.711\" stroke-linecap=\"round\" style=\"stroke:rgb(168,180,189);stroke-width:4\"/><line x1=\"229.289\" y1=\"190.711\" x2=\"229.289\" y2=\"90.711\" stroke-linecap=\"round\" style=\"stroke:rgb(168,180,189);stroke-width:4\"/><line x1=\"229.289\" y1=\"90.711\" x2=\"300.0\" y2=\"20.0\" stroke-linecap=\"round\" style=\"stroke:rgb(168,180,189);stroke-width:4\"/>\n",
              "        <g visibility=visible transform=\"rotate(90.00000000000006,300.0,20.0) translate(282.0, 2.0)\">\n",
              "<path style=\" stroke:none;fill-rule:evenodd;fill:rgb(168,180,189);fill-opacity:1;\" d=\"M 18.214844 0.632812 C 16.109375 1.800781 15.011719 4.074219 15.074219 7.132812 L 15.085938 7.652344 L 14.785156 7.496094 C 13.476562 6.824219 11.957031 6.671875 10.40625 7.066406 C 8.46875 7.550781 6.515625 9.15625 4.394531 11.992188 C 3.0625 13.777344 2.679688 14.636719 3.042969 15.027344 L 3.15625 15.152344 L 3.519531 15.152344 C 4.238281 15.152344 4.828125 14.886719 8.1875 13.039062 C 9.386719 12.378906 10.371094 11.839844 10.378906 11.839844 C 10.386719 11.839844 10.355469 11.929688 10.304688 12.035156 C 9.832031 13.09375 9.257812 14.820312 8.96875 16.078125 C 7.914062 20.652344 8.617188 24.53125 11.070312 27.660156 C 11.351562 28.015625 11.363281 27.914062 10.972656 28.382812 C 8.925781 30.84375 7.945312 33.28125 8.238281 35.1875 C 8.289062 35.527344 8.28125 35.523438 8.917969 35.523438 C 10.941406 35.523438 13.074219 34.207031 15.136719 31.6875 C 15.359375 31.417969 15.328125 31.425781 15.5625 31.574219 C 16.292969 32.042969 18.023438 32.964844 18.175781 32.964844 C 18.335938 32.964844 19.941406 32.210938 20.828125 31.71875 C 20.996094 31.625 21.136719 31.554688 21.136719 31.558594 C 21.203125 31.664062 21.898438 32.414062 22.222656 32.730469 C 23.835938 34.300781 25.5625 35.132812 27.582031 35.300781 C 27.90625 35.328125 27.9375 35.308594 28.007812 34.984375 C 28.382812 33.242188 27.625 30.925781 25.863281 28.425781 L 25.542969 27.96875 L 25.699219 27.785156 C 28.945312 23.960938 29.132812 18.699219 26.257812 11.96875 L 26.207031 11.84375 L 27.945312 12.703125 C 31.53125 14.476562 32.316406 14.800781 33.03125 14.800781 C 33.976562 14.800781 33.78125 13.9375 32.472656 12.292969 C 28.519531 7.355469 25.394531 5.925781 21.921875 7.472656 L 21.558594 7.636719 L 21.578125 7.542969 C 21.699219 6.992188 21.761719 5.742188 21.699219 5.164062 C 21.496094 3.296875 20.664062 1.964844 19.003906 0.855469 C 18.480469 0.503906 18.457031 0.5 18.214844 0.632812\"/>\n",
              "</g>\n",
              "      </svg>\n",
              "    "
            ],
            "text/plain": [
              "<IPython.core.display.HTML object>"
            ]
          },
          "metadata": {
            "tags": []
          }
        },
        {
          "output_type": "stream",
          "text": [
            "3\n",
            "4\n",
            "5\n",
            "6\n",
            "7\n",
            "8\n"
          ],
          "name": "stdout"
        }
      ]
    },
    {
      "cell_type": "markdown",
      "metadata": {
        "id": "G6zXuv4-Xhh-"
      },
      "source": [
        "#NEWS"
      ]
    },
    {
      "cell_type": "code",
      "metadata": {
        "colab": {
          "base_uri": "https://localhost:8080/"
        },
        "id": "_gilH3_Kp7F0",
        "outputId": "c7e37077-e4ae-42c4-ad2b-1329f0a4b9c4"
      },
      "source": [
        "!pip install GoogleNews"
      ],
      "execution_count": 54,
      "outputs": [
        {
          "output_type": "stream",
          "text": [
            "Requirement already satisfied: GoogleNews in /usr/local/lib/python3.7/dist-packages (1.5.9)\n",
            "Requirement already satisfied: python-dateutil in /usr/local/lib/python3.7/dist-packages (from GoogleNews) (2.8.1)\n",
            "Requirement already satisfied: beautifulsoup4 in /usr/local/lib/python3.7/dist-packages (from GoogleNews) (4.6.3)\n",
            "Requirement already satisfied: dateparser in /usr/local/lib/python3.7/dist-packages (from GoogleNews) (1.0.0)\n",
            "Requirement already satisfied: regex!=2019.02.19 in /usr/local/lib/python3.7/dist-packages (from dateparser->GoogleNews) (2019.12.20)\n",
            "Requirement already satisfied: pytz in /usr/local/lib/python3.7/dist-packages (from dateparser->GoogleNews) (2018.9)\n",
            "Requirement already satisfied: tzlocal in /usr/local/lib/python3.7/dist-packages (from dateparser->GoogleNews) (1.5.1)\n",
            "Requirement already satisfied: six>=1.5 in /usr/local/lib/python3.7/dist-packages (from python-dateutil->GoogleNews) (1.15.0)\n"
          ],
          "name": "stdout"
        }
      ]
    },
    {
      "cell_type": "code",
      "metadata": {
        "colab": {
          "base_uri": "https://localhost:8080/"
        },
        "id": "dIvEyo56rn9C",
        "outputId": "29f4a4b3-c859-4f22-eb19-f5b772e2f018"
      },
      "source": [
        "from GoogleNews import GoogleNews\n",
        "\n",
        "googlenews = GoogleNews()\n",
        "googlenews = GoogleNews('en','d')  #en = lang (english) d = time period\n",
        "\n",
        "googlenews.search(\"Python\")\n",
        "googlenews.getpage(1)\n",
        "\n",
        "googlenews.result()\n",
        "googlenews.gettext()"
      ],
      "execution_count": 56,
      "outputs": [
        {
          "output_type": "execute_result",
          "data": {
            "text/plain": [
              "['Vivo Trailer and Poster Revealed by Netflix',\n",
              " 'Domino Data Lab Announces New Partner Network',\n",
              " 'Used Python: Not for Sale — Ever! - GUNS Magazine',\n",
              " 'AtScale AI-Link Connects Business Intelligence and ...',\n",
              " 'Benefits of Loosely Coupled Deep Learning Serving',\n",
              " 'Report: Bruno Lage has Wolves players doing something they ...',\n",
              " 'Weekend best bets: Globetrotters, Raleigh GalaxyCon :: Out ...',\n",
              " \"'The Green Knight' Review: Monty Python and the Seventh Seal\",\n",
              " 'Boxing orangutans and a dog-drowning dungeon: Shocking ...',\n",
              " '10 Facts About Indiana Jones and the Last Crusade',\n",
              " 'Vivo Trailer and Poster Revealed by Netflix',\n",
              " 'Domino Data Lab Announces New Partner Network',\n",
              " 'Used Python: Not for Sale — Ever! - GUNS Magazine',\n",
              " 'AtScale AI-Link Connects Business Intelligence and ...',\n",
              " 'Benefits of Loosely Coupled Deep Learning Serving',\n",
              " 'Report: Bruno Lage has Wolves players doing something they ...',\n",
              " 'Weekend best bets: Globetrotters, Raleigh GalaxyCon :: Out ...',\n",
              " \"'The Green Knight' Review: Monty Python and the Seventh Seal\",\n",
              " 'Boxing orangutans and a dog-drowning dungeon: Shocking ...',\n",
              " '10 Facts About Indiana Jones and the Last Crusade']"
            ]
          },
          "metadata": {
            "tags": []
          },
          "execution_count": 56
        }
      ]
    },
    {
      "cell_type": "markdown",
      "metadata": {
        "id": "c5BTb4d3wEGS"
      },
      "source": [
        "#NUMERIZER"
      ]
    },
    {
      "cell_type": "code",
      "metadata": {
        "colab": {
          "base_uri": "https://localhost:8080/"
        },
        "id": "8lWB5kqZwPi0",
        "outputId": "aa11d9ed-7b12-41cc-d786-eab05e6114e6"
      },
      "source": [
        "!pip install numerizer"
      ],
      "execution_count": 57,
      "outputs": [
        {
          "output_type": "stream",
          "text": [
            "Requirement already satisfied: numerizer in /usr/local/lib/python3.7/dist-packages (0.2.0)\n"
          ],
          "name": "stdout"
        }
      ]
    },
    {
      "cell_type": "code",
      "metadata": {
        "colab": {
          "base_uri": "https://localhost:8080/"
        },
        "id": "_8PvVWQgwT-S",
        "outputId": "f19afad9-f35d-4ae9-936e-10de40e6f9a6"
      },
      "source": [
        "#importing numerize library\n",
        "from numerizer import numerize\n",
        "print(numerize('one two four'))\n",
        "print(numerize('Fifteen hundred'))\n",
        "print(numerize('Three hundred and Forty five'))\n",
        "print(numerize('Six and one quarter'))\n",
        "print(numerize('Jack is having fifty million'))\n",
        "print(numerize('Three hundred billion'))"
      ],
      "execution_count": 59,
      "outputs": [
        {
          "output_type": "stream",
          "text": [
            "1 2 4\n",
            "1500\n",
            "345\n",
            "6.25\n",
            "Jack is having 50000000\n",
            "300000000000\n"
          ],
          "name": "stdout"
        }
      ]
    },
    {
      "cell_type": "markdown",
      "metadata": {
        "id": "Fnigvw4Twwv9"
      },
      "source": [
        "#FAKER"
      ]
    },
    {
      "cell_type": "code",
      "metadata": {
        "colab": {
          "base_uri": "https://localhost:8080/"
        },
        "id": "QrroVoHewyfH",
        "outputId": "83311ce4-05b1-447e-efac-b7e9e4146826"
      },
      "source": [
        "!pip install Faker"
      ],
      "execution_count": 60,
      "outputs": [
        {
          "output_type": "stream",
          "text": [
            "Requirement already satisfied: Faker in /usr/local/lib/python3.7/dist-packages (8.10.3)\n",
            "Requirement already satisfied: text-unidecode==1.3 in /usr/local/lib/python3.7/dist-packages (from Faker) (1.3)\n",
            "Requirement already satisfied: python-dateutil>=2.4 in /usr/local/lib/python3.7/dist-packages (from Faker) (2.8.1)\n",
            "Requirement already satisfied: six>=1.5 in /usr/local/lib/python3.7/dist-packages (from python-dateutil>=2.4->Faker) (1.15.0)\n"
          ],
          "name": "stdout"
        }
      ]
    },
    {
      "cell_type": "code",
      "metadata": {
        "id": "8NFdhIfoyOZI"
      },
      "source": [
        "from faker import Faker\n",
        "fake = Faker()"
      ],
      "execution_count": 61,
      "outputs": []
    },
    {
      "cell_type": "code",
      "metadata": {
        "colab": {
          "base_uri": "https://localhost:8080/"
        },
        "id": "ZIr4ldgHw2Yn",
        "outputId": "acf2a956-5b24-4884-93a5-dd99e3f22bd5"
      },
      "source": [
        "\n",
        "# Generating fake email\n",
        "print(fake.email()) \n",
        "# Generating fake country name\n",
        "print(fake.country()) \n",
        "# Generating fake name\n",
        "print(fake.name()) \n",
        "# Generating fake text\n",
        "print(fake.text()) \n",
        "# Generating fake lat and lon\n",
        "print(fake.latitude(), fake.longitude())\n",
        "# Generating fake url\n",
        "print(fake.url()) \n",
        "# Generating fake profile\n",
        "print(fake.profile())\n",
        "# Generating random number\n",
        "print(fake.random_number())"
      ],
      "execution_count": 62,
      "outputs": [
        {
          "output_type": "stream",
          "text": [
            "troyramirez@yahoo.com\n",
            "Equatorial Guinea\n",
            "Tina Richard\n",
            "Them travel water size. Detail send international trip read night offer.\n",
            "Per fish game owner spend way ball health. Member stop actually law sing door establish.\n",
            "18.263575 -44.681302\n",
            "https://www.johnston.biz/\n",
            "{'job': 'Medical physicist', 'company': 'Mcdonald, Morales and Wright', 'ssn': '714-90-7799', 'residence': '55111 Jones Burg\\nGonzalezfurt, HI 59239', 'current_location': (Decimal('-66.492032'), Decimal('-141.370948')), 'blood_group': 'O-', 'website': ['http://knight.net/', 'https://www.howe.org/', 'https://www.graves.info/'], 'username': 'morriskristina', 'name': 'Andrew Cuevas', 'sex': 'M', 'address': 'PSC 3430, Box 1065\\nAPO AA 92519', 'mail': 'martinezdana@hotmail.com', 'birthdate': datetime.date(1958, 3, 5)}\n",
            "320\n"
          ],
          "name": "stdout"
        }
      ]
    },
    {
      "cell_type": "markdown",
      "metadata": {
        "id": "ra5UBi4_05jF"
      },
      "source": [
        "#EMOJI"
      ]
    },
    {
      "cell_type": "code",
      "metadata": {
        "colab": {
          "base_uri": "https://localhost:8080/"
        },
        "id": "CmX7lgGi07s7",
        "outputId": "c6f6c69e-1c96-4826-debd-b2ce1925234c"
      },
      "source": [
        "!pip install emoji"
      ],
      "execution_count": 63,
      "outputs": [
        {
          "output_type": "stream",
          "text": [
            "Requirement already satisfied: emoji in /usr/local/lib/python3.7/dist-packages (1.4.1)\n",
            "\u001b[31mERROR: Operation cancelled by user\u001b[0m\n"
          ],
          "name": "stdout"
        }
      ]
    },
    {
      "cell_type": "code",
      "metadata": {
        "colab": {
          "base_uri": "https://localhost:8080/"
        },
        "id": "lB9twaw91HN4",
        "outputId": "f9e1a52e-cc16-438c-d7f2-1573a56881bb"
      },
      "source": [
        "from emoji import emojize\n",
        "print(emojize(\":thumbs_up:\"))\n",
        "print(\"\\U0001f600\")\n",
        "print(\"\\U0001F606\")\n",
        "print(\"\\U0001F923\")"
      ],
      "execution_count": 64,
      "outputs": [
        {
          "output_type": "stream",
          "text": [
            "👍\n",
            "😀\n",
            "😆\n",
            "🤣\n"
          ],
          "name": "stdout"
        }
      ]
    },
    {
      "cell_type": "markdown",
      "metadata": {
        "id": "QyunEfsg1byL"
      },
      "source": [
        "[link text](https://www.webfx.com/tools/emoji-cheat-sheet/)"
      ]
    },
    {
      "cell_type": "markdown",
      "metadata": {
        "id": "-6aCAhic10hf"
      },
      "source": [
        "#HELP"
      ]
    },
    {
      "cell_type": "code",
      "metadata": {
        "colab": {
          "base_uri": "https://localhost:8080/"
        },
        "id": "RDsvQxlA2HFo",
        "outputId": "d9561d5c-84f9-45f0-f515-ea9134195ef5"
      },
      "source": [
        "!pip install wikipedia"
      ],
      "execution_count": 65,
      "outputs": [
        {
          "output_type": "stream",
          "text": [
            "Requirement already satisfied: wikipedia in /usr/local/lib/python3.7/dist-packages (1.4.0)\n",
            "Requirement already satisfied: requests<3.0.0,>=2.0.0 in /usr/local/lib/python3.7/dist-packages (from wikipedia) (2.23.0)\n",
            "Requirement already satisfied: beautifulsoup4 in /usr/local/lib/python3.7/dist-packages (from wikipedia) (4.6.3)\n",
            "Requirement already satisfied: chardet<4,>=3.0.2 in /usr/local/lib/python3.7/dist-packages (from requests<3.0.0,>=2.0.0->wikipedia) (3.0.4)\n",
            "Requirement already satisfied: certifi>=2017.4.17 in /usr/local/lib/python3.7/dist-packages (from requests<3.0.0,>=2.0.0->wikipedia) (2021.5.30)\n",
            "Requirement already satisfied: urllib3!=1.25.0,!=1.25.1,<1.26,>=1.21.1 in /usr/local/lib/python3.7/dist-packages (from requests<3.0.0,>=2.0.0->wikipedia) (1.24.3)\n",
            "Requirement already satisfied: idna<3,>=2.5 in /usr/local/lib/python3.7/dist-packages (from requests<3.0.0,>=2.0.0->wikipedia) (2.10)\n"
          ],
          "name": "stdout"
        }
      ]
    },
    {
      "cell_type": "code",
      "metadata": {
        "colab": {
          "base_uri": "https://localhost:8080/"
        },
        "id": "Lf-cfpGt2MzY",
        "outputId": "3cf015c4-efcd-4709-e14e-79dfbe948780"
      },
      "source": [
        "import wikipedia\n",
        "result = wikipedia.page(\"MachineLearning\")\n",
        "print(result.summary)"
      ],
      "execution_count": 68,
      "outputs": [
        {
          "output_type": "stream",
          "text": [
            "Machine learning (ML) is the study of computer algorithms that improve automatically through experience and by the use of data. It is seen as a part of artificial intelligence. Machine learning algorithms build a model based on sample data, known as \"training data\", in order to make predictions or decisions without being explicitly programmed to do so. Machine learning algorithms are used in a wide variety of applications, such as in medicine, email filtering, speech recognition, and computer vision, where it is difficult or unfeasible to develop conventional algorithms to perform the needed tasks.A subset of machine learning is closely related to computational statistics, which focuses on making predictions using computers; but not all machine learning is statistical learning. The study of mathematical optimization delivers methods, theory and application domains to the field of machine learning. Data mining is a related field of study, focusing on exploratory data analysis through unsupervised learning. In its application across business problems, machine learning is also referred to as predictive analytics.\n",
            "\n",
            "\n"
          ],
          "name": "stdout"
        }
      ]
    },
    {
      "cell_type": "markdown",
      "metadata": {
        "id": "prPye97Yy0in"
      },
      "source": [
        "#NLP"
      ]
    },
    {
      "cell_type": "markdown",
      "metadata": {
        "id": "eAtuCTdky7oU"
      },
      "source": [
        "FuzzyWuzzy"
      ]
    },
    {
      "cell_type": "code",
      "metadata": {
        "colab": {
          "base_uri": "https://localhost:8080/"
        },
        "id": "awIYM5SKy_QS",
        "outputId": "455b8bad-0722-4952-a29d-79812e494826"
      },
      "source": [
        "!pip install fuzzywuzzy"
      ],
      "execution_count": 69,
      "outputs": [
        {
          "output_type": "stream",
          "text": [
            "Requirement already satisfied: fuzzywuzzy in /usr/local/lib/python3.7/dist-packages (0.18.0)\n"
          ],
          "name": "stdout"
        }
      ]
    },
    {
      "cell_type": "code",
      "metadata": {
        "id": "QXIqTlCEzEdQ"
      },
      "source": [
        "from fuzzywuzzy import fuzz"
      ],
      "execution_count": 70,
      "outputs": []
    },
    {
      "cell_type": "code",
      "metadata": {
        "colab": {
          "base_uri": "https://localhost:8080/"
        },
        "id": "c9f3nBmxzJBd",
        "outputId": "86875e16-f8d5-4bb2-d2b3-75cf6b8ef18e"
      },
      "source": [
        "fuzz.ratio(\"Jo is a data analyst\", \"Jo is data scientist\")"
      ],
      "execution_count": 72,
      "outputs": [
        {
          "output_type": "execute_result",
          "data": {
            "text/plain": [
              "70"
            ]
          },
          "metadata": {
            "tags": []
          },
          "execution_count": 72
        }
      ]
    },
    {
      "cell_type": "markdown",
      "metadata": {
        "id": "Q92n37c_zN98"
      },
      "source": [
        "As shown the result “93” means that these two strings have 93% similarity, which is pretty high."
      ]
    },
    {
      "cell_type": "markdown",
      "metadata": {
        "id": "U6VEa5RlUtdB"
      },
      "source": [
        "GOOGLETRANS"
      ]
    },
    {
      "cell_type": "code",
      "metadata": {
        "colab": {
          "base_uri": "https://localhost:8080/"
        },
        "id": "wbVk5J2hUvt0",
        "outputId": "d45e8f32-dd29-4b1e-ecb9-0eb5e3b07cac"
      },
      "source": [
        "!pip install googletrans==3.1.0a0"
      ],
      "execution_count": 73,
      "outputs": [
        {
          "output_type": "stream",
          "text": [
            "Requirement already satisfied: googletrans==3.1.0a0 in /usr/local/lib/python3.7/dist-packages (3.1.0a0)\n",
            "Requirement already satisfied: httpx==0.13.3 in /usr/local/lib/python3.7/dist-packages (from googletrans==3.1.0a0) (0.13.3)\n",
            "Requirement already satisfied: certifi in /usr/local/lib/python3.7/dist-packages (from httpx==0.13.3->googletrans==3.1.0a0) (2021.5.30)\n",
            "Requirement already satisfied: rfc3986<2,>=1.3 in /usr/local/lib/python3.7/dist-packages (from httpx==0.13.3->googletrans==3.1.0a0) (1.5.0)\n",
            "Requirement already satisfied: chardet==3.* in /usr/local/lib/python3.7/dist-packages (from httpx==0.13.3->googletrans==3.1.0a0) (3.0.4)\n",
            "Requirement already satisfied: httpcore==0.9.* in /usr/local/lib/python3.7/dist-packages (from httpx==0.13.3->googletrans==3.1.0a0) (0.9.1)\n",
            "Requirement already satisfied: sniffio in /usr/local/lib/python3.7/dist-packages (from httpx==0.13.3->googletrans==3.1.0a0) (1.2.0)\n",
            "Requirement already satisfied: hstspreload in /usr/local/lib/python3.7/dist-packages (from httpx==0.13.3->googletrans==3.1.0a0) (2021.7.5)\n",
            "Requirement already satisfied: idna==2.* in /usr/local/lib/python3.7/dist-packages (from httpx==0.13.3->googletrans==3.1.0a0) (2.10)\n",
            "Requirement already satisfied: h2==3.* in /usr/local/lib/python3.7/dist-packages (from httpcore==0.9.*->httpx==0.13.3->googletrans==3.1.0a0) (3.2.0)\n",
            "Requirement already satisfied: h11<0.10,>=0.8 in /usr/local/lib/python3.7/dist-packages (from httpcore==0.9.*->httpx==0.13.3->googletrans==3.1.0a0) (0.9.0)\n",
            "Requirement already satisfied: hyperframe<6,>=5.2.0 in /usr/local/lib/python3.7/dist-packages (from h2==3.*->httpcore==0.9.*->httpx==0.13.3->googletrans==3.1.0a0) (5.2.0)\n",
            "Requirement already satisfied: hpack<4,>=3.0 in /usr/local/lib/python3.7/dist-packages (from h2==3.*->httpcore==0.9.*->httpx==0.13.3->googletrans==3.1.0a0) (3.0.0)\n"
          ],
          "name": "stdout"
        }
      ]
    },
    {
      "cell_type": "code",
      "metadata": {
        "colab": {
          "base_uri": "https://localhost:8080/"
        },
        "id": "FoRauaJ9U12D",
        "outputId": "8b5d87a6-2afc-4dc4-e0bb-76df49fa38ca"
      },
      "source": [
        "from googletrans import Translator\n",
        "\n",
        "translater = Translator()\n",
        "\n",
        "out = translater.translate(\"அகர முதல எழுத்தெல்லாம் ஆதி பகவன் முதற்றே உலகு\",dest=\"en\")\n",
        "\n",
        "print(out.text)"
      ],
      "execution_count": 74,
      "outputs": [
        {
          "output_type": "stream",
          "text": [
            "The first letter of the alphabet is the world of Adi Bhagavan\n"
          ],
          "name": "stdout"
        }
      ]
    },
    {
      "cell_type": "code",
      "metadata": {
        "colab": {
          "base_uri": "https://localhost:8080/"
        },
        "id": "sr2Y-a8vh9FY",
        "outputId": "418b0446-0e92-40ad-ed67-c4409bf19404"
      },
      "source": [
        "import math\n",
        "print(math.factorial(5))"
      ],
      "execution_count": 42,
      "outputs": [
        {
          "output_type": "stream",
          "text": [
            "120\n"
          ],
          "name": "stdout"
        }
      ]
    }
  ]
}