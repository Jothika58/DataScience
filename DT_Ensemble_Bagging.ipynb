{
  "nbformat": 4,
  "nbformat_minor": 0,
  "metadata": {
    "kernelspec": {
      "display_name": "Python 3",
      "language": "python",
      "name": "python3"
    },
    "language_info": {
      "codemirror_mode": {
        "name": "ipython",
        "version": 3
      },
      "file_extension": ".py",
      "mimetype": "text/x-python",
      "name": "python",
      "nbconvert_exporter": "python",
      "pygments_lexer": "ipython3",
      "version": "3.6.4"
    },
    "colab": {
      "name": "DT_Ensemble-Bagging.ipynb",
      "provenance": [],
      "collapsed_sections": []
    }
  },
  "cells": [
    {
      "cell_type": "code",
      "metadata": {
        "id": "okw_u5SBnmOt"
      },
      "source": [
        "%matplotlib inline"
      ],
      "execution_count": 1,
      "outputs": []
    },
    {
      "cell_type": "code",
      "metadata": {
        "id": "CNkpIEkJnmOx"
      },
      "source": [
        "import numpy as np"
      ],
      "execution_count": 2,
      "outputs": []
    },
    {
      "cell_type": "code",
      "metadata": {
        "id": "iGqYkw-rnmOx"
      },
      "source": [
        "import pandas as pd"
      ],
      "execution_count": 3,
      "outputs": []
    },
    {
      "cell_type": "code",
      "metadata": {
        "id": "fuDg6IS9nmOy"
      },
      "source": [
        "from sklearn.tree import DecisionTreeClassifier"
      ],
      "execution_count": 4,
      "outputs": []
    },
    {
      "cell_type": "code",
      "metadata": {
        "id": "lQtJTsLanmOz"
      },
      "source": [
        "credit_df = pd.read_csv(\"credit.csv\")"
      ],
      "execution_count": 5,
      "outputs": []
    },
    {
      "cell_type": "code",
      "metadata": {
        "colab": {
          "base_uri": "https://localhost:8080/"
        },
        "id": "tQSnvJAtnmOz",
        "outputId": "238a4724-90b9-437b-e781-851a46751dd1"
      },
      "source": [
        "credit_df.info()  # many columns are of type object i.e. strings. These need to be converted to ordinal type"
      ],
      "execution_count": 6,
      "outputs": [
        {
          "output_type": "stream",
          "text": [
            "<class 'pandas.core.frame.DataFrame'>\n",
            "RangeIndex: 1000 entries, 0 to 999\n",
            "Data columns (total 17 columns):\n",
            " #   Column                Non-Null Count  Dtype \n",
            "---  ------                --------------  ----- \n",
            " 0   checking_balance      1000 non-null   object\n",
            " 1   months_loan_duration  1000 non-null   int64 \n",
            " 2   credit_history        1000 non-null   object\n",
            " 3   purpose               1000 non-null   object\n",
            " 4   amount                1000 non-null   int64 \n",
            " 5   savings_balance       1000 non-null   object\n",
            " 6   employment_duration   1000 non-null   object\n",
            " 7   percent_of_income     1000 non-null   int64 \n",
            " 8   years_at_residence    1000 non-null   int64 \n",
            " 9   age                   1000 non-null   int64 \n",
            " 10  other_credit          1000 non-null   object\n",
            " 11  housing               1000 non-null   object\n",
            " 12  existing_loans_count  1000 non-null   int64 \n",
            " 13  job                   1000 non-null   object\n",
            " 14  dependents            1000 non-null   int64 \n",
            " 15  phone                 1000 non-null   object\n",
            " 16  default               1000 non-null   object\n",
            "dtypes: int64(7), object(10)\n",
            "memory usage: 132.9+ KB\n"
          ],
          "name": "stdout"
        }
      ]
    },
    {
      "cell_type": "code",
      "metadata": {
        "id": "eQjmO1vVnmO1"
      },
      "source": [
        "# Decision tree in Python can take only numerical / categorical colums. It cannot take string / obeject types. \n",
        "# The following code loops through each column and checks if the column type is object then converts those columns\n",
        "# into categorical with each distinct value becoming a category or code.\n",
        "\n",
        "for feature in credit_df.columns: # Loop through all columns in the dataframe\n",
        "    if credit_df[feature].dtype == 'object': # Only apply for columns with categorical strings\n",
        "        credit_df[feature] = pd.Categorical(credit_df[feature]).codes # Replace strings with an integer"
      ],
      "execution_count": 7,
      "outputs": []
    },
    {
      "cell_type": "code",
      "metadata": {
        "colab": {
          "base_uri": "https://localhost:8080/"
        },
        "id": "O7DpPqebnmO2",
        "outputId": "9a2ec9c7-4f73-45a9-9cae-3d6dcd8e9de2"
      },
      "source": [
        "credit_df.info()"
      ],
      "execution_count": 8,
      "outputs": [
        {
          "output_type": "stream",
          "text": [
            "<class 'pandas.core.frame.DataFrame'>\n",
            "RangeIndex: 1000 entries, 0 to 999\n",
            "Data columns (total 17 columns):\n",
            " #   Column                Non-Null Count  Dtype\n",
            "---  ------                --------------  -----\n",
            " 0   checking_balance      1000 non-null   int8 \n",
            " 1   months_loan_duration  1000 non-null   int64\n",
            " 2   credit_history        1000 non-null   int8 \n",
            " 3   purpose               1000 non-null   int8 \n",
            " 4   amount                1000 non-null   int64\n",
            " 5   savings_balance       1000 non-null   int8 \n",
            " 6   employment_duration   1000 non-null   int8 \n",
            " 7   percent_of_income     1000 non-null   int64\n",
            " 8   years_at_residence    1000 non-null   int64\n",
            " 9   age                   1000 non-null   int64\n",
            " 10  other_credit          1000 non-null   int8 \n",
            " 11  housing               1000 non-null   int8 \n",
            " 12  existing_loans_count  1000 non-null   int64\n",
            " 13  job                   1000 non-null   int8 \n",
            " 14  dependents            1000 non-null   int64\n",
            " 15  phone                 1000 non-null   int8 \n",
            " 16  default               1000 non-null   int8 \n",
            "dtypes: int64(7), int8(10)\n",
            "memory usage: 64.6 KB\n"
          ],
          "name": "stdout"
        }
      ]
    },
    {
      "cell_type": "code",
      "metadata": {
        "id": "sMwYwSvwnmO3"
      },
      "source": [
        "# splitting data into training and test set for independent attributes\n",
        "\n",
        "train_set = credit_df.head(700) # Up to the last initial training set row\n",
        "test_set = credit_df.tail(300) # Past the last initial training set row\n",
        "\n",
        "# capture the target column (\"default\") into separate vectors for training set and test set\n",
        "train_labels = train_set.pop(\"default\")\n",
        "test_labels = test_set.pop(\"default\")\n"
      ],
      "execution_count": 9,
      "outputs": []
    },
    {
      "cell_type": "code",
      "metadata": {
        "id": "DMmhoTOsnmO4"
      },
      "source": [
        "# invoking the decision tree classifier function. Using 'entropy' method of finding the split columns. Other option \n",
        "# could be gini index.  Restricting the depth of the tree to 5 (no particular reason for selecting this)\n",
        "\n",
        "#dt_model = DecisionTreeClassifier(criterion = 'entropy' , max_depth = 5, random_state = 100)\n",
        "                                  \n",
        "dt_model = DecisionTreeClassifier(criterion = 'entropy' )"
      ],
      "execution_count": 10,
      "outputs": []
    },
    {
      "cell_type": "code",
      "metadata": {
        "colab": {
          "base_uri": "https://localhost:8080/"
        },
        "id": "fwYHbF2OnmO5",
        "outputId": "97679bb6-80b3-418e-e7a6-2717b35fa6a1"
      },
      "source": [
        "dt_model.fit(train_set, train_labels)"
      ],
      "execution_count": 11,
      "outputs": [
        {
          "output_type": "execute_result",
          "data": {
            "text/plain": [
              "DecisionTreeClassifier(ccp_alpha=0.0, class_weight=None, criterion='entropy',\n",
              "                       max_depth=None, max_features=None, max_leaf_nodes=None,\n",
              "                       min_impurity_decrease=0.0, min_impurity_split=None,\n",
              "                       min_samples_leaf=1, min_samples_split=2,\n",
              "                       min_weight_fraction_leaf=0.0, presort='deprecated',\n",
              "                       random_state=None, splitter='best')"
            ]
          },
          "metadata": {
            "tags": []
          },
          "execution_count": 11
        }
      ]
    },
    {
      "cell_type": "code",
      "metadata": {
        "colab": {
          "base_uri": "https://localhost:8080/"
        },
        "id": "Srq9Y8DknmO6",
        "outputId": "bc4043dc-969c-490b-b970-dcd2da728620"
      },
      "source": [
        "dt_model.score(test_set , test_labels)"
      ],
      "execution_count": 12,
      "outputs": [
        {
          "output_type": "execute_result",
          "data": {
            "text/plain": [
              "0.6833333333333333"
            ]
          },
          "metadata": {
            "tags": []
          },
          "execution_count": 12
        }
      ]
    },
    {
      "cell_type": "code",
      "metadata": {
        "colab": {
          "base_uri": "https://localhost:8080/"
        },
        "id": "nmLr60zgnmO7",
        "outputId": "a27954e6-cfab-4e9c-dbb5-d731161bf70e"
      },
      "source": [
        "dt_model.score(train_set, train_labels)   #Overfit due to large complext tree. No training error , poor test performance"
      ],
      "execution_count": 13,
      "outputs": [
        {
          "output_type": "execute_result",
          "data": {
            "text/plain": [
              "1.0"
            ]
          },
          "metadata": {
            "tags": []
          },
          "execution_count": 13
        }
      ]
    },
    {
      "cell_type": "markdown",
      "metadata": {
        "id": "ZBHdzFxEnmO7"
      },
      "source": [
        "Ensemble Learning - Bagging"
      ]
    },
    {
      "cell_type": "code",
      "metadata": {
        "id": "RKCRgOrtnmO8"
      },
      "source": [
        "credit_labels = credit_df.pop(\"default\")   #For ensemble, you do not need training and test data separately. \n",
        "                                           # bagging can use out of bag records for testing"
      ],
      "execution_count": 14,
      "outputs": []
    },
    {
      "cell_type": "code",
      "metadata": {
        "colab": {
          "base_uri": "https://localhost:8080/"
        },
        "id": "QogXCHpYnmO8",
        "outputId": "5af019ad-b269-4c76-8889-e6d29d6ff6a7"
      },
      "source": [
        "# In the following lines, we call the bagging classifer with oob_score (out of bag score) set to true which false by default\n",
        "# This makes the baggingclassifier use the 37% unused data for testing\n",
        "# Compare the performance of the BGCL with regularized dt above. \n",
        "# Though not required, you can keep separate test data (outside the bootstrap sampling) on which we test the BGCL\n",
        "# \n",
        "\n",
        "from sklearn.ensemble import BaggingClassifier\n",
        "bgcl = BaggingClassifier(n_estimators=50, max_samples=.7 , oob_score=True)\n",
        "\n",
        "bgcl = bgcl.fit(credit_df, credit_labels)\n",
        "print(bgcl.oob_score_)"
      ],
      "execution_count": 15,
      "outputs": [
        {
          "output_type": "stream",
          "text": [
            "0.746\n"
          ],
          "name": "stdout"
        }
      ]
    },
    {
      "cell_type": "markdown",
      "metadata": {
        "collapsed": true,
        "id": "MQuF4FitnmO9"
      },
      "source": [
        "Regularising the Decision Tree"
      ]
    },
    {
      "cell_type": "code",
      "metadata": {
        "colab": {
          "base_uri": "https://localhost:8080/"
        },
        "id": "jow4W9_jnmO9",
        "outputId": "937a34b7-cb82-442c-cd9c-c0c6f6b90e11"
      },
      "source": [
        "dt_model = DecisionTreeClassifier(criterion = 'entropy', class_weight={0:.5,1:.5}, max_depth = 5, min_samples_leaf=5 )\n",
        "dt_model.fit(train_set, train_labels)"
      ],
      "execution_count": 16,
      "outputs": [
        {
          "output_type": "execute_result",
          "data": {
            "text/plain": [
              "DecisionTreeClassifier(ccp_alpha=0.0, class_weight={0: 0.5, 1: 0.5},\n",
              "                       criterion='entropy', max_depth=5, max_features=None,\n",
              "                       max_leaf_nodes=None, min_impurity_decrease=0.0,\n",
              "                       min_impurity_split=None, min_samples_leaf=5,\n",
              "                       min_samples_split=2, min_weight_fraction_leaf=0.0,\n",
              "                       presort='deprecated', random_state=None,\n",
              "                       splitter='best')"
            ]
          },
          "metadata": {
            "tags": []
          },
          "execution_count": 16
        }
      ]
    },
    {
      "cell_type": "code",
      "metadata": {
        "colab": {
          "base_uri": "https://localhost:8080/"
        },
        "id": "9cLSCB9bnmO9",
        "outputId": "101d4824-73ee-47d7-a5e1-b560a92c0164"
      },
      "source": [
        "print(dt_model.score(train_set , train_labels))\n",
        "\n",
        "print(dt_model.score(test_set , test_labels))  # Relatively less overfit as training and test error are similar"
      ],
      "execution_count": 17,
      "outputs": [
        {
          "output_type": "stream",
          "text": [
            "0.7828571428571428\n",
            "0.7233333333333334\n"
          ],
          "name": "stdout"
        }
      ]
    }
  ]
}