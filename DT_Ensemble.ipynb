{
  "nbformat": 4,
  "nbformat_minor": 0,
  "metadata": {
    "kernelspec": {
      "display_name": "Python 3",
      "language": "python",
      "name": "python3"
    },
    "language_info": {
      "codemirror_mode": {
        "name": "ipython",
        "version": 3
      },
      "file_extension": ".py",
      "mimetype": "text/x-python",
      "name": "python",
      "nbconvert_exporter": "python",
      "pygments_lexer": "ipython3",
      "version": "3.6.4"
    },
    "colab": {
      "name": "DT_Ensemble.ipynb",
      "provenance": [],
      "collapsed_sections": []
    }
  },
  "cells": [
    {
      "cell_type": "code",
      "metadata": {
        "id": "-YU-GT3xoToz"
      },
      "source": [
        "%matplotlib inline"
      ],
      "execution_count": 1,
      "outputs": []
    },
    {
      "cell_type": "code",
      "metadata": {
        "id": "hOtT3wfRoTo2"
      },
      "source": [
        "import numpy as np"
      ],
      "execution_count": 2,
      "outputs": []
    },
    {
      "cell_type": "code",
      "metadata": {
        "id": "23YLRar_oTo3"
      },
      "source": [
        "import pandas as pd"
      ],
      "execution_count": 3,
      "outputs": []
    },
    {
      "cell_type": "code",
      "metadata": {
        "id": "1L18OA_CoTo3"
      },
      "source": [
        "from sklearn.tree import DecisionTreeClassifier"
      ],
      "execution_count": 4,
      "outputs": []
    },
    {
      "cell_type": "markdown",
      "metadata": {
        "id": "iB5yaqVaoTo4"
      },
      "source": [
        "from sklearn.feature_extraction.text import CountVectorizer  #DT does not take strings as input for the model fit step...."
      ]
    },
    {
      "cell_type": "code",
      "metadata": {
        "id": "eBbMPUl5oTo4"
      },
      "source": [
        "credit_df = pd.read_csv(\"credit.csv\")"
      ],
      "execution_count": 5,
      "outputs": []
    },
    {
      "cell_type": "code",
      "metadata": {
        "colab": {
          "base_uri": "https://localhost:8080/"
        },
        "id": "C62icNg8oTo4",
        "outputId": "b5e5077c-186b-41ff-bc82-c1eb93ce68a1"
      },
      "source": [
        "credit_df.info()  # many columns are of type object i.e. strings. These need to be converted to ordinal type"
      ],
      "execution_count": 6,
      "outputs": [
        {
          "output_type": "stream",
          "text": [
            "<class 'pandas.core.frame.DataFrame'>\n",
            "RangeIndex: 1000 entries, 0 to 999\n",
            "Data columns (total 17 columns):\n",
            " #   Column                Non-Null Count  Dtype \n",
            "---  ------                --------------  ----- \n",
            " 0   checking_balance      1000 non-null   object\n",
            " 1   months_loan_duration  1000 non-null   int64 \n",
            " 2   credit_history        1000 non-null   object\n",
            " 3   purpose               1000 non-null   object\n",
            " 4   amount                1000 non-null   int64 \n",
            " 5   savings_balance       1000 non-null   object\n",
            " 6   employment_duration   1000 non-null   object\n",
            " 7   percent_of_income     1000 non-null   int64 \n",
            " 8   years_at_residence    1000 non-null   int64 \n",
            " 9   age                   1000 non-null   int64 \n",
            " 10  other_credit          1000 non-null   object\n",
            " 11  housing               1000 non-null   object\n",
            " 12  existing_loans_count  1000 non-null   int64 \n",
            " 13  job                   1000 non-null   object\n",
            " 14  dependents            1000 non-null   int64 \n",
            " 15  phone                 1000 non-null   object\n",
            " 16  default               1000 non-null   object\n",
            "dtypes: int64(7), object(10)\n",
            "memory usage: 132.9+ KB\n"
          ],
          "name": "stdout"
        }
      ]
    },
    {
      "cell_type": "code",
      "metadata": {
        "id": "9e43dnWNoTo5"
      },
      "source": [
        "# Decision tree in Python can take only numerical / categorical colums. It cannot take string / obeject types. \n",
        "# The following code loops through each column and checks if the column type is object then converts those columns\n",
        "# into categorical with each distinct value becoming a category or code.\n",
        "\n",
        "for feature in credit_df.columns: # Loop through all columns in the dataframe\n",
        "    if credit_df[feature].dtype == 'object': # Only apply for columns with categorical strings\n",
        "        credit_df[feature] = pd.Categorical(credit_df[feature]).codes # Replace strings with an integer"
      ],
      "execution_count": 7,
      "outputs": []
    },
    {
      "cell_type": "code",
      "metadata": {
        "colab": {
          "base_uri": "https://localhost:8080/"
        },
        "id": "9GGjU3qpoTo6",
        "outputId": "5a196847-d74c-4bbe-df4b-169b4b0edbba"
      },
      "source": [
        "credit_df.info()"
      ],
      "execution_count": 8,
      "outputs": [
        {
          "output_type": "stream",
          "text": [
            "<class 'pandas.core.frame.DataFrame'>\n",
            "RangeIndex: 1000 entries, 0 to 999\n",
            "Data columns (total 17 columns):\n",
            " #   Column                Non-Null Count  Dtype\n",
            "---  ------                --------------  -----\n",
            " 0   checking_balance      1000 non-null   int8 \n",
            " 1   months_loan_duration  1000 non-null   int64\n",
            " 2   credit_history        1000 non-null   int8 \n",
            " 3   purpose               1000 non-null   int8 \n",
            " 4   amount                1000 non-null   int64\n",
            " 5   savings_balance       1000 non-null   int8 \n",
            " 6   employment_duration   1000 non-null   int8 \n",
            " 7   percent_of_income     1000 non-null   int64\n",
            " 8   years_at_residence    1000 non-null   int64\n",
            " 9   age                   1000 non-null   int64\n",
            " 10  other_credit          1000 non-null   int8 \n",
            " 11  housing               1000 non-null   int8 \n",
            " 12  existing_loans_count  1000 non-null   int64\n",
            " 13  job                   1000 non-null   int8 \n",
            " 14  dependents            1000 non-null   int64\n",
            " 15  phone                 1000 non-null   int8 \n",
            " 16  default               1000 non-null   int8 \n",
            "dtypes: int64(7), int8(10)\n",
            "memory usage: 64.6 KB\n"
          ],
          "name": "stdout"
        }
      ]
    },
    {
      "cell_type": "markdown",
      "metadata": {
        "id": "IzB8uRgPoTo6"
      },
      "source": [
        "col_labels = [ 'checking_balance', 'months_loan_duration' ,'credit_history' , 'purpose, amount', 'savings_balance' , 'employment_duration'\n",
        ", 'percent_of_income', 'years_at_residence', 'age', 'other_credit', 'housing', 'existing_loans_count', 'job', 'dependents', 'phone', 'default']"
      ]
    },
    {
      "cell_type": "markdown",
      "metadata": {
        "id": "d5M24HsHoTo7"
      },
      "source": [
        "train_char_label = ['No', 'Yes']"
      ]
    },
    {
      "cell_type": "code",
      "metadata": {
        "id": "-gr81e6voTo7"
      },
      "source": [
        "# splitting data into training and test set for independent attributes\n",
        "\n",
        "train_set = credit_df.head(500) # Up to the last initial training set row\n",
        "test_set = credit_df.tail(500) # Past the last initial training set row\n",
        "\n",
        "# capture the target column (\"default\") into separate vectors for training set and test set\n",
        "train_labels = train_set.pop(\"default\")\n",
        "test_labels = test_set.pop(\"default\")\n"
      ],
      "execution_count": 9,
      "outputs": []
    },
    {
      "cell_type": "code",
      "metadata": {
        "id": "dOlGe5XUoTo8"
      },
      "source": [
        "# invoking the decision tree classifier function. Using 'entropy' method of finding the split columns. Other option \n",
        "# could be gini index.  Restricting the depth of the tree to 5 (no particular reason for selecting this)\n",
        "\n",
        "#dt_model = DecisionTreeClassifier(criterion = 'entropy' , max_depth = 5, random_state = 100)\n",
        "                                  \n",
        "dt_model = DecisionTreeClassifier(criterion = 'entropy' )"
      ],
      "execution_count": 10,
      "outputs": []
    },
    {
      "cell_type": "code",
      "metadata": {
        "colab": {
          "base_uri": "https://localhost:8080/"
        },
        "id": "bRCGzejioTo8",
        "outputId": "c0d3b78d-f226-4c63-cc3d-f9d4f4cf3780"
      },
      "source": [
        "dt_model.fit(train_set, train_labels )"
      ],
      "execution_count": 11,
      "outputs": [
        {
          "output_type": "execute_result",
          "data": {
            "text/plain": [
              "DecisionTreeClassifier(ccp_alpha=0.0, class_weight=None, criterion='entropy',\n",
              "                       max_depth=None, max_features=None, max_leaf_nodes=None,\n",
              "                       min_impurity_decrease=0.0, min_impurity_split=None,\n",
              "                       min_samples_leaf=1, min_samples_split=2,\n",
              "                       min_weight_fraction_leaf=0.0, presort='deprecated',\n",
              "                       random_state=None, splitter='best')"
            ]
          },
          "metadata": {
            "tags": []
          },
          "execution_count": 11
        }
      ]
    },
    {
      "cell_type": "code",
      "metadata": {
        "colab": {
          "base_uri": "https://localhost:8080/"
        },
        "id": "ALMksF1noTo8",
        "outputId": "b14d2b74-02a7-4dd8-b046-ea9fb708744c"
      },
      "source": [
        "dt_model.score(test_set , test_labels)"
      ],
      "execution_count": 12,
      "outputs": [
        {
          "output_type": "execute_result",
          "data": {
            "text/plain": [
              "0.716"
            ]
          },
          "metadata": {
            "tags": []
          },
          "execution_count": 12
        }
      ]
    },
    {
      "cell_type": "code",
      "metadata": {
        "colab": {
          "base_uri": "https://localhost:8080/"
        },
        "id": "42rM0eZ4oTo9",
        "outputId": "47aaa978-bad3-49ea-fa77-0f1c1aa94ef2"
      },
      "source": [
        "dt_model.score(train_set, train_labels)"
      ],
      "execution_count": 13,
      "outputs": [
        {
          "output_type": "execute_result",
          "data": {
            "text/plain": [
              "1.0"
            ]
          },
          "metadata": {
            "tags": []
          },
          "execution_count": 13
        }
      ]
    },
    {
      "cell_type": "markdown",
      "metadata": {
        "collapsed": true,
        "id": "-8P5cSWHoTo9"
      },
      "source": [
        "Regularising the Decision Tree"
      ]
    },
    {
      "cell_type": "code",
      "metadata": {
        "colab": {
          "base_uri": "https://localhost:8080/"
        },
        "id": "fJCE0j1doTo9",
        "outputId": "d04c7009-66ad-46b3-a46f-73df98996eb9"
      },
      "source": [
        "dt_model = DecisionTreeClassifier(criterion = 'entropy', class_weight={0:.5,1:.5}, max_depth = 5, min_samples_leaf=5 )\n",
        "dt_model.fit(train_set, train_labels)"
      ],
      "execution_count": 14,
      "outputs": [
        {
          "output_type": "execute_result",
          "data": {
            "text/plain": [
              "DecisionTreeClassifier(ccp_alpha=0.0, class_weight={0: 0.5, 1: 0.5},\n",
              "                       criterion='entropy', max_depth=5, max_features=None,\n",
              "                       max_leaf_nodes=None, min_impurity_decrease=0.0,\n",
              "                       min_impurity_split=None, min_samples_leaf=5,\n",
              "                       min_samples_split=2, min_weight_fraction_leaf=0.0,\n",
              "                       presort='deprecated', random_state=None,\n",
              "                       splitter='best')"
            ]
          },
          "metadata": {
            "tags": []
          },
          "execution_count": 14
        }
      ]
    },
    {
      "cell_type": "code",
      "metadata": {
        "colab": {
          "base_uri": "https://localhost:8080/"
        },
        "id": "P0hz6YJDoTo9",
        "outputId": "6531b68a-6f61-4a46-f5cc-f229ce29b67b"
      },
      "source": [
        "print(dt_model.score(train_set , train_labels))\n",
        "\n",
        "print(dt_model.score(test_set , test_labels))"
      ],
      "execution_count": 15,
      "outputs": [
        {
          "output_type": "stream",
          "text": [
            "0.78\n",
            "0.728\n"
          ],
          "name": "stdout"
        }
      ]
    },
    {
      "cell_type": "markdown",
      "metadata": {
        "id": "VGW3AbKjoTo9"
      },
      "source": [
        "Ensemble Learning - Bagging"
      ]
    },
    {
      "cell_type": "code",
      "metadata": {
        "id": "RO-_l--CoTo-"
      },
      "source": [
        "credit_labels = credit_df.pop(\"default\")"
      ],
      "execution_count": 16,
      "outputs": []
    },
    {
      "cell_type": "code",
      "metadata": {
        "colab": {
          "base_uri": "https://localhost:8080/"
        },
        "id": "-UmreVNroTo-",
        "outputId": "921bc7d0-f37a-4d8b-db56-ad14a52b2047"
      },
      "source": [
        "# In the following lines, we call the bagging classifer with oob_score (out of bag score) set to true which false by default\n",
        "# This makes the baggingclassifier use the 37% unused data for testing\n",
        "# Compare the performance of the BGCL with regularized dt above. \n",
        "# Though not required, you can keep separate test data (outside the bootstrap sampling) on which we test the BGCL\n",
        "# \n",
        "\n",
        "from sklearn.ensemble import BaggingClassifier\n",
        "bgcl = BaggingClassifier(n_estimators=100, max_samples=.50 , oob_score=True)\n",
        "\n",
        "bgcl = bgcl.fit(credit_df, credit_labels)\n",
        "print(bgcl.oob_score_)"
      ],
      "execution_count": 17,
      "outputs": [
        {
          "output_type": "stream",
          "text": [
            "0.757\n"
          ],
          "name": "stdout"
        }
      ]
    },
    {
      "cell_type": "markdown",
      "metadata": {
        "collapsed": true,
        "id": "kr-Rt80poTo-"
      },
      "source": [
        "Ensemble Learning - AdaBoosting"
      ]
    },
    {
      "cell_type": "code",
      "metadata": {
        "id": "ztv4rvPdoTo-"
      },
      "source": [
        "from sklearn.ensemble import AdaBoostClassifier\n",
        "abcl = AdaBoostClassifier(base_estimator=dt_model, n_estimators=50)\n",
        "#abcl = AdaBoostClassifier(n_estimators=50)\n",
        "abcl = abcl.fit(train_set, train_labels)\n"
      ],
      "execution_count": 18,
      "outputs": []
    },
    {
      "cell_type": "code",
      "metadata": {
        "colab": {
          "base_uri": "https://localhost:8080/"
        },
        "id": "Yb4vwgqSoTo-",
        "outputId": "31b9f59f-e49d-4502-c174-9af3648abeb9"
      },
      "source": [
        "test_pred = abcl.predict(test_set)\n",
        "abcl.score(test_set , test_labels)"
      ],
      "execution_count": 19,
      "outputs": [
        {
          "output_type": "execute_result",
          "data": {
            "text/plain": [
              "0.708"
            ]
          },
          "metadata": {
            "tags": []
          },
          "execution_count": 19
        }
      ]
    },
    {
      "cell_type": "markdown",
      "metadata": {
        "id": "KS30d2REoTo_"
      },
      "source": [
        "Ensemble Learning - GradientBoost"
      ]
    },
    {
      "cell_type": "code",
      "metadata": {
        "id": "w2YKaRYGoTo_"
      },
      "source": [
        "from sklearn.ensemble import GradientBoostingClassifier\n",
        "gbcl = GradientBoostingClassifier(n_estimators = 50, learning_rate = 0.09, max_depth=5)\n",
        "gbcl = gbcl.fit(train_set, train_labels)"
      ],
      "execution_count": 20,
      "outputs": []
    },
    {
      "cell_type": "code",
      "metadata": {
        "colab": {
          "base_uri": "https://localhost:8080/"
        },
        "id": "GJSHwaN8oTo_",
        "outputId": "bc319ffa-c843-4f29-eb5e-9b8f5c9c8c9b"
      },
      "source": [
        "test_pred = gbcl.predict(test_set)\n",
        "gbcl.score(test_set , test_labels)"
      ],
      "execution_count": 21,
      "outputs": [
        {
          "output_type": "execute_result",
          "data": {
            "text/plain": [
              "0.734"
            ]
          },
          "metadata": {
            "tags": []
          },
          "execution_count": 21
        }
      ]
    },
    {
      "cell_type": "markdown",
      "metadata": {
        "id": "R4aEse0doTo_"
      },
      "source": [
        "Ensemble RandomForest Classifier"
      ]
    },
    {
      "cell_type": "code",
      "metadata": {
        "id": "JKitmIcyoTo_"
      },
      "source": [
        "from sklearn.ensemble import RandomForestClassifier\n",
        "rfcl = RandomForestClassifier(n_estimators = 6)\n",
        "rfcl = rfcl.fit(train_set, train_labels)"
      ],
      "execution_count": 22,
      "outputs": []
    },
    {
      "cell_type": "code",
      "metadata": {
        "colab": {
          "base_uri": "https://localhost:8080/"
        },
        "id": "nh-ydghXoTpA",
        "outputId": "21367c41-657e-4ae1-9ab3-2c7925d76d18"
      },
      "source": [
        "test_pred = rfcl.predict(test_set)\n",
        "rfcl.score(test_set , test_labels)"
      ],
      "execution_count": 23,
      "outputs": [
        {
          "output_type": "execute_result",
          "data": {
            "text/plain": [
              "0.676"
            ]
          },
          "metadata": {
            "tags": []
          },
          "execution_count": 23
        }
      ]
    },
    {
      "cell_type": "code",
      "metadata": {
        "id": "PUUkRb9NoTpA"
      },
      "source": [
        ""
      ],
      "execution_count": 23,
      "outputs": []
    }
  ]
}